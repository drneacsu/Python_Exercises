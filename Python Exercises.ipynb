{
 "cells": [
  {
   "cell_type": "code",
   "execution_count": 5,
   "id": "6174d107",
   "metadata": {},
   "outputs": [
    {
     "name": "stdout",
     "output_type": "stream",
     "text": [
      "['p', 'p', 'p', 'p', 'q', 'q']\n"
     ]
    }
   ],
   "source": [
    "# 1. Write a Python program that iterate over elements repeating each as many times as its count.\n",
    "\n",
    "# Sample Output: ['p', 'p', 'p', 'p', 'q', 'q']\n",
    "\n",
    "\n",
    "dictionary = {\n",
    "              'p' : 4,\n",
    "              'q' : 2,\n",
    "              'r' : 0,\n",
    "              's' : -2\n",
    "             }\n",
    "\n",
    "lista = []\n",
    "\n",
    "for key in dictionary.keys():\n",
    "    value = dictionary[key]\n",
    "    if value > 0:\n",
    "        for i in range(value):\n",
    "            lista.append(key)\n",
    "\n",
    "print(lista)\n",
    "            \n"
   ]
  },
  {
   "cell_type": "code",
   "execution_count": 63,
   "id": "114a9776",
   "metadata": {},
   "outputs": [
    {
     "name": "stdout",
     "output_type": "stream",
     "text": [
      "Python 6\n",
      "the 6\n",
      "and 5\n",
      "We 2\n",
      "with 2\n",
      "The 1\n",
      "Software 1\n",
      "Foundation 1\n",
      "(PSF) 1\n",
      "is 1\n"
     ]
    }
   ],
   "source": [
    "# Problem: Write a Python program to find the occurrences of 10 most common words in a given text. Go to the editor\n",
    "\n",
    "# input:\n",
    "\n",
    "text = \"\"\"The Python Software Foundation (PSF) is a 501(c)(3) non-profit \n",
    "corporation that holds the intellectual property rights behind\n",
    "the Python programming language. We manage the open source licensing \n",
    "for Python version 2.1 and later and own and protect the trademarks \n",
    "associated with Python. We also run the North American PyCon conference \n",
    "annually, support other Python conferences around the world, and \n",
    "fund Python related development with our grants program and by funding \n",
    "special projects.\"\"\"\n",
    "\n",
    "# first step => convert string into list\n",
    "text = text.replace('.', ' ')\n",
    "text = text.replace(',', ' ')\n",
    "text_list = text.split()\n",
    "# print(text_list)\n",
    "\n",
    "\n",
    "def nr_words(text_list):\n",
    "\n",
    "    frequency = {}\n",
    "\n",
    "    for words in text_list:\n",
    "        if words in frequency:\n",
    "            frequency[words] += 1\n",
    "        else:\n",
    "            frequency[words] = 1\n",
    "\n",
    "    return frequency\n",
    "\n",
    "frequency = nr_words(text_list)\n",
    "# print(frequency)\n",
    "\n",
    "def extract_10_words(frequency):\n",
    "    counter = 10\n",
    "    while counter > 0:\n",
    "        max_frequency = max(frequency.values())\n",
    "        for key in frequency.keys():\n",
    "            if frequency[key] == max_frequency and counter > 0:\n",
    "                print(key, max_frequency)\n",
    "                counter -= 1\n",
    "                frequency[key] = -1\n",
    "            \n",
    "    \n",
    "    \n",
    "    \n",
    "extract_10_words(frequency)\n",
    "    \n",
    "    \n",
    "# Output : [('Python', 6), ('the', 6), ('and', 5), ('We', 2), ('with', 2), ('The', 1), ('Software', 1),\n",
    "# ('Foundation', 1), ('PSF', 1), ('is', 1)]\n"
   ]
  },
  {
   "cell_type": "code",
   "execution_count": 4,
   "id": "45dd683a",
   "metadata": {},
   "outputs": [
    {
     "name": "stdout",
     "output_type": "stream",
     "text": [
      "{1: 5, 5: 2, 3: 3, 4: 3, 2: 4}\n"
     ]
    }
   ],
   "source": [
    "# Python program to count the frequency of\n",
    "# elements in a list using a dictionary\n",
    "\n",
    "def CountFrequency(list):\n",
    "\n",
    "# Creating an empty dictionary\n",
    "    freq = {}\n",
    "    \n",
    "    for item in list:\n",
    "        if item in freq:\n",
    "            freq[item] += 1\n",
    "        else:\n",
    "            freq[item] = 1\n",
    "\n",
    "    return freq\n",
    "\n",
    "\n",
    "my_list =[1, 1, 1, 5, 5, 3, 1, 3, 3, 1, 4, 4, 4, 2, 2, 2, 2]\n",
    "\n",
    "freq = CountFrequency(my_list)\n",
    "print(freq)"
   ]
  },
  {
   "cell_type": "code",
   "execution_count": 32,
   "id": "dc6b6d72",
   "metadata": {},
   "outputs": [
    {
     "name": "stdout",
     "output_type": "stream",
     "text": [
      "{1: 2, 2: 3, 3: 1, 4: 1, 5: 2, 6: 1, 7: 1, 9: 1}\n",
      "3\n",
      "most frequent value is : 2\n"
     ]
    }
   ],
   "source": [
    "# Write a Python program to get the frequency of the elements in a given list of lists.\n",
    "\n",
    "# Input:\n",
    "# [[1, 2, 3, 2], [4, 5, 6, 2], [7, 1, 9, 5]]\n",
    "\n",
    "# Output:\n",
    "\n",
    "# Counter({2: 3, 1: 2, 5: 2, 3: 1, 4: 1, 6: 1, 7: 1, 9: 1})\n",
    "\n",
    "lista_liste = [[1, 2, 3, 2], [4, 5, 6, 2], [7, 1, 9, 5]]\n",
    "\n",
    "def calculeaza_frecventa(lista):\n",
    "   \n",
    "\n",
    "    frecvente = {}\n",
    "\n",
    "    for liste in lista:\n",
    "        for items in liste:\n",
    "            if items in frecvente:\n",
    "                frecvente[items] += 1\n",
    "            else:\n",
    "                frecvente[items] = 1\n",
    "    return frecvente\n",
    "\n",
    "\n",
    "# define a function called find_maximum which will retrieve the key coresponding to the most frequent value. \n",
    "\n",
    "def find_maximum(frequencies):\n",
    "    print(max(frequencies.values()))\n",
    "    \n",
    "    most_appearances = max(frequencies.values())\n",
    "    \n",
    "    for key in frequencies:\n",
    "        value = frequencies[key]\n",
    "        if value == most_appearances:\n",
    "            print('most frequent value is :', key)\n",
    "        \n",
    "    \n",
    "frecvente = calculeaza_frecventa(lista_liste) \n",
    "print(frecvente)\n",
    "\n",
    "\n",
    "find_maximum(frecvente)\n",
    "\n"
   ]
  },
  {
   "cell_type": "code",
   "execution_count": 16,
   "id": "74f4fb79",
   "metadata": {},
   "outputs": [
    {
     "name": "stdout",
     "output_type": "stream",
     "text": [
      "{'Green': 1, 'Red': 2, 'Blue': 1, 'Orange': 2, 'Black': 2, 'White': 1}\n"
     ]
    }
   ],
   "source": [
    "\n",
    "# Write a Python program to count the occurrence of each element of a given list.\n",
    "\n",
    "# EXAMPLE 1:\n",
    "\n",
    "# Count the occurrence of each element of the said list:\n",
    "# Counter({'Red': 2, 'Orange': 2, 'Black': 2, 'Green': 1, 'Blue': 1, 'White': 1})\n",
    "\n",
    "# EXAMPLE 2:\n",
    "    \n",
    "# Original List:\n",
    "# [3, 5, 0, 3, 9, 5, 8, 0, 3, 8, 5, 8, 3, 5, 8, 1, 0, 2]\n",
    "\n",
    "# Count the occurrence of each element of the said list:\n",
    "# Counter({3: 4, 5: 4, 8: 4, 0: 3, 9: 1, 1: 1, 2: 1})\n",
    "\n",
    "colours1 = ['Green', 'Red', 'Blue', 'Red', 'Orange', 'Black', 'Black', 'White', 'Orange']\n",
    "\n",
    "colours2 = [3, 5, 0, 3, 9, 5, 8, 0, 3, 8, 5, 8, 3, 5, 8, 1, 0, 2]\n",
    "\n",
    "def calculus_frequency(colours):\n",
    "    \n",
    "    frequency_of_colours = {}\n",
    "    \n",
    "    for eachcolour in colours:\n",
    "        if eachcolour in frequency_of_colours:\n",
    "            frequency_of_colours[eachcolour] += 1\n",
    "        else:\n",
    "            frequency_of_colours[eachcolour] = 1\n",
    "    return frequency_of_colours\n",
    "\n",
    "\n",
    "frequency_of_colours = calculus_frequency(colours1)\n",
    "print(frequency_of_colours)\n",
    "\n"
   ]
  },
  {
   "cell_type": "code",
   "execution_count": 17,
   "id": "a1d61c4d",
   "metadata": {},
   "outputs": [
    {
     "name": "stdout",
     "output_type": "stream",
     "text": [
      "{'Green': 1, 'Red': 2, 'Blue': 1, 'Orange': 2, 'Black': 2, 'White': 1}\n"
     ]
    }
   ],
   "source": [
    "# Option 2\n",
    "\n",
    "colours1 = ['Green', 'Red', 'Blue', 'Red', 'Orange', 'Black', 'Black', 'White', 'Orange']\n",
    "\n",
    "colours2 = [3, 5, 0, 3, 9, 5, 8, 0, 3, 8, 5, 8, 3, 5, 8, 1, 0, 2]\n",
    "\n",
    "    def calculus_frequency(colours):\n",
    "        \n",
    "    frequency_of_colours = {}\n",
    "    \n",
    "    for eachcolour in colours:\n",
    "        if eachcolour not in frequency_of_colours:\n",
    "            frequency_of_colours[eachcolour] = 1\n",
    "        else:\n",
    "            frequency_of_colours[eachcolour] += 1\n",
    "    return frequency_of_colours\n",
    "\n",
    "\n",
    "frequency_of_colours = calculus_frequency(colours1)\n",
    "print(frequency_of_colours)"
   ]
  },
  {
   "cell_type": "code",
   "execution_count": 8,
   "id": "df8e5458",
   "metadata": {},
   "outputs": [
    {
     "name": "stdout",
     "output_type": "stream",
     "text": [
      "[1, 4, 9, 16, 25, 1, 9, 25, 9, 49, 81]\n"
     ]
    },
    {
     "data": {
      "text/plain": [
       "[1, 4, 9, 16, 25, 1, 9, 25, 9, 49, 81]"
      ]
     },
     "execution_count": 8,
     "metadata": {},
     "output_type": "execute_result"
    }
   ],
   "source": [
    "x = [1, 2, 3, 4, 5, 1, 3, 5, 3, 7, 9]\n",
    "\n",
    "#Ex: return each number from the list, squared\n",
    "\n",
    "# Solution 1:\n",
    "\n",
    "squared = [num*num for num in x]\n",
    "print(squared)\n",
    "\n",
    "# Solution 2:\n",
    "\n",
    "def squared_values(number):\n",
    "    \n",
    "    squared = []\n",
    "    \n",
    "    for numbers in number:\n",
    "        squared.append(numbers*numbers)\n",
    "        \n",
    "    return squared\n",
    "        \n",
    "        \n",
    "    \n",
    "squared_values(x)"
   ]
  },
  {
   "cell_type": "code",
   "execution_count": 79,
   "id": "f4694370",
   "metadata": {},
   "outputs": [
    {
     "name": "stdout",
     "output_type": "stream",
     "text": [
      "True\n",
      "False\n"
     ]
    }
   ],
   "source": [
    "# Verify if a string is a palindrome\n",
    "\n",
    "# e_palindrom('ana') -> True\n",
    "# e_palondrom('ok') -> False\n",
    "\n",
    "#EX: 1\n",
    "\n",
    "def e_palindrom(string):\n",
    "    \n",
    "    reversed_string_list = list(reversed(string))\n",
    "    #print(reversed_string_list)\n",
    "    reversed_string = ''.join(reversed_string_list)\n",
    "    #print(reversed_string)\n",
    "    \n",
    "    if string == reversed_string:\n",
    "        return True\n",
    "    else:\n",
    "        return False\n",
    "    \n",
    "print(e_palindrom('ana'))\n",
    "print(e_palindrom('banana'))\n",
    "\n"
   ]
  },
  {
   "cell_type": "code",
   "execution_count": 89,
   "id": "c62ba6b8",
   "metadata": {},
   "outputs": [
    {
     "data": {
      "text/plain": [
       "True"
      ]
     },
     "execution_count": 89,
     "metadata": {},
     "output_type": "execute_result"
    }
   ],
   "source": [
    "# EX: 2\n",
    "\n",
    "def is_palindrome(string):\n",
    "    \n",
    "    i = 0\n",
    "    j = len(string) - 1\n",
    "    \n",
    "    while i < j:\n",
    "        if string[i] != string[j]:\n",
    "            return False\n",
    "        else:\n",
    "            i += 1\n",
    "            j -= 1\n",
    "        \n",
    "    return True\n",
    "          \n",
    "string = 'abbaxabba'\n",
    "is_palindrome(string)"
   ]
  },
  {
   "cell_type": "code",
   "execution_count": 22,
   "id": "cdb56642",
   "metadata": {},
   "outputs": [],
   "source": [
    "\n",
    "# Lots- Electronic components\n",
    "\n",
    "lots_list = [['R', 'C', 'R', 'T', 'C'], ['C', 'R', 'T', 'R', 'T'], ['C', 'C', 'T', 'C', 'C', 'T']]\n",
    "\n",
    "def frecventa_lot(lot):\n",
    "\n",
    "    freq_list = {} # no keys, no values\n",
    "    \n",
    "    for component in lot:\n",
    "        if component in freq_list:\n",
    "            freq_list[component] += 1   #adding values to the keys // freq_list[key]\n",
    "        else:\n",
    "            freq_list[component] = 1\n",
    "    return freq_list\n",
    "            \n",
    "\n",
    "def e_util(freq_list): \n",
    "    \n",
    "    if 'R' not in freq_list or 'C' not in freq_list or 'T' not in freq_list:\n",
    "        return False\n",
    "\n",
    "    nr_C = freq_list['C']\n",
    "    nr_T = freq_list['T']\n",
    "    nr_R = freq_list['R']\n",
    "    \n",
    "    if nr_C < nr_T or nr_R < nr_C:\n",
    "        return False\n",
    "    else:\n",
    "        return True\n",
    "\n",
    "def nr_componente(freq_list):\n",
    "    return sum(freq_list.values())\n",
    "    \n",
    "    \n",
    "    \n",
    "    \n"
   ]
  },
  {
   "cell_type": "code",
   "execution_count": 24,
   "id": "ed302ccf",
   "metadata": {},
   "outputs": [
    {
     "name": "stdout",
     "output_type": "stream",
     "text": [
      "{'R': 2, 'C': 2, 'T': 1}\n",
      "{'C': 1, 'R': 2, 'T': 2}\n",
      "{'C': 4, 'T': 2}\n",
      "Nr loturi utile:  1\n",
      "Nr maxim componente:  6\n"
     ]
    }
   ],
   "source": [
    "if __name__ == '__main__':\n",
    "    \n",
    "    count = 0\n",
    "    \n",
    "    max_componente = 0\n",
    "    \n",
    "    for lot in lots_list:\n",
    "        freq_list = frecventa_lot(lot)\n",
    "        print(freq_list)\n",
    "        if e_util(freq_list) == True:\n",
    "            count += 1\n",
    "        if nr_componente(freq_list) > max_componente:\n",
    "            max_componente = nr_componente(freq_list)\n",
    "    \n",
    "    print(\"Nr loturi utile: \", count)\n",
    "    print(\"Nr maxim componente: \", max_componente)\n",
    "            "
   ]
  },
  {
   "cell_type": "code",
   "execution_count": 1,
   "id": "2de54471",
   "metadata": {},
   "outputs": [
    {
     "name": "stdout",
     "output_type": "stream",
     "text": [
      "Introduce your first name: George\n",
      "Introduce your last name: John\n",
      "John George\n"
     ]
    }
   ],
   "source": [
    "# Write a Python program which accepts the user's first and last name and print them in reverse order with a space between them.\n",
    "\n",
    "first_name = input('Introduce your first name: ')\n",
    "last_name = input('Introduce your last name: ')\n",
    "print(last_name + ' ' + first_name)\n",
    "\n"
   ]
  },
  {
   "cell_type": "code",
   "execution_count": 7,
   "id": "694b0a7d",
   "metadata": {},
   "outputs": [
    {
     "name": "stdout",
     "output_type": "stream",
     "text": [
      "Please, introduce a number!\n"
     ]
    }
   ],
   "source": [
    "# Write a Python program which accepts the radius of a circle from the user and compute the area.\n",
    "\n",
    "radius = 'cinci'\n",
    "\n",
    "if not isinstance(radius, float) and not isinstance(radius, int):\n",
    "    print('Please, introduce a number!')\n",
    "else:\n",
    "    aria = 3.14 * radius * radius\n",
    "    print(aria)"
   ]
  },
  {
   "cell_type": "code",
   "execution_count": 2,
   "id": "ef7f432d",
   "metadata": {},
   "outputs": [
    {
     "name": "stdout",
     "output_type": "stream",
     "text": [
      "Please introduce your file name: Dogo.jpg\n",
      "jpg\n"
     ]
    }
   ],
   "source": [
    "#Write a Python program to accept a filename from the user and print the extension of that. Go to the editor\n",
    "# Sample filename : abc.java\n",
    "# Output : java\n",
    "    \n",
    "# filename = input('Please introduce your file name: ')\n",
    "\n",
    "# for characters in filename:\n",
    "#     if characters == '.':\n",
    "#         print()\n",
    "\n",
    "file_name = input(\"Please introduce your file name: \")\n",
    "split = file_name.split(\".\")\n",
    "print((split[-1]))\n"
   ]
  },
  {
   "cell_type": "code",
   "execution_count": 15,
   "id": "6db38008",
   "metadata": {},
   "outputs": [
    {
     "name": "stdout",
     "output_type": "stream",
     "text": [
      "Introduce your value here: 5\n",
      "615\n"
     ]
    }
   ],
   "source": [
    "# Write a Python program that accepts an integer (n) and computes the value of n+nn+nnn.\n",
    "# Sample value of n is 5\n",
    "# Expected Result : 615\n",
    "\n",
    "\n",
    "n = int(input('Introduce your value here: '))\n",
    "\n",
    "calculus1 = n\n",
    "calculus2 = n * 11\n",
    "calculus3 = n * 111\n",
    "\n",
    "calculus_total = calculus1 + calculus2 + calculus3\n",
    "\n",
    "print(calculus_total)"
   ]
  },
  {
   "cell_type": "code",
   "execution_count": 13,
   "id": "871ec1e8",
   "metadata": {},
   "outputs": [
    {
     "name": "stdout",
     "output_type": "stream",
     "text": [
      "6\n"
     ]
    }
   ],
   "source": [
    "# Write a Python program to get the difference between a given number and 17, \n",
    "# if the number is greater than 17 return double the absolute difference\n",
    "\n",
    "number1 = 20\n",
    "number2 = number1 - 17\n",
    "\n",
    "if number1 > 17:\n",
    "    print(abs((number1 - 17) * 2))\n",
    "    "
   ]
  },
  {
   "cell_type": "code",
   "execution_count": 23,
   "id": "f37cd6a9",
   "metadata": {},
   "outputs": [
    {
     "name": "stdout",
     "output_type": "stream",
     "text": [
      "70\n"
     ]
    }
   ],
   "source": [
    "#  Write a Python program to calculate the sum of three given numbers, \n",
    "#  if the values are equal then return three times of their sum.\n",
    "\n",
    "n1 = 20\n",
    "n2 = 20\n",
    "n3 = 30\n",
    "\n",
    "total_n = n1 + n2 + n3\n",
    "\n",
    "if n1 == n2 and n2 == n3:\n",
    "    print(total_n * 3)\n",
    "else:\n",
    "    print(total_n)\n"
   ]
  },
  {
   "cell_type": "code",
   "execution_count": 35,
   "id": "3db5cf6c",
   "metadata": {},
   "outputs": [
    {
     "name": "stdout",
     "output_type": "stream",
     "text": [
      "9\n",
      "The number is odd\n"
     ]
    }
   ],
   "source": [
    "import random\n",
    "number = random.randint(0,22)\n",
    "print(number)\n",
    "\n",
    "if number % 2 == 0:\n",
    "    print('The number is even')\n",
    "elif number % 2 == 1 :\n",
    "    print('The number is odd')\n",
    "    "
   ]
  },
  {
   "cell_type": "code",
   "execution_count": 4,
   "id": "0ac1d60c",
   "metadata": {},
   "outputs": [
    {
     "name": "stdout",
     "output_type": "stream",
     "text": [
      "Numarul 4 apare in lista de 5 ori\n"
     ]
    }
   ],
   "source": [
    "# Write a Python program to count the number 4 in a given list. \n",
    "\n",
    "list = [1, 2, 3, 4, 4, 4, 4, 5, 6, 10, 4, 22]\n",
    "\n",
    "v = 4\n",
    "\n",
    "nr_aparitii = 0\n",
    "\n",
    "for number in list:\n",
    "    if number == v:\n",
    "        nr_aparitii += 1\n",
    "\n",
    "print(\"Numarul\", v, \"apare in lista de\", nr_aparitii, \"ori\")\n",
    "    "
   ]
  },
  {
   "cell_type": "code",
   "execution_count": 9,
   "id": "ae36b39f",
   "metadata": {},
   "outputs": [
    {
     "name": "stdout",
     "output_type": "stream",
     "text": [
      "x is not a vowel\n"
     ]
    }
   ],
   "source": [
    "# Write a Python program to test whether a passed letter is a vowel or not.\n",
    "\n",
    "\n",
    "letter = 'x'\n",
    "\n",
    "if letter == 'a' or letter =='e' or letter =='i' or letter == 'o' or letter =='u':\n",
    "    print(letter, 'is a vowel')\n",
    "else: print(letter, 'is not a vowel')\n",
    "    "
   ]
  },
  {
   "cell_type": "code",
   "execution_count": 16,
   "id": "b020e83d",
   "metadata": {},
   "outputs": [
    {
     "name": "stdout",
     "output_type": "stream",
     "text": [
      "386 is even\n",
      "462 is even\n",
      "418 is even\n",
      "344 is even\n",
      "236 is even\n",
      "566 is even\n",
      "978 is even\n",
      "328 is even\n",
      "162 is even\n",
      "758 is even\n",
      "918 is even\n"
     ]
    }
   ],
   "source": [
    "# Write a Python program to print all even numbers from a given numbers \n",
    "# list in the same order and stop the printing if any numbers that come after 237 in the sequence.\n",
    "\n",
    "numbers = [    \n",
    "    386, 462, 47, 418, 907, 344, 236, 375, 823, 566, 597, 978, 328, 615, 953, 345, \n",
    "    399, 162, 758, 219, 918, 237, 412, 566, 826, 248, 866, 950, 626, 949, 687, 217, \n",
    "    815, 67, 104, 58, 512, 24, 892, 894, 767, 553, 81, 379, 843, 831, 445, 742, 717, \n",
    "    958,743, 527\n",
    "    ]\n",
    "\n",
    "for number in numbers:\n",
    "    if number % 2 == 0:\n",
    "        print(number, 'is even')\n",
    "    elif number == 237:\n",
    "        break\n",
    "        \n",
    "        \n",
    "\n",
    "\n",
    "    "
   ]
  },
  {
   "cell_type": "code",
   "execution_count": 19,
   "id": "f24b46e3",
   "metadata": {},
   "outputs": [
    {
     "name": "stdout",
     "output_type": "stream",
     "text": [
      "['Black', 'White']\n"
     ]
    }
   ],
   "source": [
    "#Write a Python program to print out a set containing all the colors from color_list_1 which are not present in color_list_2. Go to the editor\n",
    "\n",
    "color_list_1 = set([\"White\", \"Black\", \"Red\"])\n",
    "color_list_2 = set([\"Red\", \"Green\"])\n",
    "\n",
    "list_output = []\n",
    "\n",
    "# Expected Output :\n",
    "# {'Black', 'White'}\n",
    "\n",
    "for colors in color_list_1:\n",
    "    if colors not in color_list_2:\n",
    "        list_output.append(colors)\n",
    "print(list_output)\n",
    "        "
   ]
  },
  {
   "cell_type": "code",
   "execution_count": 28,
   "id": "dca4df77",
   "metadata": {},
   "outputs": [
    {
     "name": "stdout",
     "output_type": "stream",
     "text": [
      "Write the base number of the triangle here: 10\n",
      "Write the height number of the triangle here: 12\n",
      "60.0 is the area of the triangle\n"
     ]
    }
   ],
   "source": [
    "# Write a Python program that will accept the base and height of a triangle and compute the area.\n",
    "\n",
    "base = int(input('Write the base number of the triangle here: '))\n",
    "\n",
    "height = int(input('Write the height number of the triangle here: '))\n",
    "\n",
    "area = 1 / 2 * base * height\n",
    "\n",
    "print(area, 'is the area of the triangle')"
   ]
  },
  {
   "cell_type": "code",
   "execution_count": 32,
   "id": "3825a901",
   "metadata": {},
   "outputs": [
    {
     "name": "stdout",
     "output_type": "stream",
     "text": [
      "0\n"
     ]
    }
   ],
   "source": [
    "# Write a Python program to sum of three given integers. However, if two values are equal sum will be zero.\n",
    "\n",
    "int1 = 10\n",
    "int2 = 20\n",
    "int3 = 30\n",
    "\n",
    "sum = int1 + int2 + int3\n",
    "\n",
    "if int1 == int2 or int1 == int3 or int2 == int3:\n",
    "    sum = 0\n",
    "\n",
    "print(sum)"
   ]
  },
  {
   "cell_type": "code",
   "execution_count": 35,
   "id": "ee09d9a8",
   "metadata": {},
   "outputs": [
    {
     "name": "stdout",
     "output_type": "stream",
     "text": [
      "121\n"
     ]
    }
   ],
   "source": [
    "# Write a Python program to solve (x + y) * (x + y).\n",
    "\n",
    "x = 5\n",
    "y = 6\n",
    "\n",
    "step1 = x + y\n",
    "\n",
    "solution = step1 * step1\n",
    "\n",
    "print(solution)"
   ]
  },
  {
   "cell_type": "code",
   "execution_count": 50,
   "id": "f30a8d00",
   "metadata": {},
   "outputs": [
    {
     "name": "stdout",
     "output_type": "stream",
     "text": [
      "number is not bigger than 2\n",
      "number is not bigger than 2\n",
      "number is bigger than 2\n",
      "number is bigger than 2\n",
      "number is bigger than 2\n",
      "number is bigger than 2\n",
      "number is bigger than 2\n",
      "number is bigger than 2\n",
      "number is bigger than 2\n",
      "number is bigger than 2\n"
     ]
    }
   ],
   "source": [
    "# Write a Python program to test whether all numbers of a list is greater than a certain number.\n",
    "\n",
    "list = [1, 2, 3, 4, 5, 6, 7, 8, 9, 10]\n",
    "\n",
    "\n",
    "for numbers in list:\n",
    "    if numbers > 2:\n",
    "        print('number is bigger than 2')\n",
    "    else: print('number is not bigger than 2')\n"
   ]
  },
  {
   "cell_type": "code",
   "execution_count": 60,
   "id": "0afac2f8",
   "metadata": {},
   "outputs": [
    {
     "name": "stdout",
     "output_type": "stream",
     "text": [
      "\" 30 + 20 = 50 \"\n"
     ]
    }
   ],
   "source": [
    "# Given variables x=30 and y=20, write a Python program to print \"30+20=50\"\n",
    "\n",
    "x = 30\n",
    "y = 20\n",
    "\n",
    "z = x + y\n",
    "\n",
    "print('\"', x, '+', y, '=', z, '\"')"
   ]
  },
  {
   "cell_type": "code",
   "execution_count": 76,
   "id": "1c899123",
   "metadata": {},
   "outputs": [
    {
     "name": "stdout",
     "output_type": "stream",
     "text": [
      "[1, 2, 3, 4, 10, 22, 33, 44]\n",
      "[5.5, 2.1, 8.99, 9.3]\n",
      "44\n",
      "9.3\n",
      "1\n",
      "2.1\n"
     ]
    }
   ],
   "source": [
    "# Write a Python program to determine the largest and smallest integers and floats.\n",
    "\n",
    "numbers = [1, 2, 3, 4, 5.5, 2.1, 8.99, 9.3, 10, 22, 33, 44]\n",
    "\n",
    "integers = []\n",
    "floats = []\n",
    "\n",
    "for number in numbers:\n",
    "    if isinstance(number, int):\n",
    "        integers.append(number)\n",
    "print(integers)\n",
    "\n",
    "for number2 in numbers:\n",
    "    if isinstance(number2, float):\n",
    "        floats.append(number2)\n",
    "print(floats)\n",
    "\n",
    "print(max(integers))\n",
    "print(max(floats))\n",
    "\n",
    "print(min(integers))\n",
    "print(min(floats))\n",
    "\n",
    "\n",
    "\n",
    "\n",
    "\n",
    "# for number in numbers:\n",
    "#     print(max)"
   ]
  },
  {
   "cell_type": "code",
   "execution_count": 79,
   "id": "d13b4a3d",
   "metadata": {},
   "outputs": [
    {
     "name": "stdout",
     "output_type": "stream",
     "text": [
      "555555 is a string\n"
     ]
    }
   ],
   "source": [
    "# Write a Python program to check whether variable is integer or string.\n",
    "\n",
    "v1 = '555555'\n",
    "\n",
    "if isinstance(v1, int):\n",
    "    print(v1, 'is an integer')\n",
    "elif isinstance(v1, str):\n",
    "    print(v1, 'is a string')"
   ]
  },
  {
   "cell_type": "code",
   "execution_count": 2,
   "id": "b1de5d43",
   "metadata": {},
   "outputs": [
    {
     "name": "stdout",
     "output_type": "stream",
     "text": [
      "this is a list\n"
     ]
    }
   ],
   "source": [
    "# Write a Python program to test if a variable is a list or tuple or a set\n",
    "\n",
    "v1 = [1, 2, 3, 4, 5]\n",
    "\n",
    "if type(v1) == tuple:\n",
    "    print('this is a tuple ')\n",
    "elif type(v1) == set:\n",
    "    print('this is a set')\n",
    "elif type(v1) == list:\n",
    "    print('this is a list')\n"
   ]
  },
  {
   "cell_type": "code",
   "execution_count": 4,
   "id": "0c863837",
   "metadata": {},
   "outputs": [
    {
     "name": "stdout",
     "output_type": "stream",
     "text": [
      "cel mai mic numar este 1\n",
      "cel mai mare numar este 19\n"
     ]
    }
   ],
   "source": [
    "# Write a Python function to find the maximum and minimum numbers from a sequence of numbers. Go to the editor\n",
    "# Note: Do not use built-in functions.\n",
    "\n",
    "l = [5, 9, 2, 12, 1, 4, 19, 2]\n",
    "\n",
    "minim = l[0] # supposing that l[0] este the smallest number from the list\n",
    "\n",
    "for number in l:\n",
    "    if number < minim:\n",
    "        minim = number\n",
    "print('cel mai mic numar este', minim)\n",
    "\n",
    "maxim = l[0] # supposing that l[0] este the largest number from the list\n",
    "\n",
    "for number in l:\n",
    "    if number > maxim:\n",
    "        maxim = number\n",
    "print('cel mai mare numar este', maxim)\n",
    "    \n",
    "    \n",
    "    \n",
    "    "
   ]
  },
  {
   "cell_type": "code",
   "execution_count": 18,
   "id": "d2717138",
   "metadata": {},
   "outputs": [
    {
     "name": "stdout",
     "output_type": "stream",
     "text": [
      "441\n"
     ]
    }
   ],
   "source": [
    "# Write a Python function that takes a positive integer \n",
    "# and returns the sum of the cube of all the positive integers smaller than the specified number.\n",
    "\n",
    "number = 7\n",
    "\n",
    "suma= 0\n",
    "\n",
    "for x in range(1, 7):\n",
    "#     print(x)\n",
    "    x_cube = x * x * x\n",
    "    #print(x_cube)\n",
    "    suma += x_cube\n",
    "print(suma)\n",
    "    "
   ]
  },
  {
   "cell_type": "code",
   "execution_count": null,
   "id": "705b8a3f",
   "metadata": {},
   "outputs": [],
   "source": [
    "# Write a Python program to remove and print every third number from a list of numbers until the list becomes empty.\n",
    "\n",
    "list = [1, 2, 3, 4, 5, 6, 7, 8, 9, 10, 22, 33, 44, 55, 66]\n",
    "result = []\n",
    "\n",
    "for x in list:\n",
    "    \n",
    "    "
   ]
  },
  {
   "cell_type": "code",
   "execution_count": 25,
   "id": "9e280034",
   "metadata": {},
   "outputs": [
    {
     "name": "stdout",
     "output_type": "stream",
     "text": [
      "{'A': 4, 'n': 4, 'a': 8, 'r': 6, 'e': 9, 'm': 2, 'p': 1, 'g': 1, 'u': 2, 't': 1, 'i': 2, 'l': 1, 'c': 1}\n"
     ]
    }
   ],
   "source": [
    "# 7. Write a Python program to count the number of each character of a given text.\n",
    "\n",
    "\n",
    "def words_text(words):\n",
    "    \n",
    "    for word in words:\n",
    "        for characters in word:\n",
    "            if characters.isalpha() == True:\n",
    "                if characters in frequency:\n",
    "                    frequency[characters] += 1\n",
    "                else:\n",
    "                    frequency[characters] = 1\n",
    "    return frequency\n",
    "            \n",
    "               \n",
    "    \n",
    "text = 'Ana are mere. Ana are pere. Ana are gutui. Ana are melci.'\n",
    "frequency = words_text(text) # can put any other name instead of frequency\n",
    "print(frequency)\n",
    "\n"
   ]
  },
  {
   "cell_type": "code",
   "execution_count": 50,
   "id": "880db801",
   "metadata": {},
   "outputs": [
    {
     "name": "stdout",
     "output_type": "stream",
     "text": [
      "5\n"
     ]
    }
   ],
   "source": [
    "# Write a Python program to find the number of divisors of a given integer is even or odd.\n",
    "\n",
    "number = 12\n",
    "\n",
    "counter = 0\n",
    "\n",
    "for divizor1 in range(1, number):\n",
    "    if number % divizor1 == 0:\n",
    "        #print(divizor1)\n",
    "        counter += 1\n",
    "print(counter)"
   ]
  },
  {
   "cell_type": "code",
   "execution_count": 71,
   "id": "70655f53",
   "metadata": {},
   "outputs": [
    {
     "name": "stdout",
     "output_type": "stream",
     "text": [
      "2\n",
      "4\n",
      "6\n"
     ]
    }
   ],
   "source": [
    "# Write a Python program to find the digits which are absent in a given mobile number.\n",
    "\n",
    "phone_number = '0738895133'\n",
    "\n",
    "for digit in range(1, 9):\n",
    "    if str(digit) not in phone_number:\n",
    "        print(digit)\n",
    "    \n",
    "\n"
   ]
  },
  {
   "cell_type": "code",
   "execution_count": 69,
   "id": "c4d4926b",
   "metadata": {},
   "outputs": [
    {
     "name": "stdout",
     "output_type": "stream",
     "text": [
      "1060\n"
     ]
    }
   ],
   "source": [
    "# 52. Write a Python program to compute the sum of first n given prime numbers.\n",
    "# Input:\n",
    "# n ( n <= 10000). Input 0 to exit the program.\n",
    "# Input a number (n<=10000) to compute the sum:(0 to exit)\n",
    "# 25\n",
    "# Sum of first 25 prime numbers:\n",
    "# 1060\n",
    "\n",
    "def isprim(number):\n",
    "    \n",
    "    for divizor in range(2, number):\n",
    "        if number % divizor == 0:\n",
    "            return False\n",
    "    return True\n",
    "\n",
    "\n",
    "def primele_n_nr_prime(n):\n",
    "    \n",
    "    start = 2\n",
    "    \n",
    "    numere_prime = []\n",
    "    \n",
    "    while len(numere_prime) < n:\n",
    "        if isprim(start) == True:\n",
    "            numere_prime.append(start)\n",
    "            start += 1\n",
    "        else: start += 1\n",
    "    return sum(numere_prime)\n",
    "    \n",
    "        \n",
    "print(primele_n_nr_prime(25))\n",
    "\n"
   ]
  },
  {
   "cell_type": "code",
   "execution_count": 15,
   "id": "4d1af6bd",
   "metadata": {},
   "outputs": [
    {
     "name": "stdout",
     "output_type": "stream",
     "text": [
      "True\n"
     ]
    }
   ],
   "source": [
    "# Given a list of numbers and a number k, \n",
    "# write a Python program to check whether the sum of any two numbers from the list is equal to k or not.\n",
    "\n",
    "def eq_check(numbers):\n",
    "    for number in numbers:\n",
    "        if k - number in numbers:\n",
    "            return True\n",
    "        \n",
    "    return False\n",
    "\n",
    "list_numbers = [1, 5, 11, 5]\n",
    "k = 16\n",
    "eq_sum = eq_check(list_numbers)\n",
    "print(eq_sum)"
   ]
  },
  {
   "cell_type": "code",
   "execution_count": 2,
   "id": "58f68935",
   "metadata": {},
   "outputs": [
    {
     "name": "stdout",
     "output_type": "stream",
     "text": [
      "[1, 2, 3, 4, 6, 7]\n",
      "6\n"
     ]
    }
   ],
   "source": [
    "# Write a Python program to remove all instances of a given value \n",
    "# from a given array of integers and find the length of the new array.\n",
    "# Sample Input:\n",
    "# ([1, 2, 3, 4, 5, 6, 7, 5], 5)\n",
    "# ([10,10,10,10,10], 10)\n",
    "# ([10,10,10,10,10], 20)\n",
    "# ([], 1)\n",
    "# Sample Output:\n",
    "# 6\n",
    "# 0\n",
    "# 5\n",
    "# 0\n",
    "\n",
    "\n",
    "def counter_left_items(numbers, nr):\n",
    "    \n",
    "    counter = 0\n",
    "    new_list = []\n",
    "    for number in numbers:\n",
    "        if number != nr:\n",
    "            new_list.append(number)\n",
    "            counter += 1\n",
    "    return new_list, counter\n",
    "        \n",
    "\n",
    "list_numbers = [1, 2, 3, 4, 5, 6, 7, 5] # we want to remove 5 and count how many items are left\n",
    "number = 5\n",
    "number_without_nr, counter_nr = counter_left_items(list_numbers, number)\n",
    "print(number_without_nr)\n",
    "print(counter_nr)\n",
    "\n",
    "\n",
    "        "
   ]
  },
  {
   "cell_type": "code",
   "execution_count": 11,
   "id": "4268e2cb",
   "metadata": {},
   "outputs": [
    {
     "name": "stdout",
     "output_type": "stream",
     "text": [
      "3\n",
      "21\n"
     ]
    }
   ],
   "source": [
    "# Write a Python program that accept a list of numbers and create a list to store the count \n",
    "# of negative number in first element and store the sum of positive numbers in second element.\n",
    "\n",
    "def count_sum_numbers(values):\n",
    "    \n",
    "    negative_count = 0\n",
    "    positive_numbers = []\n",
    "    for number in values:\n",
    "        if number < 0:\n",
    "            negative_count += 1\n",
    "        elif number > 0:\n",
    "            positive_numbers.append(number)\n",
    "    return negative_count, sum(positive_numbers)\n",
    "        \n",
    "list_numbers = [-3, -4, -5, 6, 7, 8]\n",
    "\n",
    "count, sum_count = count_sum_numbers(list_numbers)\n",
    "print(count)\n",
    "print(sum_count)"
   ]
  },
  {
   "cell_type": "code",
   "execution_count": 3,
   "id": "7e90ff38",
   "metadata": {},
   "outputs": [
    {
     "name": "stdout",
     "output_type": "stream",
     "text": [
      "[7, 20, 30]\n"
     ]
    }
   ],
   "source": [
    "# Write a Python program to compute the \n",
    "# sum of the three lowest positive numbers from a given list of numbers.\n",
    "\n",
    "\n",
    "def sum_lowest_3(numbers):                                #local variables insinde 'def'\n",
    "    \n",
    "    list_positive_numbers = []\n",
    "    \n",
    "    for number in numbers:\n",
    "        if number > 0:\n",
    "            list_positive_numbers.append(number)\n",
    "    return sorted(list_positive_numbers)[0:3]\n",
    "\n",
    "list_numbers = [-10, -20, 30, 20, 40, 50, 60, 7] # input variables\n",
    "sorted_numbers = sum_lowest_3(list_numbers) \n",
    "print(sorted_numbers) # output\n"
   ]
  },
  {
   "cell_type": "code",
   "execution_count": 12,
   "id": "a908d312",
   "metadata": {},
   "outputs": [
    {
     "name": "stdout",
     "output_type": "stream",
     "text": [
      "True\n"
     ]
    }
   ],
   "source": [
    "# Write a Python program to check whether \n",
    "# every even index contains an even number and every odd index contains odd number of a given list.\n",
    "\n",
    "# in order to check if all the values are of a type, we have to find only 1 value that is different.\n",
    "\n",
    "\n",
    "def index_numbers(values):\n",
    "    \n",
    "    for index in range(len(values)):\n",
    "        if index % 2 == 0 and values[index] % 2 == 1:\n",
    "            return False\n",
    "        elif index % 2 == 1 and values[index] % 2 == 0:\n",
    "            return False\n",
    "    return True\n",
    "\n",
    "\n",
    "\n",
    "list_of_numbers = [2, 1, 2, 3, 6, 7, 6, 3]\n",
    "even_odd_list = index_numbers(list_of_numbers)\n",
    "print(even_odd_list)"
   ]
  },
  {
   "cell_type": "code",
   "execution_count": 1,
   "id": "af747c75",
   "metadata": {},
   "outputs": [
    {
     "name": "stdout",
     "output_type": "stream",
     "text": [
      "[1, 2, 3, 4, 5, 6]\n"
     ]
    }
   ],
   "source": [
    "# uniqueness checker\n",
    "\n",
    "numbers = [1, 2, 2, 3, 3, 4, 5, 6]\n",
    "uniqueness = []\n",
    "\n",
    "for number in numbers:\n",
    "    if number not in uniqueness:          # if the number is already in uniqueness, the if condition will not be executed\n",
    "        uniqueness.append(number)\n",
    "print(uniqueness)"
   ]
  },
  {
   "cell_type": "code",
   "execution_count": 13,
   "id": "d2d8390d",
   "metadata": {},
   "outputs": [
    {
     "data": {
      "text/plain": [
       "True"
      ]
     },
     "execution_count": 13,
     "metadata": {},
     "output_type": "execute_result"
    }
   ],
   "source": [
    "# Write a Python program to check whether a sequence of numbers has an increasing trend or not.\n",
    "\n",
    "\n",
    "def trend(values):\n",
    "    \n",
    "    for index in range(len(values)-1):               # we decrease one index as we want the last comparison to be between\n",
    "        if values[index] > values[index + 1]:        # 30 and 40. If we do not decrease, 40 cannot be compared with another values\n",
    "            return False\n",
    "    return True\n",
    "\n",
    "\n",
    "number = [1, 2, 3, 4, 10, 20, 30, 40]\n",
    "trend(number)\n"
   ]
  },
  {
   "cell_type": "code",
   "execution_count": 15,
   "id": "4a9aef17",
   "metadata": {},
   "outputs": [
    {
     "data": {
      "text/plain": [
       "True"
      ]
     },
     "execution_count": 15,
     "metadata": {},
     "output_type": "execute_result"
    }
   ],
   "source": [
    "# Write a Python program to check whether a sequence of numbers has a decreasing trend or not.\n",
    "\n",
    "\n",
    "def trend(values):\n",
    "    \n",
    "    for index in range(len(values)-1):\n",
    "        if values[index] < values[index + 1]:\n",
    "            return False\n",
    "    return True\n",
    "\n",
    "\n",
    "\n",
    "numbers = [10, 9, 8, 7, 6, 5, 4, 3, 2, 1]\n",
    "trend(numbers)"
   ]
  },
  {
   "cell_type": "code",
   "execution_count": 25,
   "id": "3bc8bd5d",
   "metadata": {},
   "outputs": [
    {
     "name": "stdout",
     "output_type": "stream",
     "text": [
      "[1, 4]\n"
     ]
    }
   ],
   "source": [
    "# Write a Python program find the indices of all occurrences of a given item in a given list. \n",
    "\n",
    "\n",
    "def occurances_index(values, number):\n",
    "    \n",
    "    indexes = []\n",
    "    for index in range(len(values)):\n",
    "        if values[index] == number:\n",
    "            indexes.append(index)                           # when using 'return', execution is stopped, whereas\n",
    "    return indexes                                               # when using 'print' the execution is not stopped\n",
    "\n",
    "\n",
    "list_numbers = [1, 2, 3, 4, 2]\n",
    "number = 2\n",
    "occurance = occurances_index(list_numbers, number)\n",
    "print(occurance)"
   ]
  },
  {
   "cell_type": "code",
   "execution_count": 2,
   "id": "96a22da1",
   "metadata": {},
   "outputs": [
    {
     "name": "stdout",
     "output_type": "stream",
     "text": [
      "['The', 'quick', 'brown', 'fox', 'jumps', 'over', 'the', 'lazy', 'dog']\n",
      "The quick brown fox jumps revo the yzal dog\n"
     ]
    }
   ],
   "source": [
    "# Write a Python program to reverse all the words which have even length.\n",
    "\n",
    "def reverse_words(text):\n",
    "    \n",
    "    words = text.split() # extract words from a string\n",
    "    \n",
    "    for index in range(len(words)):   # itterate through the index of each word (0-8)\n",
    "        if len(words[index]) % 2 == 0:\n",
    "            words[index] = words[index][::-1]\n",
    "    return ' '.join(words)            # used in order to return a string (Text)\n",
    "    \n",
    "    \n",
    "    \n",
    "\n",
    "    \n",
    "    \n",
    "    \n",
    "    \n",
    "s = \"The quick brown fox jumps over the lazy dog\"\n",
    "words = reverse_words(s)\n",
    "print(words)"
   ]
  },
  {
   "cell_type": "code",
   "execution_count": 50,
   "id": "c7d973b9",
   "metadata": {},
   "outputs": [
    {
     "ename": "TypeError",
     "evalue": "unsupported operand type(s) for %: 'int' and 'range'",
     "output_type": "error",
     "traceback": [
      "\u001b[1;31m---------------------------------------------------------------------------\u001b[0m",
      "\u001b[1;31mTypeError\u001b[0m                                 Traceback (most recent call last)",
      "\u001b[1;32m<ipython-input-50-c0f5dd4088ad>\u001b[0m in \u001b[0;36m<module>\u001b[1;34m\u001b[0m\n\u001b[0;32m     10\u001b[0m     \u001b[1;32mreturn\u001b[0m \u001b[1;32mTrue\u001b[0m\u001b[1;33m\u001b[0m\u001b[1;33m\u001b[0m\u001b[0m\n\u001b[0;32m     11\u001b[0m \u001b[1;33m\u001b[0m\u001b[0m\n\u001b[1;32m---> 12\u001b[1;33m \u001b[0misprim\u001b[0m\u001b[1;33m(\u001b[0m\u001b[1;36m101\u001b[0m\u001b[1;33m)\u001b[0m\u001b[1;33m\u001b[0m\u001b[1;33m\u001b[0m\u001b[0m\n\u001b[0m",
      "\u001b[1;32m<ipython-input-50-c0f5dd4088ad>\u001b[0m in \u001b[0;36misprim\u001b[1;34m(numbers)\u001b[0m\n\u001b[0;32m      6\u001b[0m \u001b[1;33m\u001b[0m\u001b[0m\n\u001b[0;32m      7\u001b[0m     \u001b[1;32mfor\u001b[0m \u001b[0mvalues\u001b[0m \u001b[1;32min\u001b[0m \u001b[0mrange\u001b[0m\u001b[1;33m(\u001b[0m\u001b[1;36m1\u001b[0m\u001b[1;33m,\u001b[0m \u001b[1;36m101\u001b[0m\u001b[1;33m)\u001b[0m\u001b[1;33m:\u001b[0m\u001b[1;33m\u001b[0m\u001b[1;33m\u001b[0m\u001b[0m\n\u001b[1;32m----> 8\u001b[1;33m         \u001b[1;32mif\u001b[0m \u001b[0mvalues\u001b[0m \u001b[1;33m%\u001b[0m \u001b[0mprim\u001b[0m \u001b[1;33m==\u001b[0m \u001b[1;36m0\u001b[0m\u001b[1;33m:\u001b[0m\u001b[1;33m\u001b[0m\u001b[1;33m\u001b[0m\u001b[0m\n\u001b[0m\u001b[0;32m      9\u001b[0m             \u001b[1;32mreturn\u001b[0m \u001b[1;32mFalse\u001b[0m\u001b[1;33m\u001b[0m\u001b[1;33m\u001b[0m\u001b[0m\n\u001b[0;32m     10\u001b[0m     \u001b[1;32mreturn\u001b[0m \u001b[1;32mTrue\u001b[0m\u001b[1;33m\u001b[0m\u001b[1;33m\u001b[0m\u001b[0m\n",
      "\u001b[1;31mTypeError\u001b[0m: unsupported operand type(s) for %: 'int' and 'range'"
     ]
    }
   ],
   "source": [
    "# Write a Python program to identify nonprime numbers between 1 to 100 (integers). Print the nonprime numbers.\n",
    "\n",
    "def isprim(numbers):\n",
    "    \n",
    "    prim = range(2, 101)\n",
    "    \n",
    "    for values in range(1, 101):\n",
    "        if values % prim == 0:\n",
    "            return False\n",
    "    return True\n",
    "    \n",
    "isprim(101)"
   ]
  },
  {
   "cell_type": "code",
   "execution_count": 60,
   "id": "4743e709",
   "metadata": {},
   "outputs": [
    {
     "name": "stdout",
     "output_type": "stream",
     "text": [
      "tpircsavaj\n"
     ]
    }
   ],
   "source": [
    "# Write a Python program to reverse a given string in lower case. \n",
    "\n",
    "\n",
    "def reversed_characters(string):\n",
    "    \n",
    "    reversed_word = string[::-1]\n",
    "    return reversed_word.lower()\n",
    "    \n",
    "\n",
    "\n",
    "Str = 'JavaScript'\n",
    "reversed_words_lower = reversed_characters(Str)\n",
    "print(reversed_words_lower)"
   ]
  },
  {
   "cell_type": "code",
   "execution_count": 24,
   "id": "5e6dab72",
   "metadata": {},
   "outputs": [
    {
     "name": "stdout",
     "output_type": "stream",
     "text": [
      "JvScrpt s  pwrfl scrptng lngg\n"
     ]
    }
   ],
   "source": [
    "# Write a Python program to remove all vowels from a given string.\n",
    "\n",
    "def vowels_removed(string): \n",
    "    \n",
    "    string = string.replace('a', '')\n",
    "    string = string.replace('e', '')\n",
    "    string = string.replace('i', '')\n",
    "    string = string.replace('o', '')\n",
    "    string = string.replace('u', '')\n",
    "    return string\n",
    "                \n",
    "            \n",
    "word = 'JavaScript is a powrful scripting language'\n",
    "result = vowels_removed(word)\n",
    "print(result)"
   ]
  },
  {
   "cell_type": "code",
   "execution_count": 26,
   "id": "483211aa",
   "metadata": {},
   "outputs": [
    {
     "name": "stdout",
     "output_type": "stream",
     "text": [
      "{'g': 2, 'o': 3, 'l': 1, 'e': 1, '.': 1, 'c': 1, 'm': 1}\n"
     ]
    }
   ],
   "source": [
    "# Write a Python program to count the number of characters (character frequency) in a string.\n",
    "\n",
    "\n",
    "def character_frequency(string):\n",
    "    \n",
    "    frequency = {}\n",
    "    \n",
    "    for character in string:\n",
    "        if character in frequency:\n",
    "            frequency[character] += 1\n",
    "        else: \n",
    "            frequency[character] = 1\n",
    "    return frequency\n",
    "\n",
    "\n",
    "word = 'google.com'\n",
    "frequency_characters_string = character_frequency(word)\n",
    "print(frequency_characters_string)"
   ]
  },
  {
   "cell_type": "code",
   "execution_count": 69,
   "id": "144926b4",
   "metadata": {},
   "outputs": [
    {
     "name": "stdout",
     "output_type": "stream",
     "text": [
      "Pyasaing\n"
     ]
    }
   ],
   "source": [
    "# Write a Python program to add 'ing' at the end of a given string (length should be at least 3). \n",
    "# If the string length of the given string is less than 3, leave it unchanged.\n",
    "# If the given string already ends with 'ing' then add 'ly' instead. \n",
    "\n",
    "def amendment(string):\n",
    "    \n",
    "    \n",
    "    if len(string) < 3:\n",
    "        return string\n",
    "    else:\n",
    "        if string[-3:] == 'ing':\n",
    "            string += 'ly'\n",
    "        else:\n",
    "            string += 'ing'\n",
    "        return string\n",
    "        \n",
    "\n",
    "\n",
    "stri = 'Pyasa'\n",
    "corrected_string = amendment(stri)\n",
    "print(corrected_string)"
   ]
  },
  {
   "cell_type": "code",
   "execution_count": 89,
   "id": "42f0f43e",
   "metadata": {},
   "outputs": [
    {
     "name": "stdout",
     "output_type": "stream",
     "text": [
      "('Georgeta', 8)\n"
     ]
    }
   ],
   "source": [
    "# Write a Python function that takes a list of words and return the longest word and the length of the longest one.\n",
    "\n",
    "\n",
    "def longest_word(words):\n",
    "    \n",
    "    x = words[0]\n",
    "    \n",
    "    for word in words:\n",
    "        if len(word) > len(x):\n",
    "            x = word\n",
    "    return x, len(x)\n",
    "\n",
    "#     version 2\n",
    "#     words.sort(key = len, reverse = True)\n",
    "#     return words[0], len(words[0])\n",
    "\n",
    "\n",
    "\n",
    "list_of_words = ['Ana', 'Bogdan', 'Georgeta', 'Anabela']\n",
    "longes_word = longest_word(list_of_words)\n",
    "print(longes_word)"
   ]
  },
  {
   "cell_type": "code",
   "execution_count": 24,
   "id": "60f3250e",
   "metadata": {},
   "outputs": [
    {
     "name": "stdout",
     "output_type": "stream",
     "text": [
      "n r ee\n"
     ]
    }
   ],
   "source": [
    "# Write a Python program to remove the characters which have odd index values of a given string.\n",
    "\n",
    "\n",
    "def remove_characters(text):\n",
    "    \n",
    "    result = []\n",
    "    \n",
    "    # v1\n",
    "    for index in range(len(text)):\n",
    "        if index % 2 == 1:\n",
    "            result.append(text[index])\n",
    "            \n",
    "    # v2\n",
    "    \n",
    "#     for index in range(1, len(text), 2):\n",
    "#         result.append(text[index])\n",
    "#     print(result)\n",
    "        \n",
    "    #v3\n",
    "    \n",
    "#     result = [text[index] for index in range(len(text)) if index % 2 == 1]\n",
    "    \n",
    "    \n",
    "    return ''.join(result)\n",
    "    \n",
    "\n",
    "string = 'Ana are mere'\n",
    "characters_removed = remove_characters(string)\n",
    "print(characters_removed)"
   ]
  },
  {
   "cell_type": "code",
   "execution_count": 12,
   "id": "c94a400f",
   "metadata": {},
   "outputs": [
    {
     "name": "stdout",
     "output_type": "stream",
     "text": [
      "Introduceti text > 4\n"
     ]
    }
   ],
   "source": [
    "# Write a Python function to reverses a string if it's length is > 4\n",
    "\n",
    "\n",
    "def reversed_string(text):\n",
    "     \n",
    "    if len(text) > 4:\n",
    "        return text[::-1]\n",
    "    else:\n",
    "        return \"Introduceti text > 4\"\n",
    "\n",
    "\n",
    "\n",
    "string = 'Pin'\n",
    "reversed_string = reversed_string(string)\n",
    "print(reversed_string)\n"
   ]
  },
  {
   "cell_type": "code",
   "execution_count": 108,
   "id": "fc31bf76",
   "metadata": {},
   "outputs": [
    {
     "name": "stdout",
     "output_type": "stream",
     "text": [
      "a 5\n"
     ]
    }
   ],
   "source": [
    "# Write a Python program to find the maximum occurring character in a given string.\n",
    "# the result should include only alphabetical characters and no duplicates (Ex: A, a)\n",
    "\n",
    "\n",
    "def max_occuring(text):\n",
    "    \n",
    "    \n",
    "    frequency = {}  \n",
    "    for character in text.lower():\n",
    "        if character.isalpha() == True:\n",
    "            if character in frequency:\n",
    "                frequency[character] +=1\n",
    "            else:\n",
    "                frequency[character] = 1\n",
    "    \n",
    "    max_value = 0\n",
    "    for key in frequency.keys():\n",
    "        if frequency[key] > max_value:\n",
    "            max_value = frequency[key]\n",
    "            max_key = key\n",
    "        \n",
    "    return max_key, max_value\n",
    "\n",
    "\n",
    "\n",
    "string = 'Ananasul este un fruct sanatos.'\n",
    "max_key, max_value = max_occuring(string)\n",
    "print(max_key, max_value)"
   ]
  },
  {
   "cell_type": "code",
   "execution_count": 57,
   "id": "25cc74a6",
   "metadata": {},
   "outputs": [
    {
     "name": "stdout",
     "output_type": "stream",
     "text": [
      "{'I': 1, 'w': 1, 'o': 3, 'u': 2, 'l': 2, 'd': 2, 'i': 2, 'k': 1, 'e': 2, 't': 4, 'a': 2, 'f': 1, 'r': 1, 's': 1, 'y': 1}\n",
      "1 I\n"
     ]
    }
   ],
   "source": [
    "# Write a Python program to find the minimum occurring character in a given string.\n",
    "# Only alphabetical characters\n",
    "# allowing duplicates (ex: A, a)\n",
    "\n",
    "\n",
    "def min_occuring(text):\n",
    "    \n",
    "    frequency = {}\n",
    "    for character in text:\n",
    "        if character.isalpha() == True:\n",
    "            if character not in frequency:\n",
    "                frequency[character] = 1   # dictionary[key] = 1  == (adding value 1 to the key in the dictionary)\n",
    "            else:\n",
    "                frequency[character] += 1\n",
    "                \n",
    "    #frequency done\n",
    "                \n",
    "    min_value = 9999999999                     # supposing a minimum value '999999'\n",
    "    for key in frequency.keys():              # dictionary.key() = the keys from the dictionary.\n",
    "        if frequency[key]  < min_value:     # frequency[key] = the value coresponding to the key\n",
    "            min_value = frequency[key]\n",
    "            min_key = key\n",
    "    return min_value, min_key\n",
    "    \n",
    "    \n",
    "                \n",
    "            \n",
    "    \n",
    "    \n",
    "    \n",
    "string = 'I would like to eat 3 fruits today.'\n",
    "min_value, min_key = min_occuring(string)\n",
    "print(min_value, min_key)"
   ]
  },
  {
   "cell_type": "code",
   "execution_count": 91,
   "id": "b6152b45",
   "metadata": {},
   "outputs": [
    {
     "data": {
      "text/plain": [
       "'DogS ArE VerY CutE SmalL AnD PrettY'"
      ]
     },
     "execution_count": 91,
     "metadata": {},
     "output_type": "execute_result"
    }
   ],
   "source": [
    "# Write a Python program to capitalize first and last letters of each word of a given string\n",
    "\n",
    "def capitalized_words(text):\n",
    "    \n",
    "    updated_string = text.replace(',', '')\n",
    "    list_string = updated_string.split()\n",
    "    \n",
    "    for index in range(len(list_string)):\n",
    "        word = list_string[index] # created a new variable with the word corresponding to each index\n",
    "        list_string[index] = word[0].upper() + word[1:-1] + word[-1].upper()\n",
    "\n",
    "        \n",
    "        \n",
    "    return ' '.join(list_string)            # in order to return a string instead of a list, use this method\n",
    "        \n",
    "    \n",
    "string = 'dogs are very cute, small, and pretty'\n",
    "capitalized_words(string)\n",
    "\n",
    "# when we have to  modify a string, always go through indexes"
   ]
  },
  {
   "cell_type": "code",
   "execution_count": 106,
   "id": "790118d8",
   "metadata": {},
   "outputs": [
    {
     "name": "stdout",
     "output_type": "stream",
     "text": [
      "2\n"
     ]
    }
   ],
   "source": [
    "# Write a Python program to count the number of strings where \n",
    "# the string length is 2 or more and the first and last character are same from a given list of strings\n",
    "\n",
    "\n",
    "def count_strings(text):\n",
    "    \n",
    "    count = 0\n",
    "    \n",
    "    for word in text:\n",
    "        if len(word) >= 2 and word[0] == word[-1]:\n",
    "            count += 1\n",
    "    return count\n",
    "            \n",
    "\n",
    "sample_list = ['abc', 'xyz', 'aba', 'a', '1221']\n",
    "result = count_strings(sample_list)\n",
    "print(result)"
   ]
  },
  {
   "cell_type": "code",
   "execution_count": 1,
   "id": "489a2160",
   "metadata": {},
   "outputs": [
    {
     "data": {
      "text/plain": [
       "['a', 'b', 'c']"
      ]
     },
     "execution_count": 1,
     "metadata": {},
     "output_type": "execute_result"
    }
   ],
   "source": [
    "# Write a Python program to remove duplicates from a list.\n",
    "\n",
    "def remove_duplicates(items):\n",
    "    \n",
    "    y = []\n",
    "    \n",
    "    for value in items:\n",
    "        if value not in y:\n",
    "            y.append(value)\n",
    "    return y\n",
    "\n",
    "\n",
    "x = ['a', 'b', 'c', 'a']\n",
    "remove_duplicates(x)"
   ]
  },
  {
   "cell_type": "code",
   "execution_count": 3,
   "id": "a5488753",
   "metadata": {},
   "outputs": [
    {
     "name": "stdout",
     "output_type": "stream",
     "text": [
      "abcd\n"
     ]
    }
   ],
   "source": [
    "# Write a Python program to convert a list of characters into a string. \n",
    "\n",
    "\n",
    "def convert_list(letters):\n",
    "    \n",
    "    new_list = ''.join(letters)\n",
    "    return new_list\n",
    "\n",
    "\n",
    "list_characters = ['a', 'b', 'c', 'd']\n",
    "converted_list_characters = convert_list(list_characters)\n",
    "print(converted_list_characters)\n"
   ]
  },
  {
   "cell_type": "code",
   "execution_count": 21,
   "id": "b130e5f6",
   "metadata": {},
   "outputs": [
    {
     "name": "stdout",
     "output_type": "stream",
     "text": [
      "10\n"
     ]
    }
   ],
   "source": [
    "# Write a Python program to select an item randomly from a list.\n",
    "\n",
    "\n",
    "def random_list(items):\n",
    "    \n",
    "    import random\n",
    "    random_item = random.choice(items)\n",
    "    return random_item\n",
    "\n",
    "\n",
    "list = ['a', 2, 3, 7, 10 ,'abc']\n",
    "random_items_list = random_list(list)\n",
    "print(random_items_list)\n"
   ]
  },
  {
   "cell_type": "code",
   "execution_count": 47,
   "id": "c3c38574",
   "metadata": {},
   "outputs": [
    {
     "data": {
      "text/plain": [
       "4"
      ]
     },
     "execution_count": 47,
     "metadata": {},
     "output_type": "execute_result"
    }
   ],
   "source": [
    "# Write a Python program to find the third smallest number in a list.\n",
    "\n",
    "def smallest_number(numbers):\n",
    "    \n",
    "    smallest_number = numbers[0]\n",
    "    for number in numbers:\n",
    "        if number < smallest_number:\n",
    "            smallest_number = number\n",
    "    return smallest_number\n",
    "\n",
    "def second_smallest_number(numbers):\n",
    "    \n",
    "    min_number = smallest_number(numbers)            # putting the above function result into a variable (min_number == 1)\n",
    "    numbers.remove(min_number)                       # deleting the min number from the list\n",
    "    second_min_number = smallest_number(numbers)     # finding the second min number by calling again the function\n",
    "    numbers.remove(second_min_number)\n",
    "    third_min_number = smallest_number(numbers)\n",
    "    return third_min_number\n",
    "    \n",
    "\n",
    "list_numbers = [30, 1, 20, 4, 2, 100]\n",
    "second_smallest_number(list_numbers)\n"
   ]
  },
  {
   "cell_type": "code",
   "execution_count": 48,
   "id": "19e203c1",
   "metadata": {},
   "outputs": [
    {
     "data": {
      "text/plain": [
       "{2: 2, 3: 1, 'a': 2, 'b': 1}"
      ]
     },
     "execution_count": 48,
     "metadata": {},
     "output_type": "execute_result"
    }
   ],
   "source": [
    "# Write a Python program to get the frequency of the elements in a list.\n",
    "\n",
    "\n",
    "def freq(items):\n",
    "    \n",
    "    freq_dictionary = {}\n",
    "    \n",
    "    for item in items:\n",
    "        if item not in freq_dictionary:\n",
    "            freq_dictionary[item] = 1\n",
    "        else:\n",
    "            freq_dictionary[item] += 1\n",
    "    return freq_dictionary\n",
    "\n",
    "\n",
    "\n",
    "list = [2, 3, 2, 'a', 'b', 'a']\n",
    "freq(list)"
   ]
  },
  {
   "cell_type": "code",
   "execution_count": 50,
   "id": "adb93bba",
   "metadata": {},
   "outputs": [
    {
     "data": {
      "text/plain": [
       "['I', 'like', 'jogging']"
      ]
     },
     "execution_count": 50,
     "metadata": {},
     "output_type": "execute_result"
    }
   ],
   "source": [
    "# Write a Python program to convert a string to a list.\n",
    "\n",
    "def convert_into_list(text):\n",
    "    \n",
    "    list_string = text.split()\n",
    "    return list_string\n",
    "\n",
    "\n",
    "\n",
    "string = 'I like jogging'\n",
    "convert_into_list(string)"
   ]
  },
  {
   "cell_type": "code",
   "execution_count": 65,
   "id": "c28e5fa0",
   "metadata": {},
   "outputs": [
    {
     "name": "stdout",
     "output_type": "stream",
     "text": [
      "['abc']\n"
     ]
    }
   ],
   "source": [
    "# Write a Python program to find the items that start with a and doesn't end in d from a given list.\n",
    "\n",
    "\n",
    "def find_items(lista, char, char2):\n",
    "    \n",
    "    new_list= []\n",
    "    \n",
    "    for item in lista:\n",
    "        if item[0] == char and item[-1] != char2:\n",
    "            new_list.append(item)\n",
    "    return new_list\n",
    "\n",
    "\n",
    "lista = ['abcd', 'abc', 'bcd', 'bkie', 'cder', 'cdsw', 'sdfsd', 'dagfa', 'acjd']\n",
    "char = 'a'\n",
    "char2 = 'd'\n",
    "list_words = find_items(lista, char, char2)\n",
    "print(list_words)"
   ]
  },
  {
   "cell_type": "code",
   "execution_count": 2,
   "id": "4af67e39",
   "metadata": {},
   "outputs": [
    {
     "name": "stdout",
     "output_type": "stream",
     "text": [
      "struguri\n",
      "[1, 1, 2, 3, 4, 5, 1]\n",
      "[1, 100, 1, 2, 3, 4, 5, 1]\n"
     ]
    }
   ],
   "source": [
    "# Write a Python program to remove the K'th element from a given list, print the new list.\n",
    "\n",
    "\n",
    "def removing_element(numbers, k):\n",
    "    \n",
    "    removed_element = numbers.pop(k) # removes the item at the given index from the list and returns the removed item.\n",
    "    print(removed_element)\n",
    "    return numbers\n",
    "        \n",
    "\n",
    "def insert_element(numbers, k, element):\n",
    "    \n",
    "    numbers.insert(k, element)\n",
    "    return numbers\n",
    "\n",
    "numbers = [1, 1, 2, 3, 4, 'struguri', 5, 1]\n",
    "k = 5\n",
    "list_without_element = removing_element(numbers, k)\n",
    "print(list_without_element)\n",
    "n = 1\n",
    "element = 100\n",
    "new_numbers = insert_element(numbers, n, element)\n",
    "print(new_numbers)"
   ]
  },
  {
   "cell_type": "code",
   "execution_count": 5,
   "id": "a8d4600e",
   "metadata": {},
   "outputs": [
    {
     "name": "stdout",
     "output_type": "stream",
     "text": [
      "[1, 1, 12, 2, 3, 4, 4, 5, 1]\n"
     ]
    }
   ],
   "source": [
    "# Write a Python program to insert an element at a specified position into a given list. Go to the editor\n",
    "\n",
    "def inserting_element(values):\n",
    "    \n",
    "    values.insert(index, value)\n",
    "    return values\n",
    "\n",
    "\n",
    "\n",
    "numbers = [1, 1, 2, 3, 4, 4, 5, 1]\n",
    "index = 2\n",
    "value = 12\n",
    "changed_number = inserting_element(numbers)\n",
    "print(changed_number)"
   ]
  },
  {
   "cell_type": "code",
   "execution_count": null,
   "id": "ab7d6072",
   "metadata": {},
   "outputs": [],
   "source": [
    "# Write a Python program to read a matrix from console and print the sum for each column. \n",
    "# Accept matrix rows, columns and elements for each column separated with a space(for every row) as input from the user.\n",
    "\n",
    "# Input rows: 2\n",
    "# Input columns: 2\n",
    "# Input number of elements in a row (1, 2, 3):"
   ]
  },
  {
   "cell_type": "code",
   "execution_count": 20,
   "id": "9c3a1c00",
   "metadata": {},
   "outputs": [
    {
     "name": "stdout",
     "output_type": "stream",
     "text": [
      "4\n"
     ]
    }
   ],
   "source": [
    "# Write a Python program to count number of lists in a given list of lists.\n",
    "\n",
    "def counter_lists(list_numbers):\n",
    "    \n",
    "    counter = 0\n",
    "    for pair in list_numbers:\n",
    "        if pair == list(pair):\n",
    "            counter += 1\n",
    "        else:\n",
    "            counter = 1\n",
    "    return counter\n",
    "\n",
    "\n",
    "my_list = [[1, 3], [5, 7], [9, 11], [13, 15, 17]]\n",
    "counter_lists = counter_lists(my_list)\n",
    "print(counter_lists)"
   ]
  },
  {
   "cell_type": "code",
   "execution_count": 30,
   "id": "9d709f28",
   "metadata": {},
   "outputs": [
    {
     "name": "stdout",
     "output_type": "stream",
     "text": [
      "([1, 34, 5, 7], 4)\n",
      "([12], 1)\n"
     ]
    }
   ],
   "source": [
    "# Write a Python program to find the list with maximum and minimum length.\n",
    "\n",
    "def max_lenght(lists):\n",
    "    \n",
    "    \n",
    "    max_pair = lists[0]\n",
    "    for pair in lists:\n",
    "            if len(pair) > len(max_pair):\n",
    "                max_pair = pair\n",
    "    return max_pair, len(max_pair)\n",
    "                \n",
    "def min_lenght(lists):\n",
    "    \n",
    "    \n",
    "    min_pair = lists[0]\n",
    "    for pair1 in lists:\n",
    "            if len(pair1) < len(min_pair):\n",
    "                min_pair = pair1\n",
    "    return min_pair, len(min_pair)       \n",
    "    \n",
    "\n",
    "\n",
    "\n",
    "my_list = [[12], [1, 3], [1, 34, 5, 7], [9, 11], [3, 5, 7]]\n",
    "maximum_lenght_list = max_lenght(my_list)\n",
    "print(maximum_lenght_list)\n",
    "minimum_lengt_list = min_lenght(my_list)\n",
    "print(minimum_lengt_list)"
   ]
  },
  {
   "cell_type": "code",
   "execution_count": 35,
   "id": "7fd9cab5",
   "metadata": {},
   "outputs": [
    {
     "name": "stdout",
     "output_type": "stream",
     "text": [
      "[1, 7]\n"
     ]
    }
   ],
   "source": [
    "# Write a Python program to extract common index elements from more than one given list.\n",
    "\n",
    "def common_index(list1, list2, list3):\n",
    "    \n",
    "    new_list = []\n",
    "    for index in range(len(list1)):\n",
    "        if list1[index] == list2[index] and list2[index] == list3[index]:\n",
    "            new_list.append(list2[index]) # it also could be list1, or list 3 as all of them are equal\n",
    "    return new_list\n",
    "\n",
    "\n",
    "\n",
    "l1 = [1, 1, 3, 4, 5, 6, 7]\n",
    "l2 = [0, 1, 2, 3, 4, 5, 7]\n",
    "l3 = [0, 1, 2, 3, 4, 5, 7]\n",
    "x = common_index(l1, l2, l3)\n",
    "print(x)\n"
   ]
  },
  {
   "cell_type": "code",
   "execution_count": 57,
   "id": "09bc9beb",
   "metadata": {},
   "outputs": [
    {
     "name": "stdout",
     "output_type": "stream",
     "text": [
      "[[2, 3], [4, 5], [1, 1]]\n"
     ]
    }
   ],
   "source": [
    "# Write a Python program to remove a specified column from a given nested list.\n",
    "\n",
    "# V1- REMOVING FROM THE SAME LIST\n",
    "\n",
    "def remove_column(lists):\n",
    "    \n",
    "    for pair in lists:\n",
    "        pair.pop(0)\n",
    "    return lists\n",
    "\n",
    "\n",
    "original_list = [[1, 2, 3], [2, 4, 5], [1, 1, 1]]\n",
    "x = remove_column(original_list)\n",
    "print(x)"
   ]
  },
  {
   "cell_type": "code",
   "execution_count": 62,
   "id": "0c826bbb",
   "metadata": {},
   "outputs": [
    {
     "name": "stdout",
     "output_type": "stream",
     "text": [
      "[[2, 3], [4, 5], [1, 1]]\n"
     ]
    }
   ],
   "source": [
    "# V2- CREATING A NEW LIST WITH THE REMAINED VALUES\n",
    "\n",
    "def remove_column(lists):\n",
    "    \n",
    "    new_list = []\n",
    "    for pair in lists:\n",
    "        new_list.append(pair[1:])\n",
    "    return new_list\n",
    "\n",
    "\n",
    "original_list = [[1, 2, 3], [2, 4, 5], [1, 1, 1]]\n",
    "x = remove_column(original_list)\n",
    "print(x)"
   ]
  },
  {
   "cell_type": "code",
   "execution_count": 87,
   "id": "7a7fdf69",
   "metadata": {},
   "outputs": [
    {
     "name": "stdout",
     "output_type": "stream",
     "text": [
      "The results is:  True\n",
      "The results is:  True\n"
     ]
    }
   ],
   "source": [
    "# Write a Python program to check whether a specified list is sorted or not.\n",
    "\n",
    "#V1:\n",
    "\n",
    "def sorted_list(values):\n",
    "    \n",
    "    sorted_list = sorted(values)\n",
    "    if values == sorted_list:\n",
    "        return True\n",
    "    else:\n",
    "        return False\n",
    "    \n",
    "#V2:\n",
    "    \n",
    "def is_sorted(values):\n",
    "    \n",
    "    for i in range(1, len(values)): # index start (1), index end(len(values))= 10\n",
    "        if values[i] < values[i-1]:\n",
    "            return False\n",
    "    return True\n",
    "            \n",
    "\n",
    "my_list = [1, 2, 4, 5, 10, 11, 12, 14, 16, 17]\n",
    "result = sorted_list(my_list)\n",
    "print('The results is: ', result)\n",
    "\n",
    "result = is_sorted(my_list)\n",
    "print('The results is: ', result)"
   ]
  },
  {
   "cell_type": "code",
   "execution_count": 120,
   "id": "0a7ebbf0",
   "metadata": {},
   "outputs": [
    {
     "name": "stdout",
     "output_type": "stream",
     "text": [
      "['deR', 'neerG', 'eulB', 'etihW', 'kcalB']\n"
     ]
    }
   ],
   "source": [
    "# Write a Python program to reverse strings in a given list of string values.\n",
    "\n",
    "# V1 -- is better as long as the list would have too many entries ->> lower memory capacity, faster program running\n",
    "\n",
    "def reversed_strings(items):\n",
    "    \n",
    "    for index in range(len(items)):\n",
    "        items[index] = items[index] [::-1]\n",
    "    return items\n",
    "\n",
    "\n",
    "# V2 -- is better as long as we don't want to work on RAW collection\n",
    "\n",
    "def rev_list(items):\n",
    "    \n",
    "    new_list = []\n",
    "    for item in items:\n",
    "        new_list.append(item[::-1])\n",
    "    return new_list\n",
    "        \n",
    "\n",
    "\n",
    "my_list = ['Red', 'Green', 'Blue', 'White', 'Black']\n",
    "x = reversed_strings(my_list)\n",
    "print(x)\n",
    "# y = rev_list(my_list)\n",
    "# print(y)"
   ]
  },
  {
   "cell_type": "code",
   "execution_count": null,
   "id": "034b4e05",
   "metadata": {},
   "outputs": [],
   "source": [
    "# Write a Python program to find the maximum and minimum product from the pairs of tuple within a given list.\n",
    "\n",
    "\n",
    "\n",
    "\n",
    "\n",
    "original_list = [(2, 7), (2, 6), (1, 8), (4, 9)]"
   ]
  },
  {
   "cell_type": "code",
   "execution_count": 1,
   "id": "5c3cebeb",
   "metadata": {},
   "outputs": [
    {
     "name": "stdout",
     "output_type": "stream",
     "text": [
      "[11, 12, 28, 17]\n"
     ]
    }
   ],
   "source": [
    "# Write a Python program to read a matrix from console and print the sum for each column.\n",
    "\n",
    "def sum_matrix(lists):\n",
    "    \n",
    "    nr_rows = len(lists) #     print(nr_rows)       # 3 = [[1,2,3,5] => 1, [4,2,5,5] => 2, [6,8,20,7] => 3]\n",
    "    nr_cols = len(lists[0]) #  print(nr_cols)       # 4 = [[1,2,3,5] => len(first list)]\n",
    "    \n",
    "    sum_values = []\n",
    "    \n",
    "    for col in range(nr_cols): #range(nr_cols) = 0,1,2,3\n",
    "        suma_col = 0\n",
    "        for row in range(nr_rows): #range(nr_rows) = 0,1,2, 0,1,2, 0,1,2, 0,1,2.\n",
    "            suma_col += lists[row][col]\n",
    "        sum_values.append(suma_col)\n",
    "               \n",
    "    return sum_values\n",
    "\n",
    "\n",
    "matrix = [[1, 2, 3, 5], \n",
    "          [4, 2, 5, 5],\n",
    "          [6, 8, 20, 7]]\n",
    "summed_values = sum_matrix(matrix)\n",
    "print(summed_values)\n"
   ]
  },
  {
   "cell_type": "code",
   "execution_count": 24,
   "id": "caadddf7",
   "metadata": {},
   "outputs": [
    {
     "name": "stdout",
     "output_type": "stream",
     "text": [
      "Sum of principal diagonal is: 14\n",
      "12\n"
     ]
    }
   ],
   "source": [
    "# Sum the diagonal values\n",
    "\n",
    "def diagonal_princ_sum(list_values):\n",
    "    \n",
    "    sum_diagonal_values1 = 0\n",
    "    nr_rows = len(list_values)\n",
    "    nr_cols = len(list_values[0])\n",
    "    \n",
    "    for rows in range(nr_rows): # 0 1 2\n",
    "        for columns in range(nr_cols):    # 0 1 2, 0 1 2, 0 1 2\n",
    "            if rows == columns:\n",
    "                sum_diagonal_values1 += list_values[rows][columns]\n",
    "    return sum_diagonal_values1\n",
    "\n",
    "\n",
    "def diagonal_sec_sum(list_values):\n",
    "    \n",
    "    sum_diagonal_values1 = 0\n",
    "    nr_rows = len(list_values)\n",
    "    nr_cols = len(list_values[0])\n",
    "    \n",
    "    for rows in range(nr_rows): # 0 1 2\n",
    "        for columns in range(nr_cols):    # 0 1 2, 0 1 2, 0 1 2\n",
    "            if rows + columns == nr_cols - 1:\n",
    "                sum_diagonal_values1 += list_values[rows][columns]\n",
    "    return sum_diagonal_values1\n",
    "    \n",
    "\n",
    "\n",
    "\n",
    "matrix = [\n",
    "          [2, 3, 4], \n",
    "          [4, 5, 6], \n",
    "          [3, 4, 7]\n",
    "         ]\n",
    "dp = diagonal_princ_sum(matrix)\n",
    "print(\"Sum of principal diagonal is:\", dp)\n",
    "\n",
    "ds = diagonal_sec_sum(matrix)\n",
    "print(ds)"
   ]
  },
  {
   "cell_type": "code",
   "execution_count": 28,
   "id": "348d9aef",
   "metadata": {},
   "outputs": [
    {
     "name": "stdout",
     "output_type": "stream",
     "text": [
      "6\n"
     ]
    }
   ],
   "source": [
    "matrix = [\n",
    "          [2, 3, 4], \n",
    "          [4, 5, 6], \n",
    "          [3, 4, 7]\n",
    "         ]\n",
    "\n",
    "count = 0\n",
    "\n",
    "for row in matrix:\n",
    "    for element in row:\n",
    "        if element < 5:\n",
    "            count += 1\n",
    "print(count)"
   ]
  },
  {
   "cell_type": "code",
   "execution_count": 49,
   "id": "72c55e95",
   "metadata": {},
   "outputs": [
    {
     "name": "stdout",
     "output_type": "stream",
     "text": [
      "[10, 20, 30, 40, 50, 60]\n",
      "720000000\n"
     ]
    }
   ],
   "source": [
    "# Write a Python program to calculate the product of the unique numbers of a given list.\n",
    "\n",
    "def uniqueness(numbers):\n",
    "    \n",
    "    unique_list = []\n",
    "    for number in numbers:\n",
    "        if number not in unique_list:\n",
    "            unique_list.append(number)\n",
    "    return unique_list\n",
    "    \n",
    "def multiplications(values):\n",
    "    \n",
    "    result = 1\n",
    "    for value in values:\n",
    "        result *= value\n",
    "    return result\n",
    "\n",
    "\n",
    "\n",
    "original_list = [10, 20, 30, 40, 20, 50, 60, 40]\n",
    "\n",
    "finding_unique_numbers = uniqueness(original_list)\n",
    "print(finding_unique_numbers)\n",
    "\n",
    "multiplying_unique_numbers = multiplications(finding_unique_numbers)\n",
    "print(multiplying_unique_numbers)"
   ]
  },
  {
   "cell_type": "code",
   "execution_count": 57,
   "id": "f64ff602",
   "metadata": {},
   "outputs": [
    {
     "name": "stdout",
     "output_type": "stream",
     "text": [
      "[10, 11, 8]\n"
     ]
    },
    {
     "data": {
      "text/plain": [
       "29"
      ]
     },
     "execution_count": 57,
     "metadata": {},
     "output_type": "execute_result"
    }
   ],
   "source": [
    "\n",
    "def sum_numbers(values, start, end):\n",
    "    \n",
    "    suma = 0\n",
    "    for index in range(start, end + 1):\n",
    "        suma += values[index]\n",
    "    return suma\n",
    "\n",
    "\n",
    "list_numbers = [2, 1, 5, 6, 8, 3, 4, 9, 10, 11, 8, 12]\n",
    "start = 8\n",
    "end = 10\n",
    "# print(list_numbers[start:end+1])\n",
    "sum_numbers(list_numbers, start, end)"
   ]
  },
  {
   "cell_type": "code",
   "execution_count": 70,
   "id": "0ac15733",
   "metadata": {},
   "outputs": [
    {
     "name": "stdout",
     "output_type": "stream",
     "text": [
      "[[4, 3, 2, 1], [8, 7, 6, 5], [12, 11, 10, 9], [16, 15, 14, 13]]\n"
     ]
    }
   ],
   "source": [
    "# Write a Python program to reverse each list in a given list of lists.\n",
    "\n",
    "\n",
    "def reverse_list(lists):\n",
    "    \n",
    "    \n",
    "    for index in range(len(lists)):\n",
    "        lists[index] = lists[index][::-1]\n",
    "    return lists\n",
    "\n",
    "\n",
    "list_values = [[1, 2, 3, 4], [5, 6, 7, 8], [9, 10, 11, 12], [13, 14, 15, 16]]\n",
    "reversed_values = reverse_list(list_values)\n",
    "print(reversed_values)"
   ]
  },
  {
   "cell_type": "code",
   "execution_count": 73,
   "id": "79ac6657",
   "metadata": {},
   "outputs": [
    {
     "name": "stdout",
     "output_type": "stream",
     "text": [
      "{1: 1, 2: 3, 3: 1, 4: 1, 5: 2, 6: 1, 7: 1, 8: 1, 9: 1}\n"
     ]
    }
   ],
   "source": [
    "# Write a Python program to get the frequency of the elements in a given list of lists. \n",
    "\n",
    "def frequency_numbers(list1):\n",
    "    \n",
    "    frequency = {}\n",
    "    \n",
    "    for lists in list1:\n",
    "        for values in lists:\n",
    "            if values not in frequency:\n",
    "                frequency[values] = 1\n",
    "            else:\n",
    "                frequency[values] += 1\n",
    "    return frequency\n",
    "            \n",
    "    \n",
    "    \n",
    "\n",
    "\n",
    "list_lists = [[1, 2, 3, 2], [4, 5, 6, 2], [7, 8, 9, 5]]\n",
    "freq_numbers = frequency_numbers(list_lists)\n",
    "print(freq_numbers)"
   ]
  },
  {
   "cell_type": "code",
   "execution_count": 113,
   "id": "c401c985",
   "metadata": {},
   "outputs": [
    {
     "data": {
      "text/plain": [
       "['0red100', '1green200', '2black300', '3blue400', '4white500']"
      ]
     },
     "execution_count": 113,
     "metadata": {},
     "output_type": "execute_result"
    }
   ],
   "source": [
    "# Write a Python program to concatenate element-wise three given lists.\n",
    "\n",
    "def concatanated(matrix):\n",
    "    \n",
    "    columns = len(matrix[0])\n",
    "    rows = len(matrix)\n",
    "    new_list = []\n",
    "    \n",
    "    for col in range(columns):\n",
    "        s = ''\n",
    "        for row in range(rows):\n",
    "            s += matrix[row][col] \n",
    "        new_list.append(s)\n",
    "    return new_list\n",
    "            \n",
    "\n",
    "\n",
    "l1 = [\n",
    "        ['0', '1', '2', '3', '4'], \n",
    "        ['red', 'green', 'black', 'blue', 'white'], \n",
    "        ['100', '200', '300', '400', '500']\n",
    "     ]\n",
    "concatanated(l1)"
   ]
  },
  {
   "cell_type": "code",
   "execution_count": 19,
   "id": "022fcca6",
   "metadata": {},
   "outputs": [
    {
     "name": "stdout",
     "output_type": "stream",
     "text": [
      "9744341403\n"
     ]
    }
   ],
   "source": [
    "# Write a Python program to create the largest possible number using the elements of a given list of positive integers.\n",
    "\n",
    "def largest_number(values):\n",
    "    \n",
    "    my_list_str = []\n",
    "    for x in values:\n",
    "        my_list_str.append(str(x))\n",
    "    my_list_str.sort(reverse = True)\n",
    "    return ''.join(my_list_str)\n",
    "    \n",
    "#     reversed_values = values[::-1]\n",
    "#     text_reversed_values = ''.join(map(str, reversed_values))\n",
    "#     return text_reversed_values\n",
    " \n",
    "    \n",
    "my_list = [3, 40, 9, 41, 74, 43]\n",
    "largest_possible_number = largest_number(my_list)\n",
    "print(largest_possible_number)"
   ]
  },
  {
   "cell_type": "code",
   "execution_count": 2,
   "id": "d142c202",
   "metadata": {},
   "outputs": [
    {
     "name": "stdout",
     "output_type": "stream",
     "text": [
      "[3, 6]\n",
      "[19372, 7626]\n"
     ]
    }
   ],
   "source": [
    "# Write a Python program to find the indices of elements of a given list, greater than a specified value.\n",
    "\n",
    "def find_index(elements, value):\n",
    "    \n",
    "    new_list_indexes = []\n",
    "    for index in range(len(elements)):\n",
    "        if elements[index] > value:\n",
    "            new_list_indexes.append(index)\n",
    "    return new_list_indexes\n",
    "\n",
    "def find_element(elements, value):\n",
    "    \n",
    "    new_list_values = []\n",
    "    for index in range(len(elements)):\n",
    "        if elements[index] > value:\n",
    "            new_list_values.append(elements[index])\n",
    "    return new_list_values\n",
    "    \n",
    "\n",
    "original_list = [1234, 1522, 1984, 19372, 1000, 2342, 7626]\n",
    "index = find_index(original_list)\n",
    "print(index)\n",
    "\n",
    "values = find_element(original_list)\n",
    "print(values)"
   ]
  },
  {
   "cell_type": "code",
   "execution_count": 8,
   "id": "ccff2a20",
   "metadata": {},
   "outputs": [
    {
     "data": {
      "text/plain": [
       "['abc', '', '', 'sdfds', '', '', 'sdfds', 'huy']"
      ]
     },
     "execution_count": 8,
     "metadata": {},
     "output_type": "execute_result"
    }
   ],
   "source": [
    "# Write a Python program to remove additional spaces in a given list.\n",
    "\n",
    "def remove_strip(words):\n",
    "    \n",
    "    for index in range(len(words)):\n",
    "        words[index] = words[index].strip()\n",
    "    return words\n",
    "\n",
    "\n",
    "l = ['abc ', ' ', ' ', 'sdfds ', ' ', ' ', 'sdfds ', 'huy']\n",
    "remove_strip(l)"
   ]
  },
  {
   "cell_type": "code",
   "execution_count": 14,
   "id": "10e7a251",
   "metadata": {},
   "outputs": [
    {
     "name": "stdout",
     "output_type": "stream",
     "text": [
      "['1', '0', '1', '1', '0', '1']\n"
     ]
    }
   ],
   "source": [
    "n = 45\n",
    "n_binary = bin(n).replace('0b', '')\n",
    "print(list(n_binary))"
   ]
  },
  {
   "cell_type": "code",
   "execution_count": 3,
   "id": "d0244539",
   "metadata": {},
   "outputs": [
    {
     "data": {
      "text/plain": [
       "[2, 4, 10, 3, 4, 15]"
      ]
     },
     "execution_count": 3,
     "metadata": {},
     "output_type": "execute_result"
    }
   ],
   "source": [
    "# Write a Python program to add two given lists of different lengths, start from right. Go to the editor\n",
    "# Original lists:\n",
    "\n",
    "# [2, 4, 10, 3, 4, 15]\n",
    "\n",
    "def add_two_lists(l1, l2):\n",
    "    \n",
    "    i = len(l1) - 1\n",
    "    j = len(l2) - 1\n",
    "    result = []\n",
    "    \n",
    "    while i >= 0 and j >= 0:\n",
    "        suma = l1[i] + l2[j]\n",
    "        result.insert(0, suma)\n",
    "        i -= 1\n",
    "        j -= 1\n",
    "        \n",
    "    while i >= 0:\n",
    "        result.insert(0, l1[i])\n",
    "        i -= 1\n",
    "        \n",
    "    while j >= 0:\n",
    "        result.insert(0, l2[j])\n",
    "        j -= 1\n",
    "        \n",
    "    return result\n",
    "        \n",
    "        \n",
    "\n",
    "l2 = [2, 4, 7, 0, 5, 8]\n",
    "l1 =      [3, 3, -1, 7]\n",
    "add_two_lists(l1, l2)\n"
   ]
  },
  {
   "cell_type": "code",
   "execution_count": 31,
   "id": "251a6ced",
   "metadata": {},
   "outputs": [
    {
     "name": "stdout",
     "output_type": "stream",
     "text": [
      "38\n"
     ]
    },
    {
     "data": {
      "text/plain": [
       "4"
      ]
     },
     "execution_count": 31,
     "metadata": {},
     "output_type": "execute_result"
    }
   ],
   "source": [
    "# Write a Python program to count the number of groups of non-zero numbers separated by zeros of a given list of numbers.\n",
    "\n",
    "def counter_non_zero(values):\n",
    "    \n",
    "    counter = 0\n",
    "    index = 0\n",
    "    while index < len(values):\n",
    "        \n",
    "        while index < len(values) and values[index] != 0:\n",
    "            index += 1     \n",
    "        counter += 1\n",
    "        while index < len(values) and values[index] == 0:\n",
    "            index += 1\n",
    "    return counter\n",
    "                \n",
    "    \n",
    "\n",
    "\n",
    "\n",
    "\n",
    "my_list = [3, 4, 6, 2, 0, 0, 0, 0, 0, 0, 6, 7, 6, 9, 10, 0, 0, 0, 0, 0, 5, 9, 9, 7, 4, 4, 0, 0, 0, 0, 0, 0, 5, 3, 2, 9, 7, 1]\n",
    "counter_non_zero(my_list)"
   ]
  },
  {
   "cell_type": "code",
   "execution_count": 30,
   "id": "e6935cd6",
   "metadata": {},
   "outputs": [
    {
     "name": "stdout",
     "output_type": "stream",
     "text": [
      "[15, 38, 15, 27]\n"
     ]
    }
   ],
   "source": [
    "# Write a Python program to compute the sum of non-zero groups (separated by zeros) of a given list of numbers:\n",
    "\n",
    "def sum_non_zero(values):\n",
    "    \n",
    "    index = 0\n",
    "    suma = 0\n",
    "    result = []\n",
    "    \n",
    "    while index < len(values):\n",
    "        while index < len(values) and values[index] != 0:\n",
    "            suma += values[index]\n",
    "            index +=1\n",
    "        result.append(suma)\n",
    "        suma = 0\n",
    "        while index < len(values) and values[index] == 0:\n",
    "            index +=1\n",
    "    return result\n",
    "    \n",
    "\n",
    "\n",
    "my_list = [3, 4, 6, 2, 0, 0, 0, 0, 0, 0, 6, 7, 6, 9, 10, 0, 0, 0, 0, 0, 7, 4, 4, 0, 0, 0, 0, 0, 0, 5, 3, 2, 9, 7, 1, 0, 0, 0]\n",
    "result = sum_non_zero(my_list)\n",
    "print(result)"
   ]
  },
  {
   "cell_type": "code",
   "execution_count": 82,
   "id": "7f74c1cb",
   "metadata": {},
   "outputs": [
    {
     "name": "stdout",
     "output_type": "stream",
     "text": [
      "{2: 5, 3: 2, 8: 2, 4: 2, 7: 1, 9: 2, 6: 3, 5: 1, 1: 3}\n",
      "(5, 2) in the order value, key\n"
     ]
    }
   ],
   "source": [
    "# Write a Python program to get the most frequent element in a given list of numbers.\n",
    "\n",
    "def freq_item(values):  \n",
    "    \n",
    "    frequency = {}\n",
    "    for item in values:\n",
    "        if item not in frequency:\n",
    "            frequency[item] = 1\n",
    "        else:\n",
    "            frequency[item] += 1\n",
    "    return frequency\n",
    "\n",
    "def maximum_value(freq):\n",
    "    \n",
    "    maxim_value = 0\n",
    "    maxim_key = 0\n",
    "    for key in freq.keys():\n",
    "        if freq[key] > maxim_value:\n",
    "            maxim_value = freq[key]\n",
    "            maxim_key = key\n",
    "    return maxim_value, maxim_key\n",
    "\n",
    "\n",
    "\n",
    "original_list = [2, 3, 8, 4, 7, 9, 8, 2, 6, 5, 1, 6, 1, 2, 3, 2, 4, 6, 9, 1, 2]\n",
    "\n",
    "dictionary_frequency = freq_item(original_list)\n",
    "print(dictionary_frequency)\n",
    "\n",
    "maximum_value = maximum_value(dictionary_frequency)\n",
    "print(maximum_value, 'in the order value, key')"
   ]
  },
  {
   "cell_type": "code",
   "execution_count": 55,
   "id": "75a34184",
   "metadata": {},
   "outputs": [
    {
     "data": {
      "text/plain": [
       "[1, 1, 2, 3, 5, 8, 13, 21, 34]"
      ]
     },
     "execution_count": 55,
     "metadata": {},
     "output_type": "execute_result"
    }
   ],
   "source": [
    "# Write a Python program to generate a list, containing the Fibonacci sequence, up until the nth term.\n",
    "\n",
    "# Starting from 1\n",
    "\n",
    "def fibonacci(n):\n",
    "    memo = {}\n",
    "    return fib_help(n, memo)\n",
    "             \n",
    "def fib_help(n, memo):\n",
    "    \n",
    "    if n == 1:\n",
    "        return 1\n",
    "    elif n == 2:\n",
    "        return 1\n",
    "    elif n > 2:\n",
    "        if n in memo:\n",
    "            return memo[n]\n",
    "        else:\n",
    "            memo[n] = fib_help(n-2, memo) + fib_help(n-1, memo)\n",
    "            return memo[n]\n",
    "\n",
    "def first_k_fibonacci(k):\n",
    "    \n",
    "#     fibonacci(1), fibonacci(2)....fibonacci(k)\n",
    "    first_k_fib = []\n",
    "    for i in range(1, k):\n",
    "        first_k_fib.append(fibonacci(i))\n",
    "    return first_k_fib\n",
    "        \n",
    "        \n",
    "first_k_fibonacci(10)   \n",
    "    \n",
    "# for n in range(1, 50):\n",
    "#     n_th_fibonacci = fibonacci(n)\n",
    "#     print(n, n_th_fibonacci)"
   ]
  },
  {
   "cell_type": "code",
   "execution_count": 42,
   "id": "23af79ff",
   "metadata": {},
   "outputs": [
    {
     "name": "stdout",
     "output_type": "stream",
     "text": [
      "0 0\n",
      "1 1\n",
      "2 1\n",
      "3 2\n",
      "4 3\n",
      "5 5\n",
      "6 8\n",
      "7 13\n",
      "8 21\n",
      "9 34\n",
      "10 55\n",
      "11 89\n",
      "12 144\n",
      "13 233\n",
      "14 377\n",
      "15 610\n",
      "16 987\n",
      "17 1597\n",
      "18 2584\n",
      "19 4181\n",
      "20 6765\n",
      "21 10946\n",
      "22 17711\n",
      "23 28657\n",
      "24 46368\n",
      "25 75025\n",
      "26 121393\n",
      "27 196418\n",
      "28 317811\n",
      "29 514229\n",
      "30 832040\n",
      "31 1346269\n",
      "32 2178309\n",
      "33 3524578\n",
      "34 5702887\n",
      "35 9227465\n",
      "36 14930352\n",
      "37 24157817\n",
      "38 39088169\n",
      "39 63245986\n",
      "40 102334155\n",
      "41 165580141\n",
      "42 267914296\n",
      "43 433494437\n",
      "44 701408733\n",
      "45 1134903170\n",
      "46 1836311903\n",
      "47 2971215073\n",
      "48 4807526976\n",
      "49 7778742049\n"
     ]
    }
   ],
   "source": [
    "# Write a Python program to generate a list, containing the Fibonacci sequence, up until the nth term.\n",
    "\n",
    "# lru_cache is used to store the most recent values so that the machine runs faster. Without it, it will be very slow.\n",
    "\n",
    "# Starting from 0\n",
    "\n",
    "from functools import lru_cache\n",
    "\n",
    "@lru_cache(maxsize = 1000)\n",
    "\n",
    "def fibonacci(n):\n",
    "    \n",
    "    if n == 0:\n",
    "        return 0\n",
    "    elif n == 1:\n",
    "        return 1\n",
    "    else:\n",
    "        return fibonacci(n-2) + fibonacci(n-1)\n",
    "    \n",
    "for n in range(0, 50):\n",
    "    print(n, fibonacci(n))"
   ]
  },
  {
   "cell_type": "code",
   "execution_count": 108,
   "id": "772a71f4",
   "metadata": {},
   "outputs": [
    {
     "name": "stdout",
     "output_type": "stream",
     "text": [
      "True\n"
     ]
    }
   ],
   "source": [
    "# Write a Python script to check whether a given key already exists in a dictionary.\n",
    "\n",
    "def key_exists(values, key):\n",
    "    \n",
    "#     for key in values.keys():\n",
    "#         if key == 'Name':\n",
    "#             return True \n",
    "#     return False\n",
    "\n",
    "    if key not in values.keys():\n",
    "        return False\n",
    "    return True\n",
    "\n",
    "\n",
    "dictionary = {'Namex': 'Ana', 'Age': '15', 'Height': '170', 'Name' : 'Ana'}\n",
    "key = 'Name'\n",
    "found_key = key_exists(dictionary, key)\n",
    "print(found_key)"
   ]
  },
  {
   "cell_type": "code",
   "execution_count": 104,
   "id": "dee2d639",
   "metadata": {},
   "outputs": [
    {
     "name": "stdout",
     "output_type": "stream",
     "text": [
      "{0: 10, 1: 20, 10: 100}\n"
     ]
    }
   ],
   "source": [
    "# Write a Python script to add a key to a dictionary if only that key is not already in the dictionary:\n",
    "\n",
    "\n",
    "def adding_key(dictionary, new_key, new_value):\n",
    "    \n",
    "    if new_key not in dictionary.keys():\n",
    "        dictionary[new_key] = new_value\n",
    "    \n",
    "\n",
    "original_dict = {0: 10, 1: 20}\n",
    "key = 10\n",
    "value = 100\n",
    "adding_key(original_dict, key, value)\n",
    "print(original_dict)"
   ]
  },
  {
   "cell_type": "code",
   "execution_count": 110,
   "id": "39258b8d",
   "metadata": {},
   "outputs": [
    {
     "name": "stdout",
     "output_type": "stream",
     "text": [
      "253\n"
     ]
    }
   ],
   "source": [
    "# Write a Python program to sum all the items in a dictionary. \n",
    "\n",
    "def summing_values(items):\n",
    "    \n",
    "    summed_val = 0\n",
    "    for key in items.keys():\n",
    "        summed_val += items[key]\n",
    "    return summed_val\n",
    "    \n",
    "\n",
    "original_dict = {0: 10, 1: 20, 5: 20, 10: 3, 20: 200}\n",
    "summed_values = summing_values(original_dict)\n",
    "print(summed_values)"
   ]
  },
  {
   "cell_type": "code",
   "execution_count": 121,
   "id": "9b2a9055",
   "metadata": {},
   "outputs": [
    {
     "name": "stdout",
     "output_type": "stream",
     "text": [
      "(20, 200)\n"
     ]
    }
   ],
   "source": [
    "# Write a Python program to get the maximum and minimum value in a dictionary.\n",
    "\n",
    "\n",
    "def maximum_value(items):\n",
    "    \n",
    "    max_value = 0\n",
    "    max_key = 0\n",
    "    for key in items.keys():\n",
    "        if items[key] > max_value:\n",
    "            max_value = items[key]\n",
    "            max_key = key\n",
    "    return max_key, max_value\n",
    "        \n",
    "def minimum_value(items):\n",
    "    \n",
    "    \n",
    "\n",
    "\n",
    "original_dict = {0: 10, 1: 20, 5: 20, 10: 3, 20: 200}\n",
    "\n",
    "max_value = maximum_value(original_dict)\n",
    "print(max_value)\n",
    "\n",
    "# max_value = maximum_value("
   ]
  },
  {
   "cell_type": "code",
   "execution_count": null,
   "id": "ea0b21cd",
   "metadata": {},
   "outputs": [],
   "source": [
    "# n-th fibonacci element (no memo)- ex: fib(10)\n",
    "# create a memo\n",
    "\n",
    "\n",
    "def fibonacci(n):\n",
    "    \n",
    "    if n == 1:\n",
    "        return 1\n",
    "    elif n == 2:\n",
    "        return 1\n",
    "    elif n > 2:\n",
    "        return fibonacci(n-2) + fibonacci(n-1)\n",
    "    \n",
    "    \n",
    "fibonacci(50)\n",
    "\n"
   ]
  },
  {
   "cell_type": "code",
   "execution_count": 1,
   "id": "e4fab2cf",
   "metadata": {},
   "outputs": [
    {
     "data": {
      "text/plain": [
       "12586269025"
      ]
     },
     "execution_count": 1,
     "metadata": {},
     "output_type": "execute_result"
    }
   ],
   "source": [
    "# n-th fibonacci element (with memo)- ex: fib(10)\n",
    "\n",
    "def fibonacci(n):\n",
    "    memo = {}\n",
    "    return fibonacci_help(n, memo)\n",
    "\n",
    "def fibonacci_help(n, memo):\n",
    "   \n",
    "    if n == 1:\n",
    "        return 1\n",
    "    elif n == 2:\n",
    "        return 1\n",
    "    elif n > 2:\n",
    "        if n in memo.keys():\n",
    "            return memo[n]\n",
    "        else:\n",
    "            memo[n] = fibonacci_help(n-2, memo) + fibonacci_help(n-1, memo)\n",
    "            return memo[n]\n",
    "    \n",
    "n = 50\n",
    "fibonacci(n)"
   ]
  },
  {
   "cell_type": "code",
   "execution_count": 7,
   "id": "7f93ed48",
   "metadata": {},
   "outputs": [
    {
     "data": {
      "text/plain": [
       "[1, 1, 2, 3, 5, 8, 13, 21, 34, 55]"
      ]
     },
     "execution_count": 7,
     "metadata": {},
     "output_type": "execute_result"
    }
   ],
   "source": [
    "def fibonacci(n):\n",
    "    memo = {}\n",
    "    return fibonacci_help(n, memo)\n",
    "\n",
    "def fibonacci_help(n, memo):\n",
    "   \n",
    "    if n == 1:\n",
    "        return 1\n",
    "    elif n == 2:\n",
    "        return 1\n",
    "    elif n > 2:\n",
    "        if n in memo.keys():\n",
    "            return memo[n]\n",
    "        else:\n",
    "            memo[n] = fibonacci_help(n-2, memo) + fibonacci_help(n-1, memo)\n",
    "            return memo[n]\n",
    "    \n",
    "def fibonacci_first_n(n):\n",
    "    \n",
    "    fibonacci_list = []\n",
    "    for index in range(1, n+1):\n",
    "        fibonacci_list.append(fibonacci(index))\n",
    "    return fibonacci_list\n",
    "\n",
    "n = 10\n",
    "fibonacci_first_n(n)"
   ]
  },
  {
   "cell_type": "code",
   "execution_count": 35,
   "id": "3226154c",
   "metadata": {},
   "outputs": [
    {
     "name": "stdout",
     "output_type": "stream",
     "text": [
      "First 10 fibonacci numbers: [1, 1, 2, 3, 5, 8, 13, 21, 34, 55]\n",
      "Fibonscci numbers < 10 [1, 1, 2, 3, 5, 8]\n"
     ]
    }
   ],
   "source": [
    "def fibonacci(n):\n",
    "    memo = {}\n",
    "    return fibonacci_help(n, memo)\n",
    "\n",
    "def fibonacci_help(n, memo):\n",
    "   \n",
    "    if n == 1:\n",
    "        return 1\n",
    "    elif n == 2:\n",
    "        return 1\n",
    "    elif n > 2:\n",
    "        if n in memo.keys():\n",
    "            return memo[n]\n",
    "        else:\n",
    "            memo[n] = fibonacci_help(n-2, memo) + fibonacci_help(n-1, memo)\n",
    "            return memo[n]\n",
    "    \n",
    "def fibonacci_first_n(n):\n",
    "    \n",
    "    fibonacci_list = []\n",
    "    for index in range(1, n+1):\n",
    "        fibonacci_list.append(fibonacci(index))\n",
    "    return fibonacci_list\n",
    "\n",
    "def smaller_fib(n):\n",
    "    \n",
    "    fibonacci_list = []\n",
    "    i = 1\n",
    "    while fibonacci(i) < n:\n",
    "        fibonacci_list.append(fibonacci(i))\n",
    "        i += 1\n",
    "    return fibonacci_list\n",
    "        \n",
    "    \n",
    "n = 10\n",
    "first_n = fibonacci_first_n(n)\n",
    "print('First', n, 'fibonacci numbers:', first_n)\n",
    "\n",
    "\n",
    "smaller = smaller_fib(n)\n",
    "print('Fibonscci numbers <', n, smaller)"
   ]
  },
  {
   "cell_type": "code",
   "execution_count": null,
   "id": "9a236702",
   "metadata": {},
   "outputs": [],
   "source": [
    "def fibonacci(n):\n",
    "    \n",
    "    memo = {}\n",
    "    return fibonacci_help(n, memo)\n",
    "\n",
    "\n",
    "def fibonacci_help(n, memo):\n",
    "    \n",
    "    if n == 1:\n",
    "        return 1\n",
    "    elif n == 2:\n",
    "        return 1\n",
    "    elif n > 2:\n",
    "        if n in memo.keys():\n",
    "            return memo[n]\n",
    "        else:\n",
    "            memo[n] = \n",
    "        \n",
    "\n",
    "\n",
    "\n",
    "\n",
    "\n",
    "\n",
    "\n",
    "n = 10"
   ]
  },
  {
   "cell_type": "code",
   "execution_count": 17,
   "id": "6d9c7aef",
   "metadata": {},
   "outputs": [
    {
     "name": "stdout",
     "output_type": "stream",
     "text": [
      "The key and the value coresponding to the minimum value in the dictionary are:  ('30', 3)\n",
      "The key and the value coresponding to the maximum value in the dictionary are:  ('X', 20)\n"
     ]
    }
   ],
   "source": [
    "# Write a Python program to get the maximum and minimum value in a dictionary.\n",
    "\n",
    "\n",
    "def minimum_value(items):\n",
    "    \n",
    "    minimum_val = 9999999\n",
    "    key_minimum_val = ''\n",
    "    for key in items.keys():\n",
    "        if items[key] < minimum_val:\n",
    "            minimum_val = items[key]\n",
    "            key_minimum_val = key\n",
    "    return key_minimum_val, minimum_val\n",
    "\n",
    "def maximum_value(items):\n",
    "    \n",
    "    maximum_val = 0\n",
    "    key_maximum_val = ''\n",
    "    for key in items.keys():\n",
    "        if items[key] > maximum_val:\n",
    "            maximum_val = items[key]\n",
    "            key_maximum_val = key\n",
    "    return key_maximum_val, maximum_val\n",
    "\n",
    "\n",
    "dictionary = {'P': 10, \"X\": 20, \"z\": 5, \"30\": 3}\n",
    "\n",
    "minimum_key_value = minimum_value(dictionary)\n",
    "print('The key and the value coresponding to the minimum value in the dictionary are: ', minimum_key_value)\n",
    "\n",
    "maximum_key_value = maximum_value(dictionary)\n",
    "print('The key and the value coresponding to the maximum value in the dictionary are: ', maximum_key_value)"
   ]
  },
  {
   "cell_type": "code",
   "execution_count": 11,
   "id": "744e1263",
   "metadata": {},
   "outputs": [
    {
     "name": "stdout",
     "output_type": "stream",
     "text": [
      "P 10 1\n",
      "X 20 2\n",
      "z 5 3\n",
      "30 3 4\n"
     ]
    }
   ],
   "source": [
    "# Write a Python program to get the key, value and item in a dictionary.\n",
    "\n",
    "def key_value_item(items):\n",
    "    \n",
    "    count = 1\n",
    "    for key in items.keys():\n",
    "        print(key, items[key], count)\n",
    "        count += 1\n",
    "    \n",
    "            \n",
    "dictionary = {'P': 10, \"X\": 20, \"z\": 5, \"30\": 3}\n",
    "key_value_item(dictionary)"
   ]
  },
  {
   "cell_type": "code",
   "execution_count": 9,
   "id": "d690a5c9",
   "metadata": {},
   "outputs": [
    {
     "name": "stdout",
     "output_type": "stream",
     "text": [
      "{12}\n"
     ]
    },
    {
     "data": {
      "text/plain": [
       "True"
      ]
     },
     "execution_count": 9,
     "metadata": {},
     "output_type": "execute_result"
    }
   ],
   "source": [
    "# Write a Python program to check all values are same in a dictionary.\n",
    "\n",
    "def check_values(dictionary):\n",
    "    \n",
    "    vals = list(dictionary.values())\n",
    "    s = set(vals)\n",
    "    print(s)\n",
    "    if len(s) == 1:\n",
    "        return True\n",
    "    else:\n",
    "        return False\n",
    "    \n",
    "    \n",
    "#     l = vals[0]\n",
    "#     j = vals[1:]\n",
    "#     if l == j:\n",
    "#         return True\n",
    "#     else:\n",
    "#         return False\n",
    "\n",
    "    \n",
    "original_dict = {'Cierra Vega': 12, 'Alden Cantrell': 12, 'Kierra Gentry': 12, 'Pierre Cox': 12}\n",
    "check_values(original_dict)"
   ]
  },
  {
   "cell_type": "code",
   "execution_count": 6,
   "id": "e863d054",
   "metadata": {},
   "outputs": [
    {
     "data": {
      "text/plain": [
       "{'yellow': [1, 3, 9], 'blue': [2, 4], 'red': [1]}"
      ]
     },
     "execution_count": 6,
     "metadata": {},
     "output_type": "execute_result"
    }
   ],
   "source": [
    "# Write a Python program to create a dictionary grouping a sequence of key-value pairs into a dictionary of lists.\n",
    "\n",
    "def converting_into_dictionary(list1):\n",
    "    \n",
    "    dictionary = {}\n",
    "    for k, v in list1:\n",
    "        dictionary.setdefault(k, []).append(v)\n",
    "    return dictionary\n",
    "\n",
    "original_list = [('yellow', 1), ('blue', 2), ('yellow', 3), ('blue', 4), ('red', 1), ('yellow', 9)]\n",
    "converting_into_dictionary(original_list)"
   ]
  },
  {
   "cell_type": "code",
   "execution_count": 55,
   "id": "7c8a57e2",
   "metadata": {},
   "outputs": [
    {
     "data": {
      "text/plain": [
       "[{'Science': 88, 'Language': 77},\n",
       " {'Science': 89, 'Language': 78},\n",
       " {'Science': 62, 'Language': 84},\n",
       " {'Science': 95, 'Language': 80}]"
      ]
     },
     "execution_count": 55,
     "metadata": {},
     "output_type": "execute_result"
    }
   ],
   "source": [
    "# Write a Python program to split a given dictionary of lists into list of dictionaries.\n",
    "\n",
    "def create_list_dict(items):\n",
    "    result = []\n",
    "    new_dictionary = {}\n",
    "    counter = 0\n",
    "    length = len(list(items.values())[0])\n",
    "    while counter < length:\n",
    "        for key in items.keys():\n",
    "            new_dictionary[key] = items[key][counter]\n",
    "        result.append(new_dictionary)\n",
    "        new_dictionary = {}\n",
    "        counter += 1\n",
    "    return result\n",
    "  \n",
    "\n",
    "\n",
    "dicti = {'Science': [88, 89, 62, 95], 'Language': [77, 78, 84, 80]}\n",
    "create_list_dict(dicti)"
   ]
  },
  {
   "cell_type": "code",
   "execution_count": 24,
   "id": "0803af0b",
   "metadata": {},
   "outputs": [
    {
     "data": {
      "text/plain": [
       "[90, 89, 92]"
      ]
     },
     "execution_count": 24,
     "metadata": {},
     "output_type": "execute_result"
    }
   ],
   "source": [
    "# Write a Python program to extract a list of values from a given list of dictionaries.\n",
    "\n",
    "def extracting_values(dictionaries, target):\n",
    "    \n",
    "    new_list = []\n",
    "    for dictionar in dictionaries:\n",
    "        for key in dictionar.keys():\n",
    "            if key == target:\n",
    "                new_list.append(dictionar[key])\n",
    "    return new_list\n",
    "\n",
    "\n",
    "original_list = [{'Math': 90, 'Science': 92}, {'Math': 89, 'Science': 94}, {'Math': 92, 'Science': 88}]\n",
    "key = 'Math'\n",
    "extracting_values(original_list, key)"
   ]
  },
  {
   "cell_type": "code",
   "execution_count": 130,
   "id": "99d27f31",
   "metadata": {},
   "outputs": [
    {
     "data": {
      "text/plain": [
       "{'red': 3, 'green': 5, 'black': 5, 'white': 5, 'blackk': 6}"
      ]
     },
     "execution_count": 130,
     "metadata": {},
     "output_type": "execute_result"
    }
   ],
   "source": [
    "# Write a Python program to find the length of a given dictionary values\n",
    "\n",
    "def find_lenght(items):\n",
    "    \n",
    "    new_dictionary = {}\n",
    "    for value in items.values():\n",
    "        lenght = len(value)\n",
    "        new_dictionary[value] = lenght # OR new_dictionary.setdefault(value, lenght)\n",
    "    return new_dictionary\n",
    "\n",
    "\n",
    "\n",
    "original_dictionary = {1: 'red', 2: 'green', 3: 'black', 4: 'white', 5: 'blackk'}\n",
    "find_lenght(original_dictionary)"
   ]
  },
  {
   "cell_type": "code",
   "execution_count": 119,
   "id": "569852eb",
   "metadata": {},
   "outputs": [
    {
     "data": {
      "text/plain": [
       "[[1, 'red'], [2, 'green'], [3, 'black'], [4, 'white'], [5, 'black']]"
      ]
     },
     "execution_count": 119,
     "metadata": {},
     "output_type": "execute_result"
    }
   ],
   "source": [
    "# Write a Python program to convert a given dictionary into a list of lists.\n",
    "\n",
    "def convert_into_list(dictionary):\n",
    "    \n",
    "\n",
    "#     key_dictionary = list(dictionary.keys())\n",
    "#     value_dictionary = list(dictionary.values())\n",
    "#     result = []\n",
    "#     length = len(key_dictionary)\n",
    "#     for index in range(length):\n",
    "#         result.append([key_dictionary[index], value_dictionary[index]])\n",
    "    \n",
    "#     result = []\n",
    "#     for key in dictionary.keys():\n",
    "#         new_list = []\n",
    "#         new_list.append(key)\n",
    "#         new_list.append(dictionary[key])\n",
    "#         result.append(new_list)\n",
    "#     return result\n",
    "\n",
    "    result = []\n",
    "    for key in dictionary:\n",
    "         result.append([key, dictionary[key]])\n",
    "    return result\n",
    "    \n",
    "#     key_dictionary = list(dictionary.keys())\n",
    "#     value_dictionary = list(dictionary.values())\n",
    "#     result = []\n",
    "#     new_list_dictionary = zip(key_dictionary, value_dictionary)\n",
    "#     for x in new_list_dictionary:\n",
    "#         result.append(list(x))\n",
    "#     return result\n",
    "        \n",
    "\n",
    "\n",
    "original_dictionary = {1: 'red', 2: 'green', 3: 'black', 4: 'white', 5: 'black'}\n",
    "convert_into_list(original_dictionary)"
   ]
  },
  {
   "cell_type": "code",
   "execution_count": 123,
   "id": "3c7f07e7",
   "metadata": {},
   "outputs": [
    {
     "data": {
      "text/plain": [
       "{10: 2, 40: 2, 20: 2, 70: 1, 80: 1}"
      ]
     },
     "execution_count": 123,
     "metadata": {},
     "output_type": "execute_result"
    }
   ],
   "source": [
    "# Write a Python program to count the frequency in a given dictionary.\n",
    "\n",
    "def freq(dict1):\n",
    "    \n",
    "    frequency = {}\n",
    "    \n",
    "    for values in dict1.values():\n",
    "        if values not in frequency:\n",
    "            frequency[values] = 1\n",
    "        else:\n",
    "            frequency[values] += 1\n",
    "    return frequency\n",
    "    \n",
    "\n",
    "\n",
    "\n",
    "original_dict = {'V': 10, 'VI': 10, 'VII': 40, 'VIII': 20, 'IX': 70, 'X': 80, 'XI': 40, 'XII': 20}\n",
    "freq(original_dict)"
   ]
  },
  {
   "cell_type": "code",
   "execution_count": 126,
   "id": "de839476",
   "metadata": {},
   "outputs": [
    {
     "data": {
      "text/plain": [
       "[('Red', 1), ('Green', 3), ('White', 5), ('Black', 2), ('Pink', 4)]"
      ]
     },
     "execution_count": 126,
     "metadata": {},
     "output_type": "execute_result"
    }
   ],
   "source": [
    "# Write a Python program to convert given a dictionary to a list of tuples.\n",
    "\n",
    "def list_tuples(dictionary):\n",
    "    \n",
    "    list_dictionary = []\n",
    "    for key in dictionary.keys():\n",
    "        list_dictionary.append((key, dictionary[key]))\n",
    "    return list_dictionary\n",
    "        \n",
    "\n",
    "original_dict = {'Red': 1, 'Green': 3, 'White': 5, 'Black': 2, 'Pink': 4}\n",
    "list_tuples(original_dict)"
   ]
  },
  {
   "cell_type": "code",
   "execution_count": 131,
   "id": "72096f01",
   "metadata": {},
   "outputs": [
    {
     "data": {
      "text/plain": [
       "'Betty'"
      ]
     },
     "execution_count": 131,
     "metadata": {},
     "output_type": "execute_result"
    }
   ],
   "source": [
    "# Write a Python program to find the key of the maximum value in a dictionary.\n",
    "\n",
    "def key_maximum_value(items):\n",
    "    \n",
    "    max_value = 0\n",
    "    key_max_value = ''\n",
    "    for key in items.keys():\n",
    "        if items[key] > max_value:\n",
    "            max_value = items[key]\n",
    "            key_max_value = key\n",
    "    return key_max_value\n",
    "\n",
    "\n",
    "original_list = {'Theodore': 19, 'Roxanne': 22, 'Mathew': 21, 'Betty': 255}\n",
    "key_maximum_value(original_list)"
   ]
  },
  {
   "cell_type": "code",
   "execution_count": 40,
   "id": "f0624348",
   "metadata": {},
   "outputs": [
    {
     "data": {
      "text/plain": [
       "['VI', 'VIII', 'X']"
      ]
     },
     "execution_count": 40,
     "metadata": {},
     "output_type": "execute_result"
    }
   ],
   "source": [
    "# Write a Python program to find shortest list of values with the keys in a given dictionary.\n",
    "\n",
    "def shortest_list(dictionary):\n",
    "    \n",
    "    \n",
    "    value_dictionary = list(dictionary.values())\n",
    "    values_sorted = sorted(value_dictionary, key = len) # key is a standard typo, which represents the sorting criterion\n",
    "    min_length = len(values_sorted[0])\n",
    "    result = []\n",
    "    \n",
    "    for key in dictionary.keys():\n",
    "        if len(dictionary[key]) == min_length:\n",
    "            result.append(key)\n",
    "            \n",
    "    return result\n",
    "        \n",
    "            \n",
    "original_list = {'V': [10, 12], 'VI': [10], 'VII': [10, 20, 30, 40], 'VIII': [20], 'IX': [10, 30, 50, 70], 'X': [80]}\n",
    "shortest_list(original_list)"
   ]
  },
  {
   "cell_type": "code",
   "execution_count": 10,
   "id": "a0eeefe1",
   "metadata": {},
   "outputs": [
    {
     "name": "stdout",
     "output_type": "stream",
     "text": [
      "[(4, 5)]\n"
     ]
    }
   ],
   "source": [
    "# Write a Python program to get the 4th element and 4th element from last of a tuple.\n",
    "\n",
    "def get_ellement(values):\n",
    "    \n",
    "    fourth_item = values[3]\n",
    "    fourth_item_from_last = values[-4]\n",
    "    new_list_values = []\n",
    "    new_list_values.append((fourth_item, fourth_item_from_last))\n",
    "    return new_list_values\n",
    "\n",
    "    \n",
    "my_tupple = (1, 2, 3, 4, 5, 6, 7, 8)\n",
    "list_fourth_items = get_ellement(my_tupple)\n",
    "print(list_fourth_items)\n"
   ]
  },
  {
   "cell_type": "code",
   "execution_count": 11,
   "id": "bf37eb57",
   "metadata": {},
   "outputs": [
    {
     "name": "stdout",
     "output_type": "stream",
     "text": [
      "(1, 2, 3, 4, 5)\n"
     ]
    }
   ],
   "source": [
    "# Write a Python program to convert a list to a tuple.\n",
    "\n",
    "list1 = [1, 2, 3, 4, 5]\n",
    "x = tuple(list1)\n",
    "print(x)"
   ]
  },
  {
   "cell_type": "code",
   "execution_count": 25,
   "id": "645a61c8",
   "metadata": {},
   "outputs": [
    {
     "data": {
      "text/plain": [
       "[('',), ('a', 'b'), ('a', 'b', 'c'), 'd']"
      ]
     },
     "execution_count": 25,
     "metadata": {},
     "output_type": "execute_result"
    }
   ],
   "source": [
    "# Write a Python program to remove an empty tuple(s) from a list of tuples.\n",
    "\n",
    "def remove_empty_values(tuple1):\n",
    "    \n",
    "    new_list = []\n",
    "    for pair in tuple1:\n",
    "        if pair != (): # len(pair) > 0\n",
    "            new_list.append(pair)\n",
    "    return new_list\n",
    "\n",
    "# Var 2\n",
    "\n",
    "# def remove_empty_values(tuple1):\n",
    "    \n",
    "#     tuple1 = [x for x in tuple1 if x != ()]\n",
    "    \n",
    "#     return tuple1\n",
    "\n",
    "# Var 3\n",
    "\n",
    "# def remove_empty_values(tuple1):\n",
    "    \n",
    "#     for pair in tuple1:\n",
    "#         if pair == ():\n",
    "#             tuple1.remove(pair)\n",
    "#     return tuple1\n",
    "\n",
    "\n",
    "\n",
    "my_list = [(), (), ('',), ('a', 'b'), ('a', 'b', 'c'), ('d'), ()]\n",
    "remove_empty_values(my_list)"
   ]
  },
  {
   "cell_type": "code",
   "execution_count": 1,
   "id": "c657d51e",
   "metadata": {},
   "outputs": [
    {
     "name": "stdout",
     "output_type": "stream",
     "text": [
      "123451012\n"
     ]
    }
   ],
   "source": [
    "# Write a Python program to convert a given tuple of positive integers into an integer.\n",
    "\n",
    "def convert_values(tuple1):\n",
    "    \n",
    "      string_tuple = ''.join(map(str, tuple1))\n",
    "      return string_tuple\n",
    "\n",
    "my_tuple = (1, 2, 3, 4, 5 ,10, 12)\n",
    "string_tuple = convert_values(my_tuple)\n",
    "print(string_tuple)\n",
    "\n"
   ]
  },
  {
   "cell_type": "code",
   "execution_count": 16,
   "id": "e72bb3eb",
   "metadata": {},
   "outputs": [
    {
     "data": {
      "text/plain": [
       "True"
      ]
     },
     "execution_count": 16,
     "metadata": {},
     "output_type": "execute_result"
    }
   ],
   "source": [
    "# Write a Python program to check if a specified element presents in a tuple of tuples.\n",
    "\n",
    "def check_element(tuples, target):\n",
    "    \n",
    "#     for tupl in tuples:\n",
    "#         for elements in tupl:\n",
    "#             if elements == target:\n",
    "#                 return True\n",
    "#     return False\n",
    "\n",
    "    for tupl in tuples:\n",
    "        if target in tupl:\n",
    "            return True\n",
    "    return False\n",
    "\n",
    "\n",
    "\n",
    "my_tuple = (('Red', 'White', 'Blue'), ('Green', 'Pink', 'Purple'), ('Orange', 'Yellow', 'Lime'))\n",
    "target = 'Lime'\n",
    "check_element(my_tuple, target)"
   ]
  },
  {
   "cell_type": "code",
   "execution_count": 60,
   "id": "bc0ee2a2",
   "metadata": {},
   "outputs": [
    {
     "name": "stdout",
     "output_type": "stream",
     "text": [
      "6\n",
      "9\n",
      "8\n",
      "6\n"
     ]
    },
    {
     "data": {
      "text/plain": [
       "(6, 9, 8, 6)"
      ]
     },
     "execution_count": 60,
     "metadata": {},
     "output_type": "execute_result"
    }
   ],
   "source": [
    "# Write a Python program to compute element-wise sum of given tuples\n",
    "\n",
    "\n",
    "def suma(matrix):\n",
    "    \n",
    "    nr_rows = len(matrix)\n",
    "    nr_columns = len(matrix[0])\n",
    "    result = []\n",
    "    suma = 0\n",
    "    \n",
    "    for col in range(nr_columns):\n",
    "        for row in range(nr_rows):\n",
    "            suma += matrix[row][col]\n",
    "        print(suma)\n",
    "        result.append(suma)\n",
    "        suma = 0\n",
    "    return tuple(result)\n",
    "\n",
    " \n",
    "\n",
    "original_list = [\n",
    "                  (1, 2, 3, 4),\n",
    "                  (3, 5, 2, 1),\n",
    "                  (2, 2, 3, 1)\n",
    "                ]\n",
    "suma(original_list)\n",
    "\n"
   ]
  },
  {
   "cell_type": "code",
   "execution_count": 82,
   "id": "7b6a4b50",
   "metadata": {},
   "outputs": [
    {
     "data": {
      "text/plain": [
       "[10, 11, 8]"
      ]
     },
     "execution_count": 82,
     "metadata": {},
     "output_type": "execute_result"
    }
   ],
   "source": [
    "# Write a Python program to compute element-wise sum of given tuples- on rows\n",
    "\n",
    "\n",
    "def suma(matrix):\n",
    "    \n",
    "    nr_rows = len(matrix)\n",
    "    nr_columns = len(matrix[0])\n",
    "    list_sum_matrix = []\n",
    "    suma = 0\n",
    "    \n",
    "#     for row in range(nr_rows):\n",
    "#         for column in range(nr_columns):\n",
    "#             suma += matrix[row][column]\n",
    "#         list_sum_matrix.append(suma)\n",
    "#         suma = 0\n",
    "#     return list_sum_matrix\n",
    "\n",
    "    for tupl in matrix:\n",
    "        list_sum_matrix.append(sum(tupl))\n",
    "    return list_sum_matrix\n",
    "        \n",
    "\n",
    "\n",
    "\n",
    "original_list = [\n",
    "                  (1, 2, 3, 4),\n",
    "                  (3, 5, 2, 1),\n",
    "                  (2, 2, 3, 1)\n",
    "                ]\n",
    "suma(original_list)"
   ]
  },
  {
   "cell_type": "code",
   "execution_count": 70,
   "id": "b1acc0fb",
   "metadata": {},
   "outputs": [
    {
     "data": {
      "text/plain": [
       "[[1, 2], [2, 3], [3, 4]]"
      ]
     },
     "execution_count": 70,
     "metadata": {},
     "output_type": "execute_result"
    }
   ],
   "source": [
    "# Write a Python program to convert a given list of tuples to a list of lists.\n",
    "\n",
    "def list_lists(list_tuples):\n",
    "    \n",
    "    for index in range(len(list_tuples)):\n",
    "        list_tuples[index] = list(list_tuples[index])\n",
    "    return list_tuples\n",
    "        \n",
    "\n",
    "original_list = [(1, 2), (2, 3), (3, 4)]\n",
    "list_lists(original_list)"
   ]
  },
  {
   "cell_type": "code",
   "execution_count": 78,
   "id": "23555f64",
   "metadata": {},
   "outputs": [
    {
     "data": {
      "text/plain": [
       "[10.5, 44.0, 58.0, 2.5]"
      ]
     },
     "execution_count": 78,
     "metadata": {},
     "output_type": "execute_result"
    }
   ],
   "source": [
    "# Write a Python program to calculate the average value of the numbers in a given tuple of tuples.\n",
    "\n",
    "def sum1(tuples):\n",
    "    \n",
    "    nr_rows = len(tuples)\n",
    "    nr_columns = len(tuples[0])\n",
    "    list_values = []\n",
    "    suma = 0\n",
    "    \n",
    "#     for row in range(nr_rows):\n",
    "#         for column in range(nr_columns):\n",
    "#             suma += tuples[row][column]\n",
    "#         list_values.append(suma / nr_columns)\n",
    "#         suma = 0\n",
    "#     return list_values\n",
    "\n",
    "    for row in range(nr_rows):\n",
    "        list_values.append(sum(tuples[row])/nr_columns)\n",
    "    return list_values\n",
    "        \n",
    "    \n",
    "tuple_tuples = ((10, 10, 10, 12), \n",
    "                (30, 45, 56, 45), \n",
    "                (81, 80, 39, 32), \n",
    "                (1, 2, 3, 4))\n",
    "sum1(tuple_tuples)"
   ]
  },
  {
   "cell_type": "code",
   "execution_count": 18,
   "id": "b16a68a0",
   "metadata": {},
   "outputs": [
    {
     "name": "stdout",
     "output_type": "stream",
     "text": [
      "{1, 2, 3, 4, 5}\n",
      "{1, 3, 4, 5}\n"
     ]
    }
   ],
   "source": [
    "# Write a Python program to add member(s) in a set and then to delete another member from the set\n",
    "\n",
    "\n",
    "def adding_value(set1):\n",
    "    \n",
    "    set1.add(5)\n",
    "    return set1\n",
    "\n",
    "def remove_value(set2):\n",
    "    \n",
    "    set2.remove(2)\n",
    "    return set2\n",
    "    \n",
    "\n",
    "set_values = {1, 2, 3, 4, 5}\n",
    "\n",
    "adding_value = adding_value(set_values)\n",
    "print(adding_value)\n",
    "\n",
    "remove_value = remove_value(adding_value)\n",
    "print(remove_value)\n",
    "\n",
    "\n"
   ]
  },
  {
   "cell_type": "code",
   "execution_count": 2,
   "id": "49195f59",
   "metadata": {},
   "outputs": [
    {
     "name": "stdout",
     "output_type": "stream",
     "text": [
      "{1, 2, 3, 4}\n"
     ]
    }
   ],
   "source": [
    "# Write a Python program to remove an item from a set if it is present in the set.\n",
    "\n",
    "def removing_value(set1, item):\n",
    "    \n",
    "    if item in set1:\n",
    "        set1.remove(item)\n",
    "    return set1\n",
    "\n",
    "\n",
    "set_values = {1, 2, 3, 4, 5}\n",
    "item = 5\n",
    "removing_value_if_present = removing_value(set_values, item)\n",
    "print(removing_value_if_present)"
   ]
  },
  {
   "cell_type": "code",
   "execution_count": 14,
   "id": "879ac3e3",
   "metadata": {},
   "outputs": [
    {
     "data": {
      "text/plain": [
       "True"
      ]
     },
     "execution_count": 14,
     "metadata": {},
     "output_type": "execute_result"
    }
   ],
   "source": [
    "# Write a Python program to check if two given sets have no elements in common.\n",
    "\n",
    "def common_element(values1, values2):\n",
    "    \n",
    "    for number in values1:\n",
    "        if number in values2:\n",
    "            return True\n",
    "    return False\n",
    "        \n",
    "\n",
    "\n",
    "set1 = {1, 2, 3, 4}\n",
    "set2 = {10, 20, 30 ,4}\n",
    "common_element(set1, set2)"
   ]
  },
  {
   "cell_type": "code",
   "execution_count": 16,
   "id": "7e0dfb12",
   "metadata": {},
   "outputs": [
    {
     "name": "stdout",
     "output_type": "stream",
     "text": [
      "[1, 2, 3]\n"
     ]
    }
   ],
   "source": [
    "# Write a Python program to find the elements in a given set that are not in another set.\n",
    "\n",
    "def find_elements(set1, set2):\n",
    "    \n",
    "    list_elements = []\n",
    "    for value in set1:\n",
    "        if value not in set2:\n",
    "            list_elements.append(value)\n",
    "    return list_elements\n",
    "\n",
    "\n",
    "\n",
    "set1 = {1, 2, 3, 4}\n",
    "set2 = {10, 20, 30 ,4}\n",
    "found_elements = find_elements(set1, set2)\n",
    "print(found_elements)"
   ]
  },
  {
   "cell_type": "code",
   "execution_count": 39,
   "id": "5e8c57a5",
   "metadata": {},
   "outputs": [
    {
     "data": {
      "text/plain": [
       "20"
      ]
     },
     "execution_count": 39,
     "metadata": {},
     "output_type": "execute_result"
    }
   ],
   "source": [
    "# Problema Zaruri\n",
    "\n",
    "# V1\n",
    "\n",
    "def find_missing_values(lista):\n",
    "    \n",
    "\n",
    "    list_missing_values = 0\n",
    "    for pair in lista:\n",
    "        for values in range(1, 7):\n",
    "            if values not in pair:\n",
    "                list_missing_values += values\n",
    "    return list_missing_values\n",
    "\n",
    "# V2\n",
    "                \n",
    "# def find_missing_values(lista):\n",
    "    \n",
    "#     n = len(lista)\n",
    "#     suma_totala = n * (1+2+3+4+5+6)\n",
    "#     for zar in lista:\n",
    "#         for number in zar:\n",
    "#             suma_totala -= number\n",
    "#     return suma_totala\n",
    "\n",
    "# V3\n",
    "\n",
    "# def find_missing_values(lista):\n",
    "    \n",
    "#     n = len(lista)\n",
    "#     suma_totala = n * (1+2+3+4+5+6)\n",
    "#     for zar in lista:\n",
    "#         suma_totala -= sum(zar)\n",
    "#     return suma_totala\n",
    "    \n",
    "\n",
    "fete_zaruri = [[1, 3, 2, 5, 6], [6, 4, 1, 5], [6, 5, 4, 3], [1, 4, 3, 5]]\n",
    "find_missing_values(fete_zaruri)"
   ]
  },
  {
   "cell_type": "code",
   "execution_count": 65,
   "id": "d68d5522",
   "metadata": {},
   "outputs": [
    {
     "name": "stdout",
     "output_type": "stream",
     "text": [
      "Jocul este OK\n"
     ]
    }
   ],
   "source": [
    "# Problema Casino\n",
    "\n",
    "def gasire_frecventa(lista_carti_jucate):\n",
    "    \n",
    "    frecventa_carti = {}\n",
    "   \n",
    "    for carte in lista_carti_jucate:\n",
    "        if carte not in frecventa_carti:\n",
    "            frecventa_carti[carte] = 1\n",
    "        else:\n",
    "            frecventa_carti[carte] += 1\n",
    "            if frecventa_carti[carte] >= 3:\n",
    "                print('Prima carte jucata de trei ori este: ', carte)\n",
    "                break\n",
    "    print('Jocul este OK')\n",
    "    \n",
    "\n",
    "\n",
    "carti_jucate = ['11 caro', '11 pica']\n",
    "gasire_frecventa(carti_jucate)"
   ]
  },
  {
   "cell_type": "code",
   "execution_count": 99,
   "id": "92f6b5db",
   "metadata": {},
   "outputs": [
    {
     "name": "stdout",
     "output_type": "stream",
     "text": [
      "Nr loturi utile: 1\n",
      "Lotul cu cele mai multe componente: 6\n"
     ]
    }
   ],
   "source": [
    "# Problema Loturi\n",
    "# Output : 1, 6\n",
    "\n",
    "def frecventa_componente(lot):\n",
    "    \n",
    "    frecventa = {}\n",
    "    for component in lot:\n",
    "        if component not in frecventa:\n",
    "            frecventa[component] = 1\n",
    "        else:\n",
    "            frecventa[component] += 1\n",
    "    return frecventa\n",
    "\n",
    "\n",
    "def e_util(frecventa_comp_lot):\n",
    "    \n",
    "    if 'C' not in frecventa_comp_lot or 'R' not in frecventa_comp_lot or 'T' not in frecventa_comp_lot:\n",
    "        return False\n",
    "    \n",
    "    if  frecventa_comp_lot['C'] >= frecventa_comp_lot['T'] and frecventa_comp_lot['R'] >= frecventa_comp_lot['C']:\n",
    "        return True\n",
    "    \n",
    "    return False\n",
    "\n",
    "\n",
    "def loturi_utile(lista_loturi):\n",
    "    \n",
    "    count = 0\n",
    "    lot_max_comp = 0\n",
    "    for lot in lista_loturi:\n",
    "        frecventa_comp_lot = frecventa_componente(lot)\n",
    "        if e_util(frecventa_comp_lot) == True:\n",
    "            count += 1\n",
    "        if len(lot) > lot_max_comp:\n",
    "            lot_max_comp = len(lot)\n",
    "    return count, lot_max_comp\n",
    "            \n",
    "\n",
    "lista_componente = [['R', 'C', 'R', 'T', 'C'], ['C', 'R', 'T', 'R', 'T'], ['C', 'C', 'T', 'C', 'C','T']]\n",
    "nr_loturi_utile, nr_comp_max = loturi_utile(lista_componente)\n",
    "print(\"Nr loturi utile:\", nr_loturi_utile)\n",
    "print(\"Lotul cu cele mai multe componente:\", nr_comp_max)"
   ]
  },
  {
   "cell_type": "code",
   "execution_count": 109,
   "id": "b788e3d6",
   "metadata": {},
   "outputs": [
    {
     "name": "stdout",
     "output_type": "stream",
     "text": [
      "Nr loturi utile: 1\n",
      "Lotul cu cele mai multe componente: 6\n"
     ]
    }
   ],
   "source": [
    "# Problema Loturi\n",
    "\n",
    "def frecventa_componenta(lot):              # helping function that would create the frequency\n",
    "    \n",
    "    freq = {}\n",
    "    for componenta in lot:\n",
    "        if componenta not in freq:\n",
    "            freq[componenta] = 1\n",
    "        else:\n",
    "            freq[componenta] += 1\n",
    "    return freq\n",
    "    \n",
    "\n",
    "def e_util(frecventa_comp_lot):\n",
    "    \n",
    "    if 'C' not in frecventa_comp_lot or 'R' not in frecventa_comp_lot or 'T' not in frecventa_comp_lot:\n",
    "        return False\n",
    "    \n",
    "    elif  frecventa_comp_lot['C'] >= frecventa_comp_lot['T'] and frecventa_comp_lot['R'] >= frecventa_comp_lot['C']:\n",
    "        return True\n",
    "    return False\n",
    "    \n",
    "    \n",
    "def loturi_utile(lista_loturi):\n",
    "    \n",
    "    count = 0\n",
    "    max_comp_lot = 0\n",
    "    for lot in lista_loturi:                          # for each list insinde the list, create a variable that would use the above function\n",
    "        frecventa_comp_lot = frecventa_componenta(lot)\n",
    "        if e_util(frecventa_comp_lot) == True:\n",
    "            count += 1\n",
    "        if len(lot) > max_comp_lot:\n",
    "            max_comp_lot = len(lot)\n",
    "    return count, max_comp_lot\n",
    "            \n",
    "    \n",
    "lista_componente = [['R', 'C', 'R', 'T', 'C'], ['C', 'R', 'T', 'R', 'T'], ['C', 'C', 'T', 'C', 'C','T']]\n",
    "nr_loturi_utile, nr_comp_max = loturi_utile(lista_componente)\n",
    "print(\"Nr loturi utile:\", nr_loturi_utile)\n",
    "print(\"Lotul cu cele mai multe componente:\", nr_comp_max)"
   ]
  },
  {
   "cell_type": "code",
   "execution_count": 172,
   "id": "f2b139d3",
   "metadata": {},
   "outputs": [
    {
     "name": "stdout",
     "output_type": "stream",
     "text": [
      "1.0 1.0\n",
      "1\n"
     ]
    }
   ],
   "source": [
    "# Problema Biti\n",
    "\n",
    "def frequency(numbers):\n",
    "    \n",
    "    freq = {}\n",
    "    for index in range(0, len(numbers), 2):\n",
    "        number = numbers[index:index+2]\n",
    "        if number not in freq:\n",
    "            freq[number] = 1\n",
    "        else:\n",
    "            freq[number] += 1\n",
    "    return freq\n",
    "\n",
    "def dif_max_min(frequency_values):\n",
    "    \n",
    "    min_number = 9999\n",
    "    max_number = 0\n",
    "    for key in frequency_values.keys():\n",
    "        if frequency_values[key] > max_number:\n",
    "            max_number = frequency_values[key]\n",
    "        if frequency_values[key] < min_number:\n",
    "            min_number = frequency_values[key]\n",
    "    return max_number / min_number\n",
    "    \n",
    "def dif_0_1(numbers):\n",
    "    \n",
    "    counter_0 = numbers.count('0')\n",
    "    counter_1 = numbers.count('1')\n",
    "    return max(counter_0, counter_1) / min(counter_0, counter_1) # it takes the bigger or smaller from the two variables\n",
    "    \n",
    "def print_results(sir_biti):\n",
    "    \n",
    "    frequency_bits = frequency(sir_biti)\n",
    "    difference_max_min = dif_max_min(frequency_bits)\n",
    "    difference_0_1 = dif_0_1(sir_biti)\n",
    "    print(difference_max_min, difference_0_1)\n",
    "    \n",
    "    if difference_max_min > 1.10 or difference_0_1 > 1.10:\n",
    "        print(0)\n",
    "    else:\n",
    "        print(1)\n",
    "\n",
    "\n",
    "sir_biti = '101100110111100001010010'\n",
    "print_results(sir_biti)"
   ]
  },
  {
   "cell_type": "code",
   "execution_count": 171,
   "id": "354727dd",
   "metadata": {},
   "outputs": [],
   "source": [
    "sir_biti = '101100110111100001010010'\n",
    "for index in range(0, len(sir_biti), 2):\n",
    "    numbers = sir_biti[index:index+2] # is the value corresponding to the index to index + 1.\n",
    "                                      # for every index, we'll take the value coressponding to the index till index + 1\n",
    "                                      # value[index, index+2] = value[index, index +1]"
   ]
  },
  {
   "cell_type": "code",
   "execution_count": 2,
   "id": "9f448252",
   "metadata": {},
   "outputs": [
    {
     "name": "stdout",
     "output_type": "stream",
     "text": [
      "AB 123 ABC\n"
     ]
    }
   ],
   "source": [
    "# Problema Numere Inmatriculare:\n",
    "\n",
    "def e_nr_corect(numar_inmatriculare, judete):    \n",
    "    \n",
    "    judet, nr, nume = numar_inmatriculare.split()\n",
    "    if judet not in judete:\n",
    "        return False\n",
    "    if len(nr) != 2 and len(nr) != 3: \n",
    "        return False\n",
    "    if nr.isnumeric() == False:\n",
    "        return False\n",
    "    if len(nume) != 3 or nume.isalpha() == False or nume.isupper() == False:\n",
    "        return False\n",
    "    return True\n",
    "\n",
    "def afisare_nr_corect(lista_numere_inmatriculare, judete):\n",
    "    \n",
    "    for nr_inmatriculare in lista_numere_inmatriculare:\n",
    "        if e_nr_corect(nr_inmatriculare, judete) == True:\n",
    "            print(nr_inmatriculare)\n",
    "    \n",
    "\n",
    "lista_nr_inmatriculare = ['AB 123 ABC', 'BB 3 dEF']\n",
    "str1 = ['AB', 'AR', 'AG', 'B', 'BC', 'BH', 'BN', 'BT', 'BV', 'BR', 'BZ', 'CS', 'CL', 'CJ', 'CT', 'CV', 'DB', 'DJ', 'GL', \n",
    "        'GR', 'GJ', 'HR', 'HD', 'IL', 'IS', 'IF', 'MM', 'MH', 'MS', 'NT', 'OT', 'PH', 'SM', 'SJ', 'SB', 'SV', 'TR', 'TM', \n",
    "        'TL', 'VS', 'VL', 'VN']\n",
    "afisare_nr_corect(lista_nr_inmatriculare, str1)"
   ]
  },
  {
   "cell_type": "code",
   "execution_count": 36,
   "id": "18b23a20",
   "metadata": {},
   "outputs": [
    {
     "data": {
      "text/plain": [
       "'8FH HG2 s7 I2 D2G2 61H0N2 (IhF 6HG2 I1HG sg 61H0N2 61G2n0eFAHN1G)!'"
      ]
     },
     "execution_count": 36,
     "metadata": {},
     "output_type": "execute_result"
    }
   ],
   "source": [
    "# Problema Criptare Caractere\n",
    "\n",
    "\n",
    "def criptare(text, cod):\n",
    "    \n",
    "    text_criptat = ''\n",
    "    for litera in text:\n",
    "        if litera in cod.keys():\n",
    "            text_criptat += cod[litera]\n",
    "        else:\n",
    "            text_criptat += litera\n",
    "    return text_criptat\n",
    "            \n",
    "\n",
    "# Notes: strings are immutable. It means that it was necessary to create a new string variable (text_criptat) in which\n",
    "#        to concatenate the values from the dictionary + the characters not present in the dictionary\n",
    "\n",
    "text_original = 'Ana are 37 de mere coapte (din care doar 35 coapte corespunzator)!'\n",
    "cripted_characters = {'a': 'H', 'b': 'j', 'c': '6', 'd': 'I', 'e': '2', 'f': 'R', 'g': '5', 'h': 't', 'i': 'h', 'j': 'k', \n",
    "                      'k': 'm', 'l': 'f', 'm': 'D', 'n': 'F', 'o': '1', 'p': '0', 'q': 'c', 'r': 'G', 's': 'n', 't': 'N', \n",
    "                      'u': 'e', 'v': 'B', 'w': 'r', 'x': 'U', 'y': 'p', 'z': 'A', 'A': '8', 'B': 'X', 'C': 'S', 'D': 'P', \n",
    "                      'E': 'T', 'F': 'a', 'G': 'M', 'H': 'd', 'I': 'K', 'J': 'L', 'K': '3', 'L': 'C', 'M': 'i', 'N': '9',\n",
    "                      'O': 'E', 'P': 'w', 'Q': 'o', 'R': 'z', 'S': '4', 'T': 'O', 'U': 'q', 'V': 'V', 'W': 'J', 'X': 'x',\n",
    "                      'Y': 'Z', 'Z': 'u', '0': 'l', '1': 'y', '2': 'W', '3': 's', '4': 'Q', '5': 'g', '6': 'v', '7': '7', \n",
    "                      '8': 'b', '9': 'Y'}\n",
    "criptare(text_original, cripted_characters)"
   ]
  },
  {
   "cell_type": "code",
   "execution_count": 71,
   "id": "a8c066cc",
   "metadata": {},
   "outputs": [
    {
     "name": "stdout",
     "output_type": "stream",
     "text": [
      "1\n"
     ]
    }
   ],
   "source": [
    "# Problema Zaruri Masluite\n",
    "\n",
    "def frecventa_aparitii(valori):\n",
    "    \n",
    "    frecventa_aparitii = {}\n",
    "    \n",
    "    for valoare in valori:\n",
    "        if valoare not in frecventa_aparitii:\n",
    "            frecventa_aparitii[valoare] = 1\n",
    "        else: frecventa_aparitii[valoare] += 1\n",
    "    return frecventa_aparitii\n",
    "\n",
    "def diferenta(nr_aparitii):\n",
    "    \n",
    "    maxim_aparitii = 0\n",
    "    minim_aparitii = 99999\n",
    "    lenght_nr_aparitii = len(nr_aparitii)\n",
    "    \n",
    "    for key in nr_aparitii.keys():\n",
    "        if nr_aparitii[key] > maxim_aparitii:\n",
    "            maxim_aparitii = nr_aparitii[key]\n",
    "        if lenght_nr_aparitii == 1:\n",
    "            minim_aparitii = 0\n",
    "        if nr_aparitii[key] < minim_aparitii:\n",
    "            minim_aparitii = nr_aparitii[key]\n",
    "    return maxim_aparitii - minim_aparitii\n",
    "\n",
    "def rezultat(diff_max_min, aruncari_zaruri1):\n",
    "    \n",
    "    nr_aruncari = len(aruncari_zaruri)\n",
    "    zece_la_suta_nr_aruncari = 10 / 100 * nr_aruncari\n",
    "    if diff_max_min > zece_la_suta_nr_aruncari:\n",
    "        return 1\n",
    "    else:\n",
    "        return 0\n",
    "    \n",
    "\n",
    "aruncari_zaruri = [6, 6, 6, 6, 6, 6, 6, 6, 6, 6]\n",
    "frecventa1 = frecventa_aparitii(aruncari_zaruri)\n",
    "diferenta1 = diferenta(frecventa1)\n",
    "rezultat1 = rezultat(diferenta1, aruncari_zaruri)\n",
    "print(rezultat1)"
   ]
  },
  {
   "cell_type": "code",
   "execution_count": 47,
   "id": "dd9fdd72",
   "metadata": {},
   "outputs": [],
   "source": [
    "# Problema Cinematograf\n",
    "from functools import cmp_to_key\n",
    "\n",
    "def cmp(a, b):\n",
    "    \n",
    "    ora_a = int(a[0].split(':')[0])\n",
    "    min_a = int(a[0].split(':')[1])\n",
    "    pret_a = a[1]\n",
    "    \n",
    "    ora_b = int(b[0].split(':')[0])\n",
    "    min_b = int(b[0].split(':')[1])\n",
    "    pret_b = b[1]\n",
    "    \n",
    "    if ora_a < ora_b:\n",
    "        return -1\n",
    "    if ora_a == ora_b and min_a < min_b:\n",
    "        return -1\n",
    "    if ora_a == ora_b and min_a == min_b and pret_a == pret_b:\n",
    "        return 0\n",
    "    if ora_a == ora_b and min_a == min_b and pret_a < pret_b:\n",
    "        return -1\n",
    "    return 1    \n",
    "\n",
    "\n",
    "movie_list = [\n",
    "              ['18:00', 15, 'Bohemian-Rhapsody'], ['16:50', 20, 'Mos-Craciun-in-misiune'], \n",
    "              ['12:00', 13, 'Creed-II'], ['9:14', 4, \"Film de Craciun\"], ['12:00', 3, 'Creed-7788'], ['16:55', 20, 'Grinch']\n",
    "             ]\n",
    "ora_venire = '16:45'\n",
    "movie_list_sorted = sorted(movie_list, key = cmp_to_key(cmp))"
   ]
  },
  {
   "cell_type": "code",
   "execution_count": 28,
   "id": "d381f647",
   "metadata": {},
   "outputs": [
    {
     "data": {
      "text/plain": [
       "[(1, None), (2, None), (3, None), (4, None)]"
      ]
     },
     "execution_count": 28,
     "metadata": {},
     "output_type": "execute_result"
    }
   ],
   "source": [
    "def compare(x, y):\n",
    "     return x[0] - y[0]\n",
    "\n",
    "data = [(4, None), (3, None), (2, None), (1, None)]\n",
    "from functools import cmp_to_key\n",
    "sorted(data, key=cmp_to_key(compare))"
   ]
  },
  {
   "cell_type": "code",
   "execution_count": 6,
   "id": "e089356a",
   "metadata": {},
   "outputs": [
    {
     "data": {
      "text/plain": [
       "True"
      ]
     },
     "execution_count": 6,
     "metadata": {},
     "output_type": "execute_result"
    }
   ],
   "source": [
    "# Binary search\n",
    "\n",
    "def binary_search(values, needed_number):\n",
    "    \n",
    "    left = 0\n",
    "    right = len(values) - 1\n",
    "    while left <= right:\n",
    "        mid_point = (left+right) // 2\n",
    "        if values[mid_point] == needed_number:\n",
    "            return True\n",
    "        elif values[mid_point] < needed_number:\n",
    "            left = mid_point + 1\n",
    "        else:\n",
    "            right = mid_point - 1\n",
    "    return False\n",
    "\n",
    "\n",
    "\n",
    "list_numbers = [1, 2, 3, 5, 12, 47, 240, 1004, 2005, 3000, 4002]\n",
    "number_to_be_found = 240\n",
    "binary_search(list_numbers, number_to_be_found)"
   ]
  },
  {
   "cell_type": "code",
   "execution_count": 18,
   "id": "40d4bdb9",
   "metadata": {},
   "outputs": [
    {
     "name": "stdout",
     "output_type": "stream",
     "text": [
      "10\n",
      "55.0\n"
     ]
    }
   ],
   "source": [
    "def lconst(dst, val, registri):\n",
    "    registri[dst] = val\n",
    "    \n",
    "def add(dst, src0, src, registri):\n",
    "    suma = registri[src0] + registri[src]\n",
    "    registri[dst] = suma\n",
    "    \n",
    "def mul(dst, src0, src, registri):\n",
    "    multime = registri[src0] * registri[src]\n",
    "    registri[dst] = multime\n",
    "    \n",
    "def div(dst, src0, src, registri):\n",
    "    multime = registri[src0] / registri[src]\n",
    "    registri[dst] = multime\n",
    "\n",
    "def afisare(reg, registri):\n",
    "    print(registri[reg])\n",
    "    \n",
    "def apeluri(instructiuni, registri):\n",
    "    \n",
    "    for instructiune in instructiuni:\n",
    "        if instructiune[0] == 'lconst':\n",
    "            lconst(instructiune[1], instructiune[2], registri)\n",
    "        elif instructiune[0] == 'add':\n",
    "            add(instructiune[1], instructiune[2], instructiune[3], registri)\n",
    "        elif instructiune[0] == 'mul':\n",
    "            mul(instructiune[1], instructiune[2], instructiune[3], registri)\n",
    "        elif instructiune[0] == 'div':\n",
    "            div(instructiune[1], instructiune[2], instructiune[3], registri)\n",
    "        elif instructiune[0] == 'afisare':\n",
    "            afisare(instructiune[1], registri)\n",
    "\n",
    "\n",
    "registri = [0] * 16\n",
    "instructiuni = [\n",
    "                ['lconst', 0, 10], ['afisare', 0], ['lconst', 2, 1], ['add', 1,  0, 2], ['mul', 2, 0, 1], ['lconst', 1, 2],\n",
    "                ['div', 0, 2, 1], ['afisare', 0]\n",
    "               ]\n",
    "apeluri(instructiuni, registri)\n"
   ]
  },
  {
   "cell_type": "code",
   "execution_count": 19,
   "id": "3afbdfa5",
   "metadata": {},
   "outputs": [
    {
     "name": "stdout",
     "output_type": "stream",
     "text": [
      "Mr. Mike Thomson\n",
      "Ms. Andria Bustle\n",
      "Mr. Robert Bustle\n"
     ]
    }
   ],
   "source": [
    "# OUTPUT:\n",
    "# Mr. Mike Thomson\n",
    "# Ms. Andria Bustle\n",
    "# Mr. Robert Bustle\n",
    "\n",
    "\n",
    "def mr_ms(list_lists_names, male, female):\n",
    "    \n",
    "    for list_name in list_lists_names:\n",
    "        if list_name[-1] == male:\n",
    "            list_name[0] = 'Mr. ' + list_name[0]\n",
    "            print(' '.join(list_name[0:2]))\n",
    "        if list_name[-1] == female:\n",
    "            list_name[0] = 'Ms. ' + list_name[0]\n",
    "            print(' '.join(list_name[0:2]))\n",
    "\n",
    "list_names = [\n",
    "              ['Mike','Thomson', '20', 'M'], \n",
    "              ['Andria', 'Bustle', '30', 'F'],\n",
    "              ['Robert', 'Bustle', '32','M']\n",
    "             ]\n",
    "masculine = 'M'\n",
    "feminine = 'F'\n",
    "mr_ms(list_names, masculine, feminine)"
   ]
  },
  {
   "cell_type": "code",
   "execution_count": 53,
   "id": "f0e0d3cd",
   "metadata": {},
   "outputs": [
    {
     "name": "stdout",
     "output_type": "stream",
     "text": [
      "14\n"
     ]
    }
   ],
   "source": [
    "def sorted_bin(number, substring):\n",
    "    \n",
    "    # transformed from decimal to binary\n",
    "    raw_binary_number = bin(number)\n",
    "    modified_binary_number = raw_binary_number[2:]\n",
    "    list_modified_binary_number = list(modified_binary_number)\n",
    "    biggest_binary_number_list = sorted(list_modified_binary_number, reverse = True)\n",
    "    biggest_binary_number = ''.join(biggest_binary_number_list)\n",
    "    biggest_decimal_number = int(biggest_binary_number, 2)\n",
    "    return biggest_decimal_number\n",
    "\n",
    "\n",
    "n = 13\n",
    "substring = 1\n",
    "sorted_binary = sorted_bin(n, substring)\n",
    "print(sorted_binary)"
   ]
  },
  {
   "cell_type": "code",
   "execution_count": 75,
   "id": "9f7a5723",
   "metadata": {},
   "outputs": [
    {
     "name": "stdout",
     "output_type": "stream",
     "text": [
      "3\n",
      "Ilie David 10.0\n"
     ]
    }
   ],
   "source": [
    "# Problema burse studentesti:\n",
    "\n",
    "def is_integralist(marks):\n",
    "\n",
    "    for mark in marks:\n",
    "        if mark < 5:\n",
    "            return False\n",
    "    return True\n",
    "\n",
    "def average_marks(marks):\n",
    "    \n",
    "    return sum(marks) / len(marks)\n",
    "\n",
    "def eligible_for_scolarship(students_and_marks, no_scholarships):\n",
    "    \n",
    "    counter_scolarships = 0\n",
    "    medie_maxima = 0\n",
    "    for student in students_and_marks.keys():\n",
    "        marks = students_and_marks[student]\n",
    "        if is_integralist(marks) == True and average_marks(marks) >= 8.00:\n",
    "            counter_scolarships += 1\n",
    "            if average_marks(marks) > medie_maxima:\n",
    "                medie_maxima = average_marks(marks)\n",
    "                student_performanta = student\n",
    "    return min(counter_scolarships - 1, no_scholarships), student_performanta, medie_maxima\n",
    "\n",
    "    \n",
    "\n",
    "students_and_marks = {\n",
    "                      'George Popescu': [9, 9, 9], 'Dan Pop': [10, 4, 10], 'Ionela Cristescu': [6, 8, 8], \n",
    "                      'Ilie David': [10, 10, 10], 'Georgiana Fus': [9, 10, 10], 'Cristian Oprescu': [8, 9, 9]\n",
    "                     }\n",
    "\n",
    "scolarships_available = 5\n",
    "\n",
    "nr_burse_acordate, nume_student_performanta, medie  = eligible_for_scolarship(students_and_marks, scolarships_available)\n",
    "print(nr_burse_acordate)\n",
    "print(nume_student_performanta, medie)"
   ]
  },
  {
   "cell_type": "code",
   "execution_count": 4,
   "id": "a73af41d",
   "metadata": {},
   "outputs": [
    {
     "data": {
      "text/plain": [
       "'ZGOMOT ALB'"
      ]
     },
     "execution_count": 4,
     "metadata": {},
     "output_type": "execute_result"
    }
   ],
   "source": [
    "\n",
    "def decripting_code(value):\n",
    "    \n",
    "    index = 0\n",
    "    string = ''\n",
    "    while index < len(value):\n",
    "        numbers = value[index:index+2]\n",
    "        if int(numbers) == 0:\n",
    "            string += \" \"\n",
    "            index += 2\n",
    "        elif int(numbers) <= 26:\n",
    "            string += chr(ord('A') + int(numbers) - 1)\n",
    "            index += 2\n",
    "        else:\n",
    "            numbers = value[index:index+1]\n",
    "            string += chr(ord('A') + int(numbers) - 1)\n",
    "            index += 1\n",
    "    return string\n",
    "            \n",
    "\n",
    "number = '2671513152000011202'\n",
    "decripting_code(number)"
   ]
  },
  {
   "cell_type": "code",
   "execution_count": null,
   "id": "0c217576",
   "metadata": {},
   "outputs": [],
   "source": [
    "# Write a Python program to count the number of even and odd numbers from a series of numbers\n",
    "\n",
    "def counting_odd_even(values):\n",
    "    \n",
    "    counter = 0\n",
    "    while valu\n",
    "    \n",
    "\n",
    "\n",
    "numbers = (1, 2, 3, 4, 5, 6, 7, 8, 9)\n",
    "counting_odd_even(numbers)\n"
   ]
  },
  {
   "cell_type": "code",
   "execution_count": 60,
   "id": "831b31e0",
   "metadata": {},
   "outputs": [
    {
     "data": {
      "text/plain": [
       "False"
      ]
     },
     "execution_count": 60,
     "metadata": {},
     "output_type": "execute_result"
    }
   ],
   "source": [
    "# s = '((()))' -> True\n",
    "# s = '()()(())' -> True\n",
    "# s = '((())))' -> False\n",
    "# s = ')))(((' -> False\n",
    "\n",
    "def is_correct_paranthesised(s):\n",
    "    \n",
    "    stack = []\n",
    "    for character in s:\n",
    "        if character == '(':\n",
    "            stack.append(character)\n",
    "        elif character == ')':\n",
    "            if stack != []:\n",
    "                stack.pop()\n",
    "            else:\n",
    "                return False\n",
    "    if stack == []:\n",
    "        return True\n",
    "    else:\n",
    "        return False\n",
    "    \n",
    "\n",
    "s = '((((())))'\n",
    "is_correct_paranthesised(s)"
   ]
  },
  {
   "cell_type": "code",
   "execution_count": null,
   "id": "43e0f1b4",
   "metadata": {},
   "outputs": [],
   "source": []
  }
 ],
 "metadata": {
  "kernelspec": {
   "display_name": "Python 3",
   "language": "python",
   "name": "python3"
  },
  "language_info": {
   "codemirror_mode": {
    "name": "ipython",
    "version": 3
   },
   "file_extension": ".py",
   "mimetype": "text/x-python",
   "name": "python",
   "nbconvert_exporter": "python",
   "pygments_lexer": "ipython3",
   "version": "3.8.8"
  }
 },
 "nbformat": 4,
 "nbformat_minor": 5
}
