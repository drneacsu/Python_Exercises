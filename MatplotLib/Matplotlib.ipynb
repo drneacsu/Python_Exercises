{
 "cells": [
  {
   "cell_type": "markdown",
   "id": "a6b464b0",
   "metadata": {},
   "source": [
    "# Create a Line Plot"
   ]
  },
  {
   "cell_type": "code",
   "execution_count": 1,
   "id": "1f62fbf7",
   "metadata": {},
   "outputs": [],
   "source": [
    "import pandas as pd # use it to extract data from another file"
   ]
  },
  {
   "cell_type": "code",
   "execution_count": 2,
   "id": "3b6af499",
   "metadata": {},
   "outputs": [],
   "source": [
    "from matplotlib import pyplot as plt # use it to access the visualization"
   ]
  },
  {
   "cell_type": "code",
   "execution_count": 3,
   "id": "705786d5",
   "metadata": {},
   "outputs": [],
   "source": [
    "from matplotlib import style # create style for the chart"
   ]
  },
  {
   "cell_type": "code",
   "execution_count": 10,
   "id": "de24c0c4",
   "metadata": {},
   "outputs": [],
   "source": [
    "data = pd.read_csv('countries.csv') # stocking the data from the file into one variable"
   ]
  },
  {
   "cell_type": "code",
   "execution_count": 11,
   "id": "6434691e",
   "metadata": {},
   "outputs": [
    {
     "data": {
      "text/html": [
       "<div>\n",
       "<style scoped>\n",
       "    .dataframe tbody tr th:only-of-type {\n",
       "        vertical-align: middle;\n",
       "    }\n",
       "\n",
       "    .dataframe tbody tr th {\n",
       "        vertical-align: top;\n",
       "    }\n",
       "\n",
       "    .dataframe thead th {\n",
       "        text-align: right;\n",
       "    }\n",
       "</style>\n",
       "<table border=\"1\" class=\"dataframe\">\n",
       "  <thead>\n",
       "    <tr style=\"text-align: right;\">\n",
       "      <th></th>\n",
       "      <th>country</th>\n",
       "      <th>year</th>\n",
       "      <th>population</th>\n",
       "    </tr>\n",
       "  </thead>\n",
       "  <tbody>\n",
       "    <tr>\n",
       "      <th>0</th>\n",
       "      <td>Afghanistan</td>\n",
       "      <td>1952</td>\n",
       "      <td>8425333</td>\n",
       "    </tr>\n",
       "    <tr>\n",
       "      <th>1</th>\n",
       "      <td>Afghanistan</td>\n",
       "      <td>1957</td>\n",
       "      <td>9240934</td>\n",
       "    </tr>\n",
       "    <tr>\n",
       "      <th>2</th>\n",
       "      <td>Afghanistan</td>\n",
       "      <td>1962</td>\n",
       "      <td>10267083</td>\n",
       "    </tr>\n",
       "    <tr>\n",
       "      <th>3</th>\n",
       "      <td>Afghanistan</td>\n",
       "      <td>1967</td>\n",
       "      <td>11537966</td>\n",
       "    </tr>\n",
       "    <tr>\n",
       "      <th>4</th>\n",
       "      <td>Afghanistan</td>\n",
       "      <td>1972</td>\n",
       "      <td>13079460</td>\n",
       "    </tr>\n",
       "    <tr>\n",
       "      <th>...</th>\n",
       "      <td>...</td>\n",
       "      <td>...</td>\n",
       "      <td>...</td>\n",
       "    </tr>\n",
       "    <tr>\n",
       "      <th>1699</th>\n",
       "      <td>Zimbabwe</td>\n",
       "      <td>1987</td>\n",
       "      <td>9216418</td>\n",
       "    </tr>\n",
       "    <tr>\n",
       "      <th>1700</th>\n",
       "      <td>Zimbabwe</td>\n",
       "      <td>1992</td>\n",
       "      <td>10704340</td>\n",
       "    </tr>\n",
       "    <tr>\n",
       "      <th>1701</th>\n",
       "      <td>Zimbabwe</td>\n",
       "      <td>1997</td>\n",
       "      <td>11404948</td>\n",
       "    </tr>\n",
       "    <tr>\n",
       "      <th>1702</th>\n",
       "      <td>Zimbabwe</td>\n",
       "      <td>2002</td>\n",
       "      <td>11926563</td>\n",
       "    </tr>\n",
       "    <tr>\n",
       "      <th>1703</th>\n",
       "      <td>Zimbabwe</td>\n",
       "      <td>2007</td>\n",
       "      <td>12311143</td>\n",
       "    </tr>\n",
       "  </tbody>\n",
       "</table>\n",
       "<p>1704 rows × 3 columns</p>\n",
       "</div>"
      ],
      "text/plain": [
       "          country  year  population\n",
       "0     Afghanistan  1952     8425333\n",
       "1     Afghanistan  1957     9240934\n",
       "2     Afghanistan  1962    10267083\n",
       "3     Afghanistan  1967    11537966\n",
       "4     Afghanistan  1972    13079460\n",
       "...           ...   ...         ...\n",
       "1699     Zimbabwe  1987     9216418\n",
       "1700     Zimbabwe  1992    10704340\n",
       "1701     Zimbabwe  1997    11404948\n",
       "1702     Zimbabwe  2002    11926563\n",
       "1703     Zimbabwe  2007    12311143\n",
       "\n",
       "[1704 rows x 3 columns]"
      ]
     },
     "execution_count": 11,
     "metadata": {},
     "output_type": "execute_result"
    }
   ],
   "source": [
    "data # accessing the variable in order to have a look over the data"
   ]
  },
  {
   "cell_type": "code",
   "execution_count": 12,
   "id": "41940c13",
   "metadata": {},
   "outputs": [],
   "source": [
    "# TASK: COMPARE THE POPULATION GROWTH IN THE US AND CHINA\n",
    "\n",
    "# Step 1:\n",
    "\n",
    "us = data[data.country == 'United States'] # filters all the country values labaled as US and stocks them into a variable\n",
    "china = data[data.country == 'China'] # filters all the country values labeled as China and stocks them into a variable"
   ]
  },
  {
   "cell_type": "code",
   "execution_count": 36,
   "id": "97aca733",
   "metadata": {},
   "outputs": [
    {
     "data": {
      "image/png": "[encoded data removed]",
      "text/plain": [
       "<Figure size 432x288 with 1 Axes>"
      ]
     },
     "metadata": {
      "needs_background": "light"
     },
     "output_type": "display_data"
    }
   ],
   "source": [
    "# Step 2: create the plot and add all the details of the chart\n",
    "\n",
    "plt.plot(us.year, us.population / 10**6, color = 'g', linewidth = 5) # 10**6 is 1 million. Used this as the number was too big\n",
    "plt.plot(china.year, china.population / 10**6, color = 'c', linewidth = 5)\n",
    "\n",
    "# g and c are the colors, linewidth is the width of the lines represented\n",
    "\n",
    "plt.legend(['United States', 'China'])\n",
    "\n",
    "plt.grid(True, color = 'k')\n",
    "\n",
    "plt.title('Population Evolution in U.S. and China from 1950 to 2007')\n",
    "\n",
    "plt.xlabel('Year')\n",
    "plt.ylabel('Population represented in millions')\n",
    "\n",
    "plt.show()"
   ]
  },
  {
   "cell_type": "code",
   "execution_count": 14,
   "id": "28c12a65",
   "metadata": {},
   "outputs": [
    {
     "name": "stdout",
     "output_type": "stream",
     "text": [
      "1608    100.000000\n",
      "1609    109.159457\n",
      "1610    118.396984\n",
      "1611    126.123908\n",
      "1612    133.222471\n",
      "1613    139.787246\n",
      "1614    147.371256\n",
      "1615    154.109114\n",
      "1616    163.052553\n",
      "1617    173.219018\n",
      "1618    182.589685\n",
      "1619    191.135648\n",
      "Name: population, dtype: float64\n",
      "288    100.000000\n",
      "289    114.587416\n",
      "290    119.686078\n",
      "291    135.646140\n",
      "292    154.967917\n",
      "293    169.605763\n",
      "294    179.821425\n",
      "295    194.877958\n",
      "296    209.427716\n",
      "297    221.131701\n",
      "298    230.178672\n",
      "299    237.060859\n",
      "Name: population, dtype: float64\n"
     ]
    }
   ],
   "source": [
    "# Step 3:\n",
    "\n",
    "# Creating a representation as percent for population evolution\n",
    "\n",
    "us_population = us.population / us.population.iloc[0] * 100 # takes each value and divides it by the initial value * 100\n",
    "print(us_population)\n",
    "\n",
    "china_population = china.population / china.population.iloc[0] * 100\n",
    "print(china_population)\n",
    "\n",
    "# The population evolution in US since 1952 to 2007 was represented by an increase of 91.135%\n",
    "# whereas\n",
    "# The pulation evolution in China since 1952 to 2007 was represented by an increase of 137.06%"
   ]
  },
  {
   "cell_type": "markdown",
   "id": "21f4fc85",
   "metadata": {},
   "source": [
    "# Create a BarGraph"
   ]
  },
  {
   "cell_type": "code",
   "execution_count": 34,
   "id": "bd44b65a",
   "metadata": {},
   "outputs": [
    {
     "data": {
      "text/plain": [
       "<function matplotlib.pyplot.show(close=None, block=None)>"
      ]
     },
     "execution_count": 34,
     "metadata": {},
     "output_type": "execute_result"
    },
    {
     "data": {
      "image/png": "[encoded data removed]",
      "text/plain": [
       "<Figure size 432x288 with 1 Axes>"
      ]
     },
     "metadata": {
      "needs_background": "light"
     },
     "output_type": "display_data"
    }
   ],
   "source": [
    "x = [10,20,30,40,50]\n",
    "y = [200,300,400,500,1000]\n",
    "\n",
    "plt.bar(x, y, color = 'g')\n",
    "plt.xlabel('Number of children from USA')\n",
    "plt.ylabel('Amount of money receivred from parents daily, in USD')\n",
    "plt.title('Money distribution to children in USA')\n",
    "plt.show"
   ]
  },
  {
   "cell_type": "markdown",
   "id": "d213b727",
   "metadata": {},
   "source": [
    "# Create a Scatter Plot"
   ]
  },
  {
   "cell_type": "code",
   "execution_count": 56,
   "id": "706f6d71",
   "metadata": {},
   "outputs": [
    {
     "data": {
      "image/png": "[encoded data removed]",
      "text/plain": [
       "<Figure size 432x288 with 1 Axes>"
      ]
     },
     "metadata": {
      "needs_background": "light"
     },
     "output_type": "display_data"
    }
   ],
   "source": [
    "x = [10,20,30,40,50, 6, 7, 9, 10]\n",
    "y = [30, 4, 40, 4, 5, 6, 7, 9, 10]\n",
    "\n",
    "plt.scatter(x, y, marker = 'o', color = 'b', s = 50)\n",
    "plt.xlabel('x')\n",
    "plt.ylabel('y')\n",
    "plt.title('This is a Scatter Plot')\n",
    "plt.show()"
   ]
  },
  {
   "cell_type": "markdown",
   "id": "f81329b8",
   "metadata": {},
   "source": [
    "# Create a Pie Chart"
   ]
  },
  {
   "cell_type": "code",
   "execution_count": 71,
   "id": "ac1dda83",
   "metadata": {},
   "outputs": [
    {
     "data": {
      "image/png": "[encoded data removed]",
      "text/plain": [
       "<Figure size 432x288 with 1 Axes>"
      ]
     },
     "metadata": {},
     "output_type": "display_data"
    }
   ],
   "source": [
    "slices = [7, 8, 50, 5]\n",
    "activities = ['sleeping', 'eating', 'running', 'working out']\n",
    "colors = ['c', 'r', 'b', 'm']\n",
    "\n",
    "plt.pie(slices,\n",
    "       labels = activities,\n",
    "       colors = colors,\n",
    "       startangle = 90,\n",
    "       shadow = True,\n",
    "       autopct = '%1.1f%%'\n",
    "       )\n",
    "plt.title('Pie Plot')\n",
    "plt.show()"
   ]
  },
  {
   "cell_type": "markdown",
   "id": "84505ea4",
   "metadata": {},
   "source": [
    "# Create a Histogram"
   ]
  },
  {
   "cell_type": "code",
   "execution_count": 4,
   "id": "45782592",
   "metadata": {},
   "outputs": [],
   "source": [
    "import pandas as pd # use it to extract data from another file"
   ]
  },
  {
   "cell_type": "code",
   "execution_count": 5,
   "id": "d65b22a7",
   "metadata": {},
   "outputs": [],
   "source": [
    "from matplotlib import pyplot as plt # use it to access the visualization"
   ]
  },
  {
   "cell_type": "code",
   "execution_count": 27,
   "id": "a6d0431e",
   "metadata": {},
   "outputs": [
    {
     "data": {
      "image/png": "[encoded data removed]",
      "text/plain": [
       "<Figure size 432x288 with 1 Axes>"
      ]
     },
     "metadata": {
      "needs_background": "light"
     },
     "output_type": "display_data"
    }
   ],
   "source": [
    "ages = [10, 19, 20, 25, 26, 26, 30, 32, 38, 40, 49, 50, 60]\n",
    "bins = [10, 20, 30, 40, 50, 60]\n",
    "\n",
    "# bins categories take into account the first element from the range, and the last one - 1\n",
    "# ex: between 10 and 19 inclusively; 20 and 29, 30 and 39, 40 and 49.....until the last bin where it takes into account both\n",
    "#                                                                        the first and the last.\n",
    "\n",
    "plt.hist(ages, bins = bins, edgecolor = 'black') # or bins might also be = int (bins = 5)=> data would be divided into 5 bins\n",
    "# if we want to filter out the results and keep only ages starting from 20, we remove bins[0] = 10\n",
    "plt.title('Ages of Respondents')\n",
    "plt.xlabel('Ages')\n",
    "plt.ylabel('Total Respondents')\n",
    "plt.tight_layout()"
   ]
  },
  {
   "cell_type": "code",
   "execution_count": null,
   "id": "fbefb4f2",
   "metadata": {},
   "outputs": [],
   "source": []
  }
 ],
 "metadata": {
  "kernelspec": {
   "display_name": "Python 3",
   "language": "python",
   "name": "python3"
  },
  "language_info": {
   "codemirror_mode": {
    "name": "ipython",
    "version": 3
   },
   "file_extension": ".py",
   "mimetype": "text/x-python",
   "name": "python",
   "nbconvert_exporter": "python",
   "pygments_lexer": "ipython3",
   "version": "3.8.8"
  }
 },
 "nbformat": 4,
 "nbformat_minor": 5
}
