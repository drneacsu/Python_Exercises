{
 "cells": [
  {
   "cell_type": "markdown",
   "id": "368af8e9",
   "metadata": {},
   "source": [
    "# Strings"
   ]
  },
  {
   "cell_type": "code",
   "execution_count": 108,
   "id": "3248b7be",
   "metadata": {},
   "outputs": [
    {
     "name": "stdout",
     "output_type": "stream",
     "text": [
      "llo\n"
     ]
    }
   ],
   "source": [
    "# Simple slicing\n",
    "\n",
    "b = \"Hello, World!\"\n",
    "print(b[2:5]) #de la index 2 pana la 4(5-1)"
   ]
  },
  {
   "cell_type": "code",
   "execution_count": 107,
   "id": "68469494",
   "metadata": {},
   "outputs": [
    {
     "name": "stdout",
     "output_type": "stream",
     "text": [
      "Hello\n"
     ]
    }
   ],
   "source": [
    "# Slicing from the start\n",
    "\n",
    "b = \"Hello, World!\"\n",
    "print(b[:5]) #totul pana la index 5 (5-1=4)\n",
    "# as it is a variable, the value of 'b' remains the last value accessed !"
   ]
  },
  {
   "cell_type": "code",
   "execution_count": 106,
   "id": "1a37af9c",
   "metadata": {},
   "outputs": [
    {
     "name": "stdout",
     "output_type": "stream",
     "text": [
      "ello, World!\n"
     ]
    }
   ],
   "source": [
    "# Slicing to the end\n",
    "\n",
    "c = \"Hello, World!\"\n",
    "print(b[1:])"
   ]
  },
  {
   "cell_type": "code",
   "execution_count": 105,
   "id": "3673811a",
   "metadata": {},
   "outputs": [
    {
     "name": "stdout",
     "output_type": "stream",
     "text": [
      "orl\n"
     ]
    }
   ],
   "source": [
    "# Negative Indexing\n",
    "\n",
    "b = \"Hello, World!\"\n",
    "print(b[-5:-2]) #incepe de la final spre inceput. Indexarea este inversa: [(-5+1= -4); -2]"
   ]
  },
  {
   "cell_type": "code",
   "execution_count": 104,
   "id": "7762e771",
   "metadata": {},
   "outputs": [
    {
     "name": "stdout",
     "output_type": "stream",
     "text": [
      "HELLO WORLD!\n"
     ]
    }
   ],
   "source": [
    "# Making the entire string composed of upper cases.\n",
    "\n",
    "A = 'Hello World!'\n",
    "print(A.upper())"
   ]
  },
  {
   "cell_type": "code",
   "execution_count": 103,
   "id": "462021ab",
   "metadata": {},
   "outputs": [
    {
     "name": "stdout",
     "output_type": "stream",
     "text": [
      "hello world!\n"
     ]
    }
   ],
   "source": [
    "# Making the entire string composed of lower cases.\n",
    "\n",
    "B = 'Hello World!'\n",
    "print(B.lower())\n"
   ]
  },
  {
   "cell_type": "code",
   "execution_count": 101,
   "id": "a7aad847",
   "metadata": {},
   "outputs": [
    {
     "name": "stdout",
     "output_type": "stream",
     "text": [
      "Ana Are Mere\n"
     ]
    }
   ],
   "source": [
    "# make upper keyword in each word of a string\n",
    "\n",
    "AA = 'ana are mere'\n",
    "print(AA.title())"
   ]
  },
  {
   "cell_type": "code",
   "execution_count": 100,
   "id": "49122c38",
   "metadata": {},
   "outputs": [
    {
     "name": "stdout",
     "output_type": "stream",
     "text": [
      "Hello, World!\n"
     ]
    }
   ],
   "source": [
    "# Modify white spaces in a string\n",
    "\n",
    "C = '  Hello, World!     '\n",
    "print(C.strip())\n"
   ]
  },
  {
   "cell_type": "code",
   "execution_count": 99,
   "id": "64ec2838",
   "metadata": {},
   "outputs": [
    {
     "name": "stdout",
     "output_type": "stream",
     "text": [
      "Jello, World!\n"
     ]
    }
   ],
   "source": [
    "# Replace a string (keyword)\n",
    "\n",
    "D = 'Hello, World!'\n",
    "print(D.replace('H', 'J'))"
   ]
  },
  {
   "cell_type": "code",
   "execution_count": 98,
   "id": "9d3e8699",
   "metadata": {},
   "outputs": [
    {
     "name": "stdout",
     "output_type": "stream",
     "text": [
      "Goodbye, World!\n"
     ]
    }
   ],
   "source": [
    "# Replace a string (word)\n",
    "\n",
    "D = 'Hello, World!'\n",
    "print(D.replace('Hello', 'Goodbye'))"
   ]
  },
  {
   "cell_type": "code",
   "execution_count": 97,
   "id": "2e1d8833",
   "metadata": {},
   "outputs": [
    {
     "name": "stdout",
     "output_type": "stream",
     "text": [
      "['Hello', ' World!']\n"
     ]
    }
   ],
   "source": [
    "# Split one string into multiple strings\n",
    "\n",
    "E = 'Hello, World!'\n",
    "print(E.split(','))"
   ]
  },
  {
   "cell_type": "code",
   "execution_count": 96,
   "id": "a96353c9",
   "metadata": {},
   "outputs": [
    {
     "name": "stdout",
     "output_type": "stream",
     "text": [
      "Hello World\n"
     ]
    }
   ],
   "source": [
    "# Concatenate Strings\n",
    "\n",
    "a = \"Hello\"\n",
    "b = \"World\"\n",
    "c = a + \" \" + b\n",
    "print(c)"
   ]
  },
  {
   "cell_type": "code",
   "execution_count": 95,
   "id": "137f197c",
   "metadata": {},
   "outputs": [
    {
     "name": "stdout",
     "output_type": "stream",
     "text": [
      "I want 3 pieces of item 567 for 49.95 dollars.\n"
     ]
    }
   ],
   "source": [
    "# String Formating\n",
    "\n",
    "quantity = 3\n",
    "itemno = 567\n",
    "price = 49.95\n",
    "myorder = \"I want {} pieces of item {} for {} dollars.\"\n",
    "print(myorder.format(quantity, itemno, price))"
   ]
  },
  {
   "cell_type": "code",
   "execution_count": 94,
   "id": "49c0fecd",
   "metadata": {},
   "outputs": [
    {
     "name": "stdout",
     "output_type": "stream",
     "text": [
      "We are the so-called 'Vikings' from the north.\n"
     ]
    }
   ],
   "source": [
    "# String Escape Character\n",
    "\n",
    "# If we want to write: txt = \"We are the so-called \"Vikings\" from the north.\" =>> Error\n",
    "# use \\' to do so instead\n",
    "\n",
    "txt = 'We are the so-called \\'Vikings\\' from the north.'\n",
    "print(txt)"
   ]
  },
  {
   "cell_type": "markdown",
   "id": "bb43abb6",
   "metadata": {},
   "source": [
    "# Boolean"
   ]
  },
  {
   "cell_type": "code",
   "execution_count": null,
   "id": "546ce713",
   "metadata": {},
   "outputs": [],
   "source": [
    "#When you compare two values, the expression is evaluated and Python returns the Boolean answer.\n",
    "# Also, it's used when using a condition in an if statement (because it also compares values)\n",
    "# '=' is used to atribute a value to a variable. '==' is used to check if two different variables are equal."
   ]
  },
  {
   "cell_type": "code",
   "execution_count": 112,
   "id": "cb1b6e58",
   "metadata": {},
   "outputs": [
    {
     "name": "stdout",
     "output_type": "stream",
     "text": [
      "True\n",
      "False\n",
      "False\n"
     ]
    }
   ],
   "source": [
    "# NON-IF expression\n",
    "\n",
    "print(10 > 9)\n",
    "print(10 == 9)\n",
    "print(10 < 9)"
   ]
  },
  {
   "cell_type": "code",
   "execution_count": 111,
   "id": "14c8e5c1",
   "metadata": {},
   "outputs": [
    {
     "name": "stdout",
     "output_type": "stream",
     "text": [
      "False\n"
     ]
    }
   ],
   "source": [
    "A = 10\n",
    "B = 20\n",
    "print(A == B)"
   ]
  },
  {
   "cell_type": "code",
   "execution_count": 110,
   "id": "9b73acbc",
   "metadata": {},
   "outputs": [
    {
     "name": "stdout",
     "output_type": "stream",
     "text": [
      "C este mai mic decat D\n"
     ]
    }
   ],
   "source": [
    "#IF Expression\n",
    "\n",
    "C = 10\n",
    "D = 15\n",
    "\n",
    "if C > D:\n",
    "    print('C este mai mare decat D')\n",
    "else:\n",
    "    print('C este mai mic decat D')"
   ]
  },
  {
   "cell_type": "code",
   "execution_count": 109,
   "id": "cc2c5f5e",
   "metadata": {},
   "outputs": [
    {
     "name": "stdout",
     "output_type": "stream",
     "text": [
      "True\n",
      "True\n"
     ]
    }
   ],
   "source": [
    "# Evaluating two variables\n",
    "\n",
    "x = \"Hello\"\n",
    "y = 15\n",
    "\n",
    "print(bool(x))\n",
    "print(bool(y))"
   ]
  },
  {
   "cell_type": "markdown",
   "id": "0c2f0b38",
   "metadata": {},
   "source": [
    "# New Operators"
   ]
  },
  {
   "cell_type": "code",
   "execution_count": 113,
   "id": "1cdf1636",
   "metadata": {},
   "outputs": [
    {
     "name": "stdout",
     "output_type": "stream",
     "text": [
      "32\n"
     ]
    }
   ],
   "source": [
    "#  ** Exponentiation\tx ** y\n",
    "\n",
    "x = 2\n",
    "y = 5\n",
    "\n",
    "print(x ** y) #same as 2*2*2*2*2"
   ]
  },
  {
   "cell_type": "code",
   "execution_count": null,
   "id": "d2d4a6a0",
   "metadata": {},
   "outputs": [],
   "source": [
    "#  //  Floor division\tx // y\n",
    "\n",
    "x = 15\n",
    "y = 2\n",
    "\n",
    "print(x // y)\n",
    "\n",
    "#the floor division // rounds the result down to the nearest whole number"
   ]
  },
  {
   "cell_type": "markdown",
   "id": "77c01096",
   "metadata": {},
   "source": [
    "# Python Collections"
   ]
  },
  {
   "cell_type": "code",
   "execution_count": null,
   "id": "2e82312c",
   "metadata": {},
   "outputs": [],
   "source": [
    "##  List is a collection which is ordered, allows duplicates, changable\n",
    "\n",
    "##  Tuple is a collection which is ordered, allows duplicates, unchangable\n",
    "\n",
    "##  Set is a collection which is unordered, doesn't allow duplicats, unchangable\n",
    "\n",
    "##  Dictionary is a collection which is ordered, doesn't allow duplicates, and changeable."
   ]
  },
  {
   "cell_type": "markdown",
   "id": "5015f4c4",
   "metadata": {},
   "source": [
    "# 1. Lists (General)"
   ]
  },
  {
   "cell_type": "code",
   "execution_count": null,
   "id": "3af25fc3",
   "metadata": {},
   "outputs": [],
   "source": [
    "# List items are ordered, changeable, and allow duplicate values. \n",
    "# List items are indexed, the first item has index [0], the second item has index [1] etc.\n",
    "# Can contain any type of data"
   ]
  },
  {
   "cell_type": "code",
   "execution_count": 128,
   "id": "104db8f8",
   "metadata": {},
   "outputs": [
    {
     "name": "stdout",
     "output_type": "stream",
     "text": [
      "['apple', 'banana', 3, 5.2]\n"
     ]
    }
   ],
   "source": [
    "firstlist = ['apple', 'banana', 3, 5.2]\n",
    "print(firstlist) #creating the list with the tipical brakets"
   ]
  },
  {
   "cell_type": "code",
   "execution_count": 127,
   "id": "f718470e",
   "metadata": {},
   "outputs": [
    {
     "name": "stdout",
     "output_type": "stream",
     "text": [
      "4\n"
     ]
    }
   ],
   "source": [
    "firstlist = ['apple', 'banana', 3, 5.2]\n",
    "print(len(firstlist)) #how many values are introduced in a list "
   ]
  },
  {
   "cell_type": "code",
   "execution_count": 126,
   "id": "5c5f769d",
   "metadata": {},
   "outputs": [
    {
     "name": "stdout",
     "output_type": "stream",
     "text": [
      "<class 'list'>\n"
     ]
    }
   ],
   "source": [
    "firstlist = ['apple', 'banana', 3, 5.2]\n",
    "print(type(firstlist)) #it's a class"
   ]
  },
  {
   "cell_type": "markdown",
   "id": "1a1d4d8e",
   "metadata": {},
   "source": [
    "# Accessing Lists"
   ]
  },
  {
   "cell_type": "code",
   "execution_count": 125,
   "id": "a18995f1",
   "metadata": {},
   "outputs": [
    {
     "name": "stdout",
     "output_type": "stream",
     "text": [
      "['apple', 'banana', 3, 5.2, 6.2, 4, 5, 6, 2, 1, 3]\n"
     ]
    }
   ],
   "source": [
    "# Accessing Lists\n",
    "\n",
    "firstlist = [\"apple\", \"banana\", 3, 5.2, 6.2, 4, 5, 6, 2 ,1 ,3 ,4 ,5 ,6 ,7 ,2]\n",
    "print(firstlist[0:11]) # prints certain values from the list\n"
   ]
  },
  {
   "cell_type": "code",
   "execution_count": 124,
   "id": "41ce9a9f",
   "metadata": {},
   "outputs": [
    {
     "name": "stdout",
     "output_type": "stream",
     "text": [
      "2\n"
     ]
    }
   ],
   "source": [
    "firstlist = [\"apple\", \"banana\", 3, 5.2, 6.2, 4, 5, 6, 2 ,1 ,3 ,4 ,5 ,6 ,7 ,2]\n",
    "print(firstlist[-1]) # prints the last item from the list"
   ]
  },
  {
   "cell_type": "code",
   "execution_count": 123,
   "id": "b226f162",
   "metadata": {},
   "outputs": [
    {
     "name": "stdout",
     "output_type": "stream",
     "text": [
      "['mar', 'banana', 'cherry']\n"
     ]
    }
   ],
   "source": [
    "# Change item values from a list\n",
    "\n",
    "firstlist = [\"apple\", \"banana\", \"cherry\"]\n",
    "firstlist[0] = \"mar\"\n",
    "print(firstlist)"
   ]
  },
  {
   "cell_type": "code",
   "execution_count": 114,
   "id": "a5dcdac8",
   "metadata": {},
   "outputs": [
    {
     "name": "stdout",
     "output_type": "stream",
     "text": [
      "['apple', 'mar', 'para', 'orange', 'kiwi', 'mango']\n"
     ]
    }
   ],
   "source": [
    "firstlist = [\"apple\", \"banana\", \"cherry\", \"orange\", \"kiwi\", \"mango\"]\n",
    "firstlist[1:3] = [\"mar\", \"para\"]\n",
    "print(firstlist)"
   ]
  },
  {
   "cell_type": "code",
   "execution_count": 122,
   "id": "9484b3cb",
   "metadata": {},
   "outputs": [
    {
     "name": "stdout",
     "output_type": "stream",
     "text": [
      "['blackcurrant', 'watermelon', 'banana', 'cherry']\n"
     ]
    }
   ],
   "source": [
    "firstlist = [\"apple\", \"banana\", \"cherry\"]\n",
    "firstlist[0:1] = [\"blackcurrant\", \"watermelon\"] # must use a range representing the same value\n",
    "print(firstlist)\n"
   ]
  },
  {
   "cell_type": "code",
   "execution_count": 121,
   "id": "cc13dd6d",
   "metadata": {},
   "outputs": [
    {
     "name": "stdout",
     "output_type": "stream",
     "text": [
      "['apple', 'watermelon']\n"
     ]
    }
   ],
   "source": [
    "firstlist = [\"apple\", \"banana\", \"cherry\"]\n",
    "firstlist[1:3] = [\"watermelon\"]\n",
    "print(firstlist) #Change the second and third value by replacing it with one value:"
   ]
  },
  {
   "cell_type": "code",
   "execution_count": 120,
   "id": "cd3b9265",
   "metadata": {},
   "outputs": [
    {
     "name": "stdout",
     "output_type": "stream",
     "text": [
      "['apple', 'banana', 'watermelon', 'cherry']\n"
     ]
    }
   ],
   "source": [
    "firstlist = [\"apple\", \"banana\", \"cherry\"]\n",
    "firstlist.insert(2, \"watermelon\")\n",
    "print(firstlist) #Insert \"watermelon\" as the third item"
   ]
  },
  {
   "cell_type": "markdown",
   "id": "b7214fca",
   "metadata": {},
   "source": [
    "# Append Lists"
   ]
  },
  {
   "cell_type": "code",
   "execution_count": 119,
   "id": "b633495c",
   "metadata": {},
   "outputs": [
    {
     "name": "stdout",
     "output_type": "stream",
     "text": [
      "['apple', 'banana', 'cherry', 'orange']\n"
     ]
    }
   ],
   "source": [
    "# Add List Items (Append list items)\n",
    "\n",
    "firstlist = [\"apple\", \"banana\", \"cherry\"]\n",
    "firstlist.append(\"orange\")\n",
    "print(firstlist)"
   ]
  },
  {
   "cell_type": "code",
   "execution_count": 118,
   "id": "0878ca20",
   "metadata": {},
   "outputs": [
    {
     "name": "stdout",
     "output_type": "stream",
     "text": [
      "['apple', 'banana', 'cherry', 'mango', 'pineapple', 'papaya']\n"
     ]
    }
   ],
   "source": [
    "# Extend List (add items from a list to another one)\n",
    "\n",
    "firstlist = [\"apple\", \"banana\", \"cherry\"]\n",
    "secondlist = [\"mango\", \"pineapple\", \"papaya\"]\n",
    "firstlist.extend(secondlist)\n",
    "print(firstlist) # doesn't include duplicated values. The extend() method does not have to append lists, \n",
    "                 # you can add any iterable object (tuples, sets, dictionaries etc.)."
   ]
  },
  {
   "cell_type": "code",
   "execution_count": 1,
   "id": "d0fd2028",
   "metadata": {},
   "outputs": [
    {
     "name": "stdout",
     "output_type": "stream",
     "text": [
      "['apple', 'banana', 'cherry', ['mango', 'pineapple', 'papaya']]\n"
     ]
    }
   ],
   "source": [
    "# example of append version with another list --- DON'T USE\n",
    "firstlist = [\"apple\", \"banana\", \"cherry\"]\n",
    "secondlist = [\"mango\", \"pineapple\", \"papaya\"]\n",
    "firstlist.append(secondlist)\n",
    "print(firstlist)"
   ]
  },
  {
   "cell_type": "markdown",
   "id": "306e4ee1",
   "metadata": {},
   "source": [
    "# Delete Lists/ Remove items"
   ]
  },
  {
   "cell_type": "code",
   "execution_count": 117,
   "id": "1b771dc1",
   "metadata": {},
   "outputs": [
    {
     "name": "stdout",
     "output_type": "stream",
     "text": [
      "['apple', 'cherry']\n"
     ]
    }
   ],
   "source": [
    "# Delete List Items\n",
    "\n",
    "thislist = [\"apple\", \"banana\", \"cherry\"]\n",
    "thislist.remove('banana')\n",
    "print(thislist)"
   ]
  },
  {
   "cell_type": "code",
   "execution_count": 116,
   "id": "5f25cab3",
   "metadata": {},
   "outputs": [
    {
     "name": "stdout",
     "output_type": "stream",
     "text": [
      "['banana', 'cherry']\n"
     ]
    }
   ],
   "source": [
    "# Delete mentioned index\n",
    "\n",
    "thislist = [\"apple\", \"banana\", \"cherry\"]\n",
    "thislist.pop(0)\n",
    "print(thislist)"
   ]
  },
  {
   "cell_type": "code",
   "execution_count": 115,
   "id": "8a9fefe1",
   "metadata": {},
   "outputs": [
    {
     "name": "stdout",
     "output_type": "stream",
     "text": [
      "['apple', 'banana']\n"
     ]
    }
   ],
   "source": [
    "# Remove the last items from the list\n",
    "\n",
    "thislist = [\"apple\", \"banana\", \"cherry\"]\n",
    "thislist.pop()\n",
    "print(thislist)"
   ]
  },
  {
   "cell_type": "code",
   "execution_count": 129,
   "id": "e4819648",
   "metadata": {},
   "outputs": [],
   "source": [
    "# Delete entire list\n",
    "\n",
    "thislist = [\"apple\", \"banana\", \"cherry\"]\n",
    "del thislist"
   ]
  },
  {
   "cell_type": "code",
   "execution_count": 130,
   "id": "bf3b00eb",
   "metadata": {},
   "outputs": [
    {
     "name": "stdout",
     "output_type": "stream",
     "text": [
      "[]\n"
     ]
    }
   ],
   "source": [
    "# Clear the list content\n",
    "\n",
    "thislist = [\"apple\", \"banana\", \"cherry\"]\n",
    "thislist.clear()\n",
    "print(thislist)"
   ]
  },
  {
   "cell_type": "markdown",
   "id": "61e9df13",
   "metadata": {},
   "source": [
    "# To loop through the Lists"
   ]
  },
  {
   "cell_type": "code",
   "execution_count": 1,
   "id": "a5243e08",
   "metadata": {},
   "outputs": [
    {
     "name": "stdout",
     "output_type": "stream",
     "text": [
      "apple\n",
      "banana\n",
      "cherry\n"
     ]
    }
   ],
   "source": [
    "#Print all items in the list, one by one:\n",
    "\n",
    "thislist = [\"apple\", \"banana\", \"cherry\"]\n",
    "for x in thislist:\n",
    "  print(x)"
   ]
  },
  {
   "cell_type": "code",
   "execution_count": 2,
   "id": "08a51420",
   "metadata": {},
   "outputs": [
    {
     "name": "stdout",
     "output_type": "stream",
     "text": [
      "apple\n",
      "banana\n",
      "cherry\n"
     ]
    }
   ],
   "source": [
    "thislist = [\"apple\", \"banana\", \"cherry\"]\n",
    "for i in range(len(thislist)):\n",
    "  print(thislist[i])"
   ]
  },
  {
   "cell_type": "markdown",
   "id": "c272e238",
   "metadata": {},
   "source": [
    "# List Comprehension"
   ]
  },
  {
   "cell_type": "code",
   "execution_count": null,
   "id": "e51db0c8",
   "metadata": {},
   "outputs": [],
   "source": [
    "# List comprehension offers a shorter syntax when you want to create a new list based on the values of an existing list.\n",
    "\n",
    "# Example:\n",
    "\n",
    "# Based on a list of fruits, you want a new list, containing only the fruits with the letter \"a\" in the name.\n",
    "\n",
    "# Without list comprehension you will have to write a for statement with a conditional test inside:"
   ]
  },
  {
   "cell_type": "code",
   "execution_count": 131,
   "id": "db05cfe1",
   "metadata": {},
   "outputs": [
    {
     "name": "stdout",
     "output_type": "stream",
     "text": [
      "['apple', 'banana', 'mango']\n"
     ]
    }
   ],
   "source": [
    "fruits = [\"apple\", \"banana\", \"cherry\", \"kiwi\", \"mango\"] # have an existing list\n",
    "newlist = [] #create a new empty list\n",
    "\n",
    "for x in fruits:                   #search through the list fruits\n",
    "  if \"a\" in x:                     #condition\n",
    "    newlist.append(x)              #add\n",
    "\n",
    "print(newlist)                     #displaying"
   ]
  },
  {
   "cell_type": "markdown",
   "id": "08f18865",
   "metadata": {},
   "source": [
    "# Sort Lists"
   ]
  },
  {
   "cell_type": "code",
   "execution_count": 3,
   "id": "b166fb5e",
   "metadata": {},
   "outputs": [
    {
     "name": "stdout",
     "output_type": "stream",
     "text": [
      "['banana', 'kiwi', 'mango', 'orange', 'pineapple']\n"
     ]
    }
   ],
   "source": [
    "# Sorting in ascending order by alphabet\n",
    "\n",
    "thislist = [\"orange\", \"mango\", \"kiwi\", \"pineapple\", \"banana\"]\n",
    "thislist.sort()\n",
    "print(thislist)"
   ]
  },
  {
   "cell_type": "code",
   "execution_count": 4,
   "id": "3e008563",
   "metadata": {},
   "outputs": [
    {
     "name": "stdout",
     "output_type": "stream",
     "text": [
      "[23, 50, 65, 82, 100]\n"
     ]
    }
   ],
   "source": [
    "# Sorting in ascending order by number\n",
    "\n",
    "thislist = [100, 50, 65, 82, 23]\n",
    "thislist.sort()\n",
    "print(thislist)"
   ]
  },
  {
   "cell_type": "code",
   "execution_count": 5,
   "id": "7aad5bcc",
   "metadata": {},
   "outputs": [
    {
     "name": "stdout",
     "output_type": "stream",
     "text": [
      "['pineapple', 'orange', 'mango', 'kiwi', 'banana']\n"
     ]
    }
   ],
   "source": [
    "# Sorting in descending order by alphabet\n",
    "\n",
    "thislist = [\"orange\", \"mango\", \"kiwi\", \"pineapple\", \"banana\"]\n",
    "thislist.sort(reverse = True)\n",
    "print(thislist)"
   ]
  },
  {
   "cell_type": "markdown",
   "id": "9b678088",
   "metadata": {},
   "source": [
    "# Copy Lists"
   ]
  },
  {
   "cell_type": "code",
   "execution_count": 10,
   "id": "50f38a2f",
   "metadata": {},
   "outputs": [
    {
     "name": "stdout",
     "output_type": "stream",
     "text": [
      "['apple', 'banana', 'cherry']\n",
      "['apple', 'banana', 'cherry']\n"
     ]
    }
   ],
   "source": [
    "fruitslist = [\"apple\", \"banana\", \"cherry\"]\n",
    "mylist = fruitslist.copy()\n",
    "print(mylist)\n",
    "\n",
    "# OR\n",
    "\n",
    "fruitlist1 = [\"apple\", \"banana\", \"cherry\"]\n",
    "mylist1 = list(fruitlist1)\n",
    "print(mylist1)"
   ]
  },
  {
   "cell_type": "markdown",
   "id": "c0e70204",
   "metadata": {},
   "source": [
    "# Join Lists"
   ]
  },
  {
   "cell_type": "code",
   "execution_count": 12,
   "id": "4dd4c5ac",
   "metadata": {},
   "outputs": [
    {
     "name": "stdout",
     "output_type": "stream",
     "text": [
      "[1, 2, 3, 'a', 'b', 'c']\n"
     ]
    }
   ],
   "source": [
    "# in another list\n",
    "\n",
    "list1 = [1,2,3]\n",
    "list2 = ['a', 'b', 'c']\n",
    "\n",
    "list3 = list1 + list2\n",
    "print(list3)"
   ]
  },
  {
   "cell_type": "code",
   "execution_count": 15,
   "id": "7ae3371e",
   "metadata": {},
   "outputs": [
    {
     "name": "stdout",
     "output_type": "stream",
     "text": [
      "['a', 'b', 'c', 1, 2, 3]\n"
     ]
    }
   ],
   "source": [
    "#inbetween the analyzed lists\n",
    "\n",
    "list1 = [\"a\", \"b\" , \"c\"]\n",
    "list2 = [1, 2, 3]\n",
    "\n",
    "for i in list2:              \n",
    "  list1.append(i)            \n",
    "\n",
    "print(list1)\n",
    "\n",
    "#OR\n",
    "\n",
    "list1 = [\"a\", \"b\" , \"c\"]\n",
    "list2 = [1, 2, 3]\n",
    "\n",
    "for i in list1:\n",
    "    list2.append(i)\n",
    "    \n",
    "print(list2)"
   ]
  },
  {
   "cell_type": "markdown",
   "id": "1dad24a1",
   "metadata": {},
   "source": [
    "## 2. Tuples (General)"
   ]
  },
  {
   "cell_type": "code",
   "execution_count": 22,
   "id": "ee33eb1b",
   "metadata": {},
   "outputs": [],
   "source": [
    "# Are Ordered, Unchangable, and allow Duplicates.\n",
    "# Contain round brackets."
   ]
  },
  {
   "cell_type": "code",
   "execution_count": 19,
   "id": "797fe08a",
   "metadata": {
    "scrolled": true
   },
   "outputs": [
    {
     "name": "stdout",
     "output_type": "stream",
     "text": [
      "('apple', 'banana', 'cherry')\n"
     ]
    }
   ],
   "source": [
    "thistuple = (\"apple\", \"banana\", \"cherry\")\n",
    "print(thistuple)"
   ]
  },
  {
   "cell_type": "markdown",
   "id": "f8692456",
   "metadata": {},
   "source": [
    "# Access Tuples"
   ]
  },
  {
   "cell_type": "code",
   "execution_count": 25,
   "id": "4a2ff6dd",
   "metadata": {},
   "outputs": [
    {
     "name": "stdout",
     "output_type": "stream",
     "text": [
      "banana\n"
     ]
    }
   ],
   "source": [
    "# positive index access\n",
    "\n",
    "thistuple = (\"apple\", \"banana\", \"cherry\")\n",
    "print(thistuple[1])"
   ]
  },
  {
   "cell_type": "code",
   "execution_count": 24,
   "id": "0a12ee95",
   "metadata": {},
   "outputs": [
    {
     "name": "stdout",
     "output_type": "stream",
     "text": [
      "cherry\n"
     ]
    }
   ],
   "source": [
    "# negative index access\n",
    "\n",
    "thistuple = (\"apple\", \"banana\", \"cherry\")\n",
    "print(thistuple[-1])"
   ]
  },
  {
   "cell_type": "code",
   "execution_count": 26,
   "id": "3421f479",
   "metadata": {},
   "outputs": [
    {
     "name": "stdout",
     "output_type": "stream",
     "text": [
      "('cherry', 'orange', 'kiwi')\n"
     ]
    }
   ],
   "source": [
    "# Range of Index (Similar tu Lists)\n",
    "\n",
    "thistuple = (\"apple\", \"banana\", \"cherry\", \"orange\", \"kiwi\", \"melon\", \"mango\")\n",
    "print(thistuple[2:5])"
   ]
  },
  {
   "cell_type": "markdown",
   "id": "1c7e2345",
   "metadata": {},
   "source": [
    "# Update Tuples"
   ]
  },
  {
   "cell_type": "code",
   "execution_count": 27,
   "id": "88238803",
   "metadata": {},
   "outputs": [
    {
     "name": "stdout",
     "output_type": "stream",
     "text": [
      "('orange', 'banana', 'cherry')\n"
     ]
    }
   ],
   "source": [
    "# Tuples are unchangable/immutable, but...\n",
    "# you can change them by converting a tuple into a list and then the list into a tuple\n",
    "\n",
    "x = (\"apple\", \"banana\", \"cherry\")\n",
    "\n",
    "y = list(x)\n",
    "y[0] = 'orange'\n",
    "\n",
    "x = tuple(y)\n",
    "\n",
    "print(x)"
   ]
  },
  {
   "cell_type": "code",
   "execution_count": 29,
   "id": "644d1efe",
   "metadata": {},
   "outputs": [
    {
     "name": "stdout",
     "output_type": "stream",
     "text": [
      "(3, 4, 5, 6)\n"
     ]
    }
   ],
   "source": [
    "# Since tuples are unchangable/immutable, adding items to the collection is nearly impossible, yet....\n",
    "# following the above method should allow this change. \n",
    "\n",
    "x = (3, 4, 5)\n",
    "\n",
    "y = list(x)\n",
    "y.append(6)\n",
    "\n",
    "x = tuple(y)\n",
    "\n",
    "print(x)"
   ]
  },
  {
   "cell_type": "code",
   "execution_count": 34,
   "id": "e379fe4c",
   "metadata": {},
   "outputs": [
    {
     "name": "stdout",
     "output_type": "stream",
     "text": [
      "('apple', 'banana', 'cherry', 'orange')\n"
     ]
    }
   ],
   "source": [
    "# Adding a tupple to a tupple is allowed\n",
    "\n",
    "thistuple = (\"apple\", \"banana\", \"cherry\")\n",
    "\n",
    "y = (\"orange\",)\n",
    "\n",
    "thistuple += y\n",
    "\n",
    "print(thistuple)"
   ]
  },
  {
   "cell_type": "code",
   "execution_count": 36,
   "id": "92fc104b",
   "metadata": {},
   "outputs": [
    {
     "name": "stdout",
     "output_type": "stream",
     "text": [
      "('banana', 'cherry')\n"
     ]
    }
   ],
   "source": [
    "# Removing items from a tupple request changing it into a list as well\n",
    "\n",
    "thistuple = (\"apple\", \"banana\", \"cherry\")\n",
    "\n",
    "y = list(thistuple)\n",
    "y.remove(\"apple\")\n",
    "\n",
    "thistuple = tuple(y)\n",
    "\n",
    "print(thistuple)"
   ]
  },
  {
   "cell_type": "code",
   "execution_count": 37,
   "id": "10bf6c67",
   "metadata": {},
   "outputs": [
    {
     "ename": "NameError",
     "evalue": "name 'thistuple' is not defined",
     "output_type": "error",
     "traceback": [
      "\u001b[1;31m---------------------------------------------------------------------------\u001b[0m",
      "\u001b[1;31mNameError\u001b[0m                                 Traceback (most recent call last)",
      "\u001b[1;32m<ipython-input-37-8a57ed92fc5d>\u001b[0m in \u001b[0;36m<module>\u001b[1;34m\u001b[0m\n\u001b[0;32m      1\u001b[0m \u001b[0mthistuple\u001b[0m \u001b[1;33m=\u001b[0m \u001b[1;33m(\u001b[0m\u001b[1;34m\"apple\"\u001b[0m\u001b[1;33m,\u001b[0m \u001b[1;34m\"banana\"\u001b[0m\u001b[1;33m,\u001b[0m \u001b[1;34m\"cherry\"\u001b[0m\u001b[1;33m)\u001b[0m\u001b[1;33m\u001b[0m\u001b[1;33m\u001b[0m\u001b[0m\n\u001b[0;32m      2\u001b[0m \u001b[1;32mdel\u001b[0m \u001b[0mthistuple\u001b[0m\u001b[1;33m\u001b[0m\u001b[1;33m\u001b[0m\u001b[0m\n\u001b[1;32m----> 3\u001b[1;33m \u001b[0mprint\u001b[0m\u001b[1;33m(\u001b[0m\u001b[0mthistuple\u001b[0m\u001b[1;33m)\u001b[0m \u001b[1;31m#this will raise an error because the tuple no longer exists\u001b[0m\u001b[1;33m\u001b[0m\u001b[1;33m\u001b[0m\u001b[0m\n\u001b[0m",
      "\u001b[1;31mNameError\u001b[0m: name 'thistuple' is not defined"
     ]
    }
   ],
   "source": [
    "thistuple = (\"apple\", \"banana\", \"cherry\")\n",
    "del thistuple\n",
    "print(thistuple) #this will raise an error because the tuple no longer exists"
   ]
  },
  {
   "cell_type": "markdown",
   "id": "e356e785",
   "metadata": {},
   "source": [
    "# Unpacking a Tuple"
   ]
  },
  {
   "cell_type": "code",
   "execution_count": 39,
   "id": "d0b9fad6",
   "metadata": {},
   "outputs": [
    {
     "name": "stdout",
     "output_type": "stream",
     "text": [
      "apple\n",
      "banana\n",
      "cherry\n"
     ]
    }
   ],
   "source": [
    "fruits = (\"apple\", \"banana\", \"cherry\")\n",
    "\n",
    "(apple, banana, cherry) = fruits\n",
    "\n",
    "print(apple)\n",
    "print(banana)\n",
    "print(cherry)"
   ]
  },
  {
   "cell_type": "markdown",
   "id": "7864c74b",
   "metadata": {},
   "source": [
    "# Joining Tuples is the same as Lists"
   ]
  },
  {
   "cell_type": "markdown",
   "id": "a1b93806",
   "metadata": {},
   "source": [
    "# Tuple Methods"
   ]
  },
  {
   "cell_type": "code",
   "execution_count": 46,
   "id": "e1dabebb",
   "metadata": {},
   "outputs": [
    {
     "name": "stdout",
     "output_type": "stream",
     "text": [
      "1\n"
     ]
    }
   ],
   "source": [
    "# Count method- shows how many times an item from a Tuple occurs -- tuple.count(value)\n",
    "\n",
    "fruits = (\"apple\", \"banana\", \"cherry\")\n",
    "x = fruits.count('banana')\n",
    "print(x)\n"
   ]
  },
  {
   "cell_type": "markdown",
   "id": "45d839c7",
   "metadata": {},
   "source": [
    "# 3. SETS (General)"
   ]
  },
  {
   "cell_type": "code",
   "execution_count": 3,
   "id": "de022ef8",
   "metadata": {},
   "outputs": [],
   "source": [
    "# A set is a collection which is unordered (and unindexed), unchangeable,doesn't allow duplicates"
   ]
  },
  {
   "cell_type": "code",
   "execution_count": 4,
   "id": "8135d7b7",
   "metadata": {},
   "outputs": [
    {
     "name": "stdout",
     "output_type": "stream",
     "text": [
      "{'cherry', 'banana', 'apple'}\n"
     ]
    }
   ],
   "source": [
    "thisset = {\"apple\", \"banana\", \"cherry\"}\n",
    "print(thisset)"
   ]
  },
  {
   "cell_type": "code",
   "execution_count": 5,
   "id": "c4fad786",
   "metadata": {},
   "outputs": [
    {
     "name": "stdout",
     "output_type": "stream",
     "text": [
      "{'cherry', 'banana', 'apple'}\n"
     ]
    }
   ],
   "source": [
    "# It is also possible to use the set() constructor to make a set.\n",
    "\n",
    "thisset = set((\"apple\", \"banana\", \"cherry\")) # note the double round-brackets\n",
    "print(thisset)"
   ]
  },
  {
   "cell_type": "markdown",
   "id": "6ede30d6",
   "metadata": {},
   "source": [
    "# Accessing Sets"
   ]
  },
  {
   "cell_type": "code",
   "execution_count": null,
   "id": "6b230343",
   "metadata": {},
   "outputs": [],
   "source": [
    "# You cannot access items in a set by referring to an index or a key.\n",
    "# You can loop through the set items using a for loop, or ask if a specified value is present in a set by using the 'in' keyword."
   ]
  },
  {
   "cell_type": "code",
   "execution_count": 6,
   "id": "eb3919ec",
   "metadata": {},
   "outputs": [
    {
     "name": "stdout",
     "output_type": "stream",
     "text": [
      "cherry\n",
      "banana\n",
      "apple\n"
     ]
    }
   ],
   "source": [
    "thisset = {\"apple\", \"banana\", \"cherry\"}\n",
    "\n",
    "for x in thisset:\n",
    "  print(x)"
   ]
  },
  {
   "cell_type": "code",
   "execution_count": 8,
   "id": "16b82db5",
   "metadata": {},
   "outputs": [
    {
     "name": "stdout",
     "output_type": "stream",
     "text": [
      "True\n"
     ]
    }
   ],
   "source": [
    "# Look for the word 'banana' in the set\n",
    "\n",
    "thisset = {\"apple\", \"banana\", \"cherry\"}\n",
    "\n",
    "print(\"banana\" in thisset)"
   ]
  },
  {
   "cell_type": "markdown",
   "id": "c9ea85c4",
   "metadata": {},
   "source": [
    "# Changing Sets"
   ]
  },
  {
   "cell_type": "code",
   "execution_count": null,
   "id": "9ee08808",
   "metadata": {},
   "outputs": [],
   "source": [
    "#  Once a set is created, you cannot change its items, but you can add new items."
   ]
  },
  {
   "cell_type": "markdown",
   "id": "32a73f4f",
   "metadata": {},
   "source": [
    "# Adding items to Sets"
   ]
  },
  {
   "cell_type": "code",
   "execution_count": 13,
   "id": "98a17f5b",
   "metadata": {},
   "outputs": [
    {
     "name": "stdout",
     "output_type": "stream",
     "text": [
      "{'cherry', 'orange', 'banana', 'apple'}\n"
     ]
    }
   ],
   "source": [
    "thisset = {\"apple\", \"banana\", \"cherry\"}\n",
    "\n",
    "thisset.add(\"orange\") # 'append' operator not working\n",
    "\n",
    "print(thisset)"
   ]
  },
  {
   "cell_type": "code",
   "execution_count": 15,
   "id": "a3f61523",
   "metadata": {},
   "outputs": [
    {
     "name": "stdout",
     "output_type": "stream",
     "text": [
      "{'pineapple', 'papaya', 'apple', 'cherry', 'mango', 'banana'}\n",
      "{'pineapple', 'papaya', 'cherry', 'mango', 'banana', 'apple'}\n"
     ]
    }
   ],
   "source": [
    "# To add items from another set into the current set, use the update() method.\n",
    "\n",
    "thisset = {\"apple\", \"banana\", \"cherry\"}\n",
    "tropical = {\"pineapple\", \"mango\", \"papaya\"}\n",
    "\n",
    "thisset.update(tropical)\n",
    "\n",
    "print(thisset)\n",
    "\n",
    "# You can add to a set any kind of collection: list, tupple...\n",
    "\n",
    "thisset2 = {\"apple\", \"banana\", \"cherry\"}\n",
    "tropical2 = [\"pineapple\", \"mango\", \"papaya\"]\n",
    "\n",
    "thisset2.update(tropical2)\n",
    "\n",
    "print(thisset2)"
   ]
  },
  {
   "cell_type": "markdown",
   "id": "cd72bdc7",
   "metadata": {},
   "source": [
    "# Remove items from Sets"
   ]
  },
  {
   "cell_type": "code",
   "execution_count": null,
   "id": "29d91ae3",
   "metadata": {},
   "outputs": [],
   "source": [
    "thisset = {\"apple\", \"banana\", \"cherry\"}\n",
    "\n",
    "thisset.remove(\"banana\") # or by using '.discard' method\n",
    "\n",
    "print(thisset)"
   ]
  },
  {
   "cell_type": "code",
   "execution_count": 16,
   "id": "69e973d9",
   "metadata": {},
   "outputs": [
    {
     "name": "stdout",
     "output_type": "stream",
     "text": [
      "cherry\n",
      "{'banana', 'apple'}\n"
     ]
    }
   ],
   "source": [
    "# remove the last item from the set\n",
    "\n",
    "thisset = {\"apple\", \"banana\", \"cherry\"}\n",
    "\n",
    "x = thisset.pop()\n",
    "\n",
    "print(x) # to see which was the last item removed as sets are unordered (for bigger sets)\n",
    "\n",
    "print(thisset) # to have a more clear picture about the set"
   ]
  },
  {
   "cell_type": "code",
   "execution_count": 17,
   "id": "0875f913",
   "metadata": {},
   "outputs": [
    {
     "name": "stdout",
     "output_type": "stream",
     "text": [
      "set()\n"
     ]
    }
   ],
   "source": [
    "# Empty the set (remove items)\n",
    "\n",
    "thisset = {\"apple\", \"banana\", \"cherry\"}\n",
    "\n",
    "thisset.clear()\n",
    "\n",
    "print(thisset)"
   ]
  },
  {
   "cell_type": "code",
   "execution_count": null,
   "id": "df1de1de",
   "metadata": {},
   "outputs": [],
   "source": [
    "# Del method will remove the set completely\n",
    "\n",
    "thisset = {\"apple\", \"banana\", \"cherry\"}\n",
    "\n",
    "del thisset\n",
    "\n",
    "print(thisset)"
   ]
  },
  {
   "cell_type": "markdown",
   "id": "aa058ad9",
   "metadata": {},
   "source": [
    "# Loop through Sets"
   ]
  },
  {
   "cell_type": "code",
   "execution_count": null,
   "id": "8005e300",
   "metadata": {},
   "outputs": [],
   "source": [
    "# by using 'for' akin to lists or tupples"
   ]
  },
  {
   "cell_type": "markdown",
   "id": "f0b863f0",
   "metadata": {},
   "source": [
    "# Join two sets"
   ]
  },
  {
   "cell_type": "markdown",
   "id": "92ebdb4c",
   "metadata": {},
   "source": [
    "# Total Join"
   ]
  },
  {
   "cell_type": "code",
   "execution_count": 24,
   "id": "a60b67c1",
   "metadata": {},
   "outputs": [
    {
     "name": "stdout",
     "output_type": "stream",
     "text": [
      "{1, 2, 3, 'c', 'a', 'b'}\n"
     ]
    }
   ],
   "source": [
    "# by creating another set                    will exclude duplicated items (item 2- duplicated)\n",
    "\n",
    "set1 = {\"a\", \"b\" , \"c\"}\n",
    "set2 = {1, 2, 3, 'a'}\n",
    "\n",
    "set3 = set1.union(set2)\n",
    "print(set3)"
   ]
  },
  {
   "cell_type": "code",
   "execution_count": 19,
   "id": "cfeea725",
   "metadata": {},
   "outputs": [
    {
     "name": "stdout",
     "output_type": "stream",
     "text": [
      "{1, 2, 3, 'c', 'a', 'b'}\n"
     ]
    }
   ],
   "source": [
    "# by using the same analyzed sets             will exclude duplicated items (item 2- duplicated)\n",
    "\n",
    "set1 = {\"a\", \"b\" , \"c\"}\n",
    "set2 = {1, 2, 3}\n",
    "\n",
    "set1.update(set2)\n",
    "print(set1)"
   ]
  },
  {
   "cell_type": "markdown",
   "id": "770af6a9",
   "metadata": {},
   "source": [
    "# Joining keeping only the duplicates"
   ]
  },
  {
   "cell_type": "code",
   "execution_count": 20,
   "id": "006dc179",
   "metadata": {},
   "outputs": [
    {
     "name": "stdout",
     "output_type": "stream",
     "text": [
      "{'apple'}\n"
     ]
    }
   ],
   "source": [
    "# Updating by KEEPING ONLY THE DUPLICATES (intersection) in the same analyzed sets\n",
    "\n",
    "x = {\"apple\", \"banana\", \"cherry\"}\n",
    "y = {\"google\", \"microsoft\", \"apple\"}\n",
    "\n",
    "x.intersection_update(y)\n",
    "\n",
    "print(x)"
   ]
  },
  {
   "cell_type": "code",
   "execution_count": 21,
   "id": "a9acc0b2",
   "metadata": {},
   "outputs": [
    {
     "name": "stdout",
     "output_type": "stream",
     "text": [
      "{'apple'}\n"
     ]
    }
   ],
   "source": [
    "# Keeping only the intersactions in ANOTHER CREATED SET\n",
    "\n",
    "x = {\"apple\", \"banana\", \"cherry\"}\n",
    "y = {\"google\", \"microsoft\", \"apple\"}\n",
    "\n",
    "z = x.intersection(y)\n",
    "\n",
    "print(z)"
   ]
  },
  {
   "cell_type": "markdown",
   "id": "1bd5294d",
   "metadata": {},
   "source": [
    "# Joining excluding totally the duplicates"
   ]
  },
  {
   "cell_type": "code",
   "execution_count": 23,
   "id": "e8b82194",
   "metadata": {},
   "outputs": [
    {
     "name": "stdout",
     "output_type": "stream",
     "text": [
      "{'cherry', 'google', 'banana', 'microsoft'}\n"
     ]
    }
   ],
   "source": [
    "# Keep all except the Duplicates (item 1, item 2) - in the same analyzed sets\n",
    "\n",
    "x = {\"apple\", \"banana\", \"cherry\"}\n",
    "y = {\"google\", \"microsoft\", \"apple\"}\n",
    "\n",
    "x.symmetric_difference_update(y)\n",
    "\n",
    "print(x)"
   ]
  },
  {
   "cell_type": "code",
   "execution_count": 22,
   "id": "7e771486",
   "metadata": {},
   "outputs": [
    {
     "name": "stdout",
     "output_type": "stream",
     "text": [
      "{'cherry', 'google', 'banana', 'microsoft'}\n"
     ]
    }
   ],
   "source": [
    "# Keep all except the Duplicates (item 1, item 2) - into anothet set\n",
    "\n",
    "x = {\"apple\", \"banana\", \"cherry\"}\n",
    "y = {\"google\", \"microsoft\", \"apple\"}\n",
    "\n",
    "z = x.symmetric_difference(y)\n",
    "\n",
    "print(z)"
   ]
  },
  {
   "cell_type": "markdown",
   "id": "d49057a3",
   "metadata": {},
   "source": [
    "# Sets Methods"
   ]
  },
  {
   "cell_type": "code",
   "execution_count": null,
   "id": "c8cf2b53",
   "metadata": {},
   "outputs": [],
   "source": [
    "# add()\tAdds an element to the set\n",
    "\n",
    "# clear()\tRemoves all the elements from the set\n",
    "\n",
    "# copy()\tReturns a copy of the set\n",
    "\n",
    "# difference()\tReturns a set containing the difference between two or more sets\n",
    "\n",
    "# difference_update()\tRemoves the items in this set that are also included in another, specified set\n",
    "\n",
    "# discard()\tRemove the specified item\n",
    "\n",
    "# intersection()\tReturns a set, that is the intersection of two other sets\n",
    "\n",
    "# intersection_update()\tRemoves the items in this set that are not present in other, specified set(s)\n",
    "\n",
    "# isdisjoint()\tReturns whether two sets have a intersection or not\n",
    "\n",
    "# issubset()\tReturns whether another set contains this set or not\n",
    "\n",
    "# issuperset()\tReturns whether this set contains another set or not\n",
    "\n",
    "# pop()\tRemoves an element from the set\n",
    "\n",
    "# remove()\tRemoves the specified element\n",
    "\n",
    "# symmetric_difference()\tReturns a set with the symmetric differences of two sets\n",
    "\n",
    "# symmetric_difference_update()\tinserts the symmetric differences from this set and another\n",
    "\n",
    "# union()\tReturn a set containing the union of sets\n",
    "\n",
    "# update()\tUpdate the set with the union of this set and others"
   ]
  },
  {
   "cell_type": "markdown",
   "id": "0789017c",
   "metadata": {},
   "source": [
    "# Dictionary (General)"
   ]
  },
  {
   "cell_type": "code",
   "execution_count": null,
   "id": "b9a0f57e",
   "metadata": {},
   "outputs": [],
   "source": [
    "# Dictionaries are used to store data values in key:value pairs."
   ]
  },
  {
   "cell_type": "code",
   "execution_count": 1,
   "id": "31661100",
   "metadata": {},
   "outputs": [
    {
     "name": "stdout",
     "output_type": "stream",
     "text": [
      "{'brand': 'Ford', 'model': 'Mustang', 'year': 1964}\n"
     ]
    }
   ],
   "source": [
    "# creating and printing\n",
    "\n",
    "thisdict = {\n",
    "  \"brand\": \"Ford\",\n",
    "  \"model\": \"Mustang\",\n",
    "  \"year\": 1964 \n",
    "}\n",
    "\n",
    "print(thisdict)"
   ]
  },
  {
   "cell_type": "code",
   "execution_count": 2,
   "id": "6656f4e8",
   "metadata": {},
   "outputs": [
    {
     "name": "stdout",
     "output_type": "stream",
     "text": [
      "Ford\n"
     ]
    }
   ],
   "source": [
    "# printing a value for a key\n",
    "\n",
    "thisdict = {\n",
    "  \"brand\": \"Ford\",\n",
    "  \"model\": \"Mustang\",\n",
    "  \"year\": 1964\n",
    "}\n",
    "print(thisdict[\"brand\"])"
   ]
  },
  {
   "cell_type": "code",
   "execution_count": 3,
   "id": "46a68231",
   "metadata": {},
   "outputs": [
    {
     "name": "stdout",
     "output_type": "stream",
     "text": [
      "{'brand': 'Ford', 'model': 'Mustang', 'year': 2025}\n"
     ]
    }
   ],
   "source": [
    "# !!! Duplicated values will overwrite the existing values\n",
    "\n",
    "# EX: \n",
    "\n",
    "thisdict = {\n",
    "  \"brand\": \"Ford\",\n",
    "  \"model\": \"Mustang\",\n",
    "  \"year\": 1964,\n",
    "  \"year\": 2025\n",
    "}\n",
    "print(thisdict)"
   ]
  },
  {
   "cell_type": "code",
   "execution_count": 5,
   "id": "8cbb223c",
   "metadata": {},
   "outputs": [
    {
     "name": "stdout",
     "output_type": "stream",
     "text": [
      "{'brand': 'Ford', 'electric': False, 'year': 1964, 'colors': ['red', 'white', 'blue']}\n"
     ]
    }
   ],
   "source": [
    "# The values in a dictionary can be of any data type\n",
    "\n",
    "thisdict = {\n",
    "  \"brand\": \"Ford\",\n",
    "  \"electric\": False,\n",
    "  \"year\": 1964,\n",
    "  \"colors\": [\"red\", \"white\", \"blue\"]       # list\n",
    "}\n",
    "\n",
    "print(thisdict)"
   ]
  },
  {
   "cell_type": "markdown",
   "id": "87fb3d23",
   "metadata": {},
   "source": [
    "# Accessing Items"
   ]
  },
  {
   "cell_type": "code",
   "execution_count": 10,
   "id": "3097311c",
   "metadata": {},
   "outputs": [
    {
     "name": "stdout",
     "output_type": "stream",
     "text": [
      "Mustang\n"
     ]
    }
   ],
   "source": [
    "thisdict = {\n",
    "  \"brand\": \"Ford\",\n",
    "  \"model\": \"Mustang\",\n",
    "  \"year\": 1964\n",
    "}\n",
    "x = thisdict[\"model\"]         # OR x = thisdict.get(\"model\")\n",
    "\n",
    "print(x)\n"
   ]
  },
  {
   "cell_type": "code",
   "execution_count": 11,
   "id": "8fc1162d",
   "metadata": {},
   "outputs": [
    {
     "name": "stdout",
     "output_type": "stream",
     "text": [
      "dict_keys(['brand', 'model', 'year'])\n"
     ]
    }
   ],
   "source": [
    "# get the list of all keys\n",
    "\n",
    "thisdict = {\n",
    "  \"brand\": \"Ford\",\n",
    "  \"model\": \"Mustang\",\n",
    "  \"year\": 1964\n",
    "}\n",
    "\n",
    "x = thisdict.keys()\n",
    "\n",
    "print(x)"
   ]
  },
  {
   "cell_type": "code",
   "execution_count": 12,
   "id": "0926db04",
   "metadata": {},
   "outputs": [
    {
     "name": "stdout",
     "output_type": "stream",
     "text": [
      "dict_keys(['brand', 'model', 'year'])\n",
      "dict_keys(['brand', 'model', 'year', 'color'])\n"
     ]
    }
   ],
   "source": [
    "# add a new key and value into the dictionar\n",
    "\n",
    "car = {\n",
    "\"brand\": \"Ford\",\n",
    "\"model\": \"Mustang\",\n",
    "\"year\": 1964\n",
    "}\n",
    "\n",
    "x = car.keys()\n",
    "\n",
    "print(x) #before the change\n",
    "\n",
    "car[\"color\"] = \"white\"\n",
    "\n",
    "print(x) #after the change"
   ]
  },
  {
   "cell_type": "code",
   "execution_count": 15,
   "id": "1458f17f",
   "metadata": {},
   "outputs": [
    {
     "name": "stdout",
     "output_type": "stream",
     "text": [
      "dict_values(['Ford', 'Mustang', 1964])\n"
     ]
    }
   ],
   "source": [
    "# Get a list of values\n",
    "\n",
    "thisdict = {\n",
    "  \"brand\": \"Ford\",\n",
    "  \"model\": \"Mustang\",\n",
    "  \"year\": 1964\n",
    "}\n",
    "\n",
    "x = thisdict.values()\n",
    "\n",
    "print(x)"
   ]
  },
  {
   "cell_type": "code",
   "execution_count": 17,
   "id": "8c7318c1",
   "metadata": {},
   "outputs": [
    {
     "name": "stdout",
     "output_type": "stream",
     "text": [
      "{'brand': 'Ford', 'model': 'Mustang', 'year': 2020}\n"
     ]
    }
   ],
   "source": [
    "# Make a change in the original dictionar\n",
    "\n",
    "car = {\n",
    "\"brand\": \"Ford\",\n",
    "\"model\": \"Mustang\",\n",
    "\"year\": 1964\n",
    "}\n",
    "\n",
    "car[\"year\"] = 2020\n",
    "\n",
    "print(car) #after the change"
   ]
  },
  {
   "cell_type": "code",
   "execution_count": 18,
   "id": "795ed0c9",
   "metadata": {},
   "outputs": [
    {
     "name": "stdout",
     "output_type": "stream",
     "text": [
      "dict_items([('brand', 'Ford'), ('model', 'Mustang'), ('year', 1964)])\n"
     ]
    }
   ],
   "source": [
    "# The items() method will return each item in a dictionary, as tuples in a list.\n",
    "\n",
    "thisdict = {\n",
    "  \"brand\": \"Ford\",\n",
    "  \"model\": \"Mustang\",\n",
    "  \"year\": 1964\n",
    "}\n",
    "\n",
    "x = thisdict.items()\n",
    "\n",
    "print(x)"
   ]
  },
  {
   "cell_type": "code",
   "execution_count": 19,
   "id": "7ea981ec",
   "metadata": {},
   "outputs": [
    {
     "name": "stdout",
     "output_type": "stream",
     "text": [
      "Yes, 'model' is one of the keys in the thisdict dictionary\n"
     ]
    }
   ],
   "source": [
    "# !!! Check if a key is present in the dictionary \n",
    "\n",
    "thisdict = {\n",
    "  \"brand\": \"Ford\",\n",
    "  \"model\": \"Mustang\",\n",
    "  \"year\": 1964\n",
    "}\n",
    "\n",
    "if \"model\" in thisdict:\n",
    "  print(\"Yes, 'model' is one of the keys in the thisdict dictionary\")"
   ]
  },
  {
   "cell_type": "markdown",
   "id": "a3d45fdf",
   "metadata": {},
   "source": [
    "# Change Items"
   ]
  },
  {
   "cell_type": "code",
   "execution_count": 21,
   "id": "c73d21f1",
   "metadata": {},
   "outputs": [
    {
     "name": "stdout",
     "output_type": "stream",
     "text": [
      "{'brand': 'Ford', 'model': 'Mustang', 'year': 2018}\n"
     ]
    }
   ],
   "source": [
    "# change year to 2018\n",
    "\n",
    "thisdict = {\n",
    "  \"brand\": \"Ford\",\n",
    "  \"model\": \"Mustang\",\n",
    "  \"year\": 1964\n",
    "}\n",
    "thisdict[\"year\"] = 2018\n",
    "\n",
    "print(thisdict)"
   ]
  },
  {
   "cell_type": "markdown",
   "id": "663eeab2",
   "metadata": {},
   "source": [
    "# Adding Items"
   ]
  },
  {
   "cell_type": "code",
   "execution_count": 22,
   "id": "dfd6a593",
   "metadata": {},
   "outputs": [
    {
     "name": "stdout",
     "output_type": "stream",
     "text": [
      "{'brand': 'Ford', 'model': 'Mustang', 'year': 1964, 'color': 'red'}\n"
     ]
    }
   ],
   "source": [
    "thisdict = {\n",
    "  \"brand\": \"Ford\",\n",
    "  \"model\": \"Mustang\",\n",
    "  \"year\": 1964\n",
    "}\n",
    "\n",
    "thisdict[\"color\"] = \"red\"\n",
    "print(thisdict)"
   ]
  },
  {
   "cell_type": "markdown",
   "id": "6132ed8c",
   "metadata": {},
   "source": [
    "# Remove Items"
   ]
  },
  {
   "cell_type": "code",
   "execution_count": 23,
   "id": "98ea8e91",
   "metadata": {},
   "outputs": [
    {
     "name": "stdout",
     "output_type": "stream",
     "text": [
      "{'brand': 'Ford', 'year': 1964}\n"
     ]
    }
   ],
   "source": [
    "thisdict = {\n",
    "  \"brand\": \"Ford\",\n",
    "  \"model\": \"Mustang\",\n",
    "  \"year\": 1964\n",
    "}\n",
    "\n",
    "thisdict.pop(\"model\")   # OR del thisdict[\"model\"]\n",
    "\n",
    "print(thisdict)"
   ]
  },
  {
   "cell_type": "code",
   "execution_count": 24,
   "id": "39a3567e",
   "metadata": {},
   "outputs": [
    {
     "name": "stdout",
     "output_type": "stream",
     "text": [
      "{'brand': 'Ford', 'model': 'Mustang'}\n"
     ]
    }
   ],
   "source": [
    "# deletes the last item from the dictionary\n",
    "\n",
    "thisdict = {\n",
    "  \"brand\": \"Ford\",\n",
    "  \"model\": \"Mustang\",\n",
    "  \"year\": 1964\n",
    "}\n",
    "\n",
    "thisdict.popitem()\n",
    "\n",
    "print(thisdict)"
   ]
  },
  {
   "cell_type": "code",
   "execution_count": 25,
   "id": "ca4b4ee1",
   "metadata": {},
   "outputs": [
    {
     "ename": "NameError",
     "evalue": "name 'thisdict' is not defined",
     "output_type": "error",
     "traceback": [
      "\u001b[1;31m---------------------------------------------------------------------------\u001b[0m",
      "\u001b[1;31mNameError\u001b[0m                                 Traceback (most recent call last)",
      "\u001b[1;32m<ipython-input-25-9701f6c181b5>\u001b[0m in \u001b[0;36m<module>\u001b[1;34m\u001b[0m\n\u001b[0;32m      7\u001b[0m }\n\u001b[0;32m      8\u001b[0m \u001b[1;32mdel\u001b[0m \u001b[0mthisdict\u001b[0m\u001b[1;33m\u001b[0m\u001b[1;33m\u001b[0m\u001b[0m\n\u001b[1;32m----> 9\u001b[1;33m \u001b[0mprint\u001b[0m\u001b[1;33m(\u001b[0m\u001b[0mthisdict\u001b[0m\u001b[1;33m)\u001b[0m \u001b[1;31m#this will cause an error because \"thisdict\" no longer exists.\u001b[0m\u001b[1;33m\u001b[0m\u001b[1;33m\u001b[0m\u001b[0m\n\u001b[0m",
      "\u001b[1;31mNameError\u001b[0m: name 'thisdict' is not defined"
     ]
    }
   ],
   "source": [
    "# Delete completely the dictionary\n",
    "\n",
    "thisdict = {\n",
    "  \"brand\": \"Ford\",\n",
    "  \"model\": \"Mustang\",\n",
    "  \"year\": 1964\n",
    "}\n",
    "del thisdict\n",
    "print(thisdict) #this will cause an error because \"thisdict\" no longer exists."
   ]
  },
  {
   "cell_type": "code",
   "execution_count": 26,
   "id": "35b02f60",
   "metadata": {},
   "outputs": [
    {
     "name": "stdout",
     "output_type": "stream",
     "text": [
      "{}\n"
     ]
    }
   ],
   "source": [
    "# Clear completely the dictionary\n",
    "\n",
    "thisdict = {\n",
    "  \"brand\": \"Ford\",\n",
    "  \"model\": \"Mustang\",\n",
    "  \"year\": 1964\n",
    "}\n",
    "thisdict.clear()\n",
    "print(thisdict)"
   ]
  },
  {
   "cell_type": "markdown",
   "id": "de045649",
   "metadata": {},
   "source": [
    "# Loop through Dictionary"
   ]
  },
  {
   "cell_type": "code",
   "execution_count": 33,
   "id": "5093a213",
   "metadata": {},
   "outputs": [
    {
     "name": "stdout",
     "output_type": "stream",
     "text": [
      "brand Ford\n",
      "model Mustang\n",
      "year 1964\n"
     ]
    }
   ],
   "source": [
    "# print key and value\n",
    "\n",
    "thisdict = {\n",
    "  \"brand\": \"Ford\",\n",
    "  \"model\": \"Mustang\",\n",
    "  \"year\": 1964\n",
    "}\n",
    "\n",
    "for x, y in thisdict.items():\n",
    "  print(x, y)"
   ]
  },
  {
   "cell_type": "code",
   "execution_count": 32,
   "id": "af4e446f",
   "metadata": {},
   "outputs": [
    {
     "name": "stdout",
     "output_type": "stream",
     "text": [
      "brand\n",
      "model\n",
      "year\n"
     ]
    }
   ],
   "source": [
    "# Print all key names in the dictionary, one by one\n",
    "\n",
    "thisdict = {\n",
    "  \"brand\": \"Ford\",\n",
    "  \"model\": \"Mustang\",\n",
    "  \"year\": 1964\n",
    "}\n",
    "\n",
    "for x in thisdict.keys():\n",
    "  print(x)"
   ]
  },
  {
   "cell_type": "code",
   "execution_count": 31,
   "id": "47f080de",
   "metadata": {},
   "outputs": [
    {
     "name": "stdout",
     "output_type": "stream",
     "text": [
      "Ford\n",
      "Mustang\n",
      "1964\n"
     ]
    }
   ],
   "source": [
    "# Print all values in the dictionary, one by one:\n",
    "\n",
    "thisdict = {\n",
    "  \"brand\": \"Ford\",\n",
    "  \"model\": \"Mustang\",\n",
    "  \"year\": 1964\n",
    "}\n",
    "\n",
    "for x in thisdict.values():\n",
    "    print(x)\n"
   ]
  },
  {
   "cell_type": "markdown",
   "id": "46446a71",
   "metadata": {},
   "source": [
    "# Copy a Dictionary"
   ]
  },
  {
   "cell_type": "code",
   "execution_count": 35,
   "id": "0e2b6f4b",
   "metadata": {},
   "outputs": [
    {
     "name": "stdout",
     "output_type": "stream",
     "text": [
      "{'brand': 'Ford', 'model': 'Mustang', 'year': 1964}\n"
     ]
    }
   ],
   "source": [
    "thisdict = {\n",
    "  \"brand\": \"Ford\",\n",
    "  \"model\": \"Mustang\",\n",
    "  \"year\": 1964\n",
    "}\n",
    "\n",
    "mydict = thisdict.copy()               # OR     mydict = dict(thisdict)\n",
    "                                       #        print(mydict)\n",
    "print(mydict)"
   ]
  },
  {
   "cell_type": "markdown",
   "id": "eadefe64",
   "metadata": {},
   "source": [
    "# MORE USEFUL STUFF"
   ]
  },
  {
   "cell_type": "markdown",
   "id": "e66f19ec",
   "metadata": {},
   "source": [
    "# ELIF"
   ]
  },
  {
   "cell_type": "code",
   "execution_count": 2,
   "id": "282efad4",
   "metadata": {},
   "outputs": [
    {
     "name": "stdout",
     "output_type": "stream",
     "text": [
      "a and b are equal\n"
     ]
    }
   ],
   "source": [
    "a = 33\n",
    "b = 33\n",
    "\n",
    "if b > a:\n",
    "  print(\"b is greater than a\")\n",
    "elif a == b:  #The elif keyword is pythons way of saying \"if the previous conditions were not true, then try this condition\".\n",
    "  print(\"a and b are equal\")"
   ]
  },
  {
   "cell_type": "markdown",
   "id": "098fb753",
   "metadata": {},
   "source": [
    "# Else"
   ]
  },
  {
   "cell_type": "code",
   "execution_count": 1,
   "id": "9efd1104",
   "metadata": {},
   "outputs": [
    {
     "name": "stdout",
     "output_type": "stream",
     "text": [
      "a is greater than b\n"
     ]
    }
   ],
   "source": [
    "a = 200\n",
    "b = 33\n",
    "\n",
    "if b > a:\n",
    "  print(\"b is greater than a\")\n",
    "elif a == b:\n",
    "  print(\"a and b are equal\")\n",
    "else:\n",
    "  print(\"a is greater than b\")"
   ]
  },
  {
   "cell_type": "markdown",
   "id": "d8426acd",
   "metadata": {},
   "source": [
    "# AND"
   ]
  },
  {
   "cell_type": "code",
   "execution_count": 3,
   "id": "c4d00086",
   "metadata": {},
   "outputs": [
    {
     "name": "stdout",
     "output_type": "stream",
     "text": [
      "Both conditions are True\n"
     ]
    }
   ],
   "source": [
    "a = 200\n",
    "b = 33\n",
    "c = 500\n",
    "                                      #only if both conditions are met, the print will function\n",
    "if a > b and c > a:\n",
    "  print(\"Both conditions are True\")"
   ]
  },
  {
   "cell_type": "markdown",
   "id": "75cfb778",
   "metadata": {},
   "source": [
    "# OR"
   ]
  },
  {
   "cell_type": "code",
   "execution_count": 4,
   "id": "692247b3",
   "metadata": {},
   "outputs": [
    {
     "name": "stdout",
     "output_type": "stream",
     "text": [
      "At least one of the conditions is True\n"
     ]
    }
   ],
   "source": [
    "a = 200\n",
    "b = 33\n",
    "c = 500\n",
    "                                                    # if only one of the both conditions is met, the print will function\n",
    "if a > b or a > c:\n",
    "  print(\"At least one of the conditions is True\")"
   ]
  },
  {
   "cell_type": "markdown",
   "id": "0e7d07a0",
   "metadata": {},
   "source": [
    "# Nested IF:"
   ]
  },
  {
   "cell_type": "code",
   "execution_count": 7,
   "id": "46796c43",
   "metadata": {},
   "outputs": [
    {
     "name": "stdout",
     "output_type": "stream",
     "text": [
      "Above ten,\n",
      "and also above 20!\n"
     ]
    }
   ],
   "source": [
    "x = 41\n",
    "\n",
    "if x > 10:\n",
    "  print(\"Above ten,\")\n",
    "  if x > 20:\n",
    "    print(\"and also above 20!\")\n",
    "  else:\n",
    "    print(\"but not above 20.\")"
   ]
  },
  {
   "cell_type": "markdown",
   "id": "dc9c8d76",
   "metadata": {},
   "source": [
    "# WHILE LOOPS"
   ]
  },
  {
   "cell_type": "code",
   "execution_count": 13,
   "id": "bc5fa22f",
   "metadata": {},
   "outputs": [
    {
     "name": "stdout",
     "output_type": "stream",
     "text": [
      "1\n",
      "11\n",
      "21\n",
      "31\n",
      "41\n",
      "51\n",
      "61\n",
      "71\n",
      "81\n",
      "91\n"
     ]
    }
   ],
   "source": [
    "# while statement\n",
    "\n",
    "i = 1\n",
    "\n",
    "while i < 100:\n",
    "  print(i)\n",
    "  i += 10"
   ]
  },
  {
   "cell_type": "code",
   "execution_count": null,
   "id": "4d721d56",
   "metadata": {},
   "outputs": [],
   "source": [
    "# while+ break+ if\n",
    "\n",
    "i = 1\n",
    "\n",
    "while i < 6:\n",
    "  print(i)\n",
    "  if i == 3:\n",
    "    break\n",
    "  i += 1"
   ]
  },
  {
   "cell_type": "code",
   "execution_count": 14,
   "id": "beacff4a",
   "metadata": {},
   "outputs": [
    {
     "name": "stdout",
     "output_type": "stream",
     "text": [
      "1\n",
      "2\n",
      "4\n",
      "5\n",
      "6\n"
     ]
    }
   ],
   "source": [
    "# while+ continue+ if\n",
    "\n",
    "i = 0\n",
    "while i < 6:\n",
    "  i += 1\n",
    "  if i == 3:\n",
    "    continue\n",
    "  print(i)"
   ]
  },
  {
   "cell_type": "code",
   "execution_count": 15,
   "id": "b31503af",
   "metadata": {},
   "outputs": [
    {
     "name": "stdout",
     "output_type": "stream",
     "text": [
      "1\n",
      "2\n",
      "3\n",
      "4\n",
      "5\n",
      "i is no longer less than 6\n"
     ]
    }
   ],
   "source": [
    "# while+ else\n",
    "\n",
    "i = 1\n",
    "while i < 6:\n",
    "  print(i)\n",
    "  i += 1\n",
    "else:\n",
    "  print(\"i is no longer less than 6\")"
   ]
  },
  {
   "cell_type": "markdown",
   "id": "39aa63cf",
   "metadata": {},
   "source": [
    "# FOR LOOPS"
   ]
  },
  {
   "cell_type": "markdown",
   "id": "ca59ef9f",
   "metadata": {},
   "source": [
    "# Break"
   ]
  },
  {
   "cell_type": "code",
   "execution_count": 24,
   "id": "94384ba5",
   "metadata": {},
   "outputs": [
    {
     "name": "stdout",
     "output_type": "stream",
     "text": [
      "apple\n",
      "banana\n"
     ]
    }
   ],
   "source": [
    "# ex: 1\n",
    "\n",
    "fruits = [\"apple\", \"banana\", \"cherry\"]\n",
    "\n",
    "for x in fruits:\n",
    "    print(x)\n",
    "    if x == \"banana\":\n",
    "        break\n"
   ]
  },
  {
   "cell_type": "code",
   "execution_count": 25,
   "id": "009d32f2",
   "metadata": {},
   "outputs": [
    {
     "name": "stdout",
     "output_type": "stream",
     "text": [
      "apple\n"
     ]
    }
   ],
   "source": [
    "# ex: 2\n",
    "\n",
    "fruits = [\"apple\", \"banana\", \"cherry\"]\n",
    "\n",
    "for x in fruits:\n",
    "  if x == \"banana\":\n",
    "    break\n",
    "  print(x)"
   ]
  },
  {
   "cell_type": "markdown",
   "id": "c86433ff",
   "metadata": {},
   "source": [
    "# Continue"
   ]
  },
  {
   "cell_type": "code",
   "execution_count": 26,
   "id": "24c5e97e",
   "metadata": {},
   "outputs": [
    {
     "name": "stdout",
     "output_type": "stream",
     "text": [
      "apple\n",
      "cherry\n"
     ]
    }
   ],
   "source": [
    "fruits = [\"apple\", \"banana\", \"cherry\"]\n",
    "\n",
    "for x in fruits:\n",
    "    if x == \"banana\":            # if x finds banana it will jump over it to the next item\n",
    "        continue\n",
    "    print(x)                     # if x is not banana it will be printed. When x is banana, it will\n",
    "                                 # jump over it (continue)"
   ]
  },
  {
   "cell_type": "markdown",
   "id": "12b22b00",
   "metadata": {},
   "source": [
    "# Range"
   ]
  },
  {
   "cell_type": "code",
   "execution_count": 27,
   "id": "3338bec1",
   "metadata": {},
   "outputs": [
    {
     "name": "stdout",
     "output_type": "stream",
     "text": [
      "0\n",
      "1\n",
      "2\n",
      "3\n",
      "4\n",
      "5\n"
     ]
    }
   ],
   "source": [
    "for x in range(6):\n",
    "  print(x)"
   ]
  },
  {
   "cell_type": "code",
   "execution_count": 28,
   "id": "b6383ee0",
   "metadata": {},
   "outputs": [
    {
     "name": "stdout",
     "output_type": "stream",
     "text": [
      "2\n",
      "3\n",
      "4\n",
      "5\n"
     ]
    }
   ],
   "source": [
    "for x in range(2, 6):\n",
    "  print(x)"
   ]
  },
  {
   "cell_type": "code",
   "execution_count": 33,
   "id": "c5983d00",
   "metadata": {},
   "outputs": [
    {
     "name": "stdout",
     "output_type": "stream",
     "text": [
      "0\n",
      "1\n",
      "2\n"
     ]
    }
   ],
   "source": [
    "for x in range(6):\n",
    "    if x == 3: \n",
    "        break\n",
    "    print(x)\n",
    "else:\n",
    "    print(\"Finally finished!\")\n",
    "#If the loop breaks, the else block is not executed."
   ]
  },
  {
   "cell_type": "code",
   "execution_count": 29,
   "id": "198a4024",
   "metadata": {},
   "outputs": [
    {
     "name": "stdout",
     "output_type": "stream",
     "text": [
      "0\n",
      "1\n",
      "2\n",
      "3\n"
     ]
    }
   ],
   "source": [
    "for x in range(6):\n",
    "  print(x)\n",
    "  if x == 3: \n",
    "        break\n",
    "else:\n",
    "  print(\"Finally finished!\")\n",
    "#If the loop breaks, the else block is not executed."
   ]
  },
  {
   "cell_type": "markdown",
   "id": "9759ac63",
   "metadata": {},
   "source": [
    "# Nested Loops"
   ]
  },
  {
   "cell_type": "code",
   "execution_count": 34,
   "id": "f8f160a7",
   "metadata": {},
   "outputs": [
    {
     "name": "stdout",
     "output_type": "stream",
     "text": [
      "red apple\n",
      "red banana\n",
      "red cherry\n",
      "big apple\n",
      "big banana\n",
      "big cherry\n",
      "tasty apple\n",
      "tasty banana\n",
      "tasty cherry\n"
     ]
    }
   ],
   "source": [
    "adj = [\"red\", \"big\", \"tasty\"]\n",
    "fruits = [\"apple\", \"banana\", \"cherry\"]\n",
    "\n",
    "for x in adj:\n",
    "  for y in fruits:\n",
    "    print(x, y)"
   ]
  },
  {
   "cell_type": "markdown",
   "id": "e63f83e3",
   "metadata": {},
   "source": [
    "# Functions"
   ]
  },
  {
   "cell_type": "code",
   "execution_count": 35,
   "id": "3787f0bc",
   "metadata": {},
   "outputs": [
    {
     "name": "stdout",
     "output_type": "stream",
     "text": [
      "Emil Refsnes\n"
     ]
    }
   ],
   "source": [
    "def my_function(fname, lname):\n",
    "  print(fname + \" \" + lname)\n",
    "\n",
    "my_function(\"Emil\", \"Refsnes\")"
   ]
  },
  {
   "cell_type": "code",
   "execution_count": 1,
   "id": "79161a91",
   "metadata": {},
   "outputs": [
    {
     "name": "stdout",
     "output_type": "stream",
     "text": [
      "The youngest child is Linus\n"
     ]
    }
   ],
   "source": [
    "# If you do not know how many arguments that will be passed into your function, \n",
    "# add a * before the parameter name in the function definition.\n",
    "\n",
    "def my_function(*kids):\n",
    "  print(\"The youngest child is \" + kids[2])\n",
    "\n",
    "my_function(\"Emil\", \"Tobias\", \"Linus\")"
   ]
  },
  {
   "cell_type": "markdown",
   "id": "b806b2e8",
   "metadata": {},
   "source": [
    "# Keywords Arguments"
   ]
  },
  {
   "cell_type": "code",
   "execution_count": 36,
   "id": "9cfa5e39",
   "metadata": {},
   "outputs": [
    {
     "name": "stdout",
     "output_type": "stream",
     "text": [
      "The youngest child is Linus\n"
     ]
    }
   ],
   "source": [
    "def my_function(child3, child2, child1):\n",
    "  print(\"The youngest child is \" + child3)\n",
    "\n",
    "my_function(child1 = \"Emil\", child2 = \"Tobias\", child3 = \"Linus\")"
   ]
  },
  {
   "cell_type": "markdown",
   "id": "e160e20e",
   "metadata": {},
   "source": [
    "# Replace an Arguments value with a List"
   ]
  },
  {
   "cell_type": "code",
   "execution_count": 37,
   "id": "af548d45",
   "metadata": {},
   "outputs": [
    {
     "name": "stdout",
     "output_type": "stream",
     "text": [
      "apple\n",
      "banana\n",
      "cherry\n"
     ]
    }
   ],
   "source": [
    "def my_function(food):\n",
    "  for x in food:\n",
    "    print(x)\n",
    "\n",
    "fruits = [\"apple\", \"banana\", \"cherry\"]\n",
    "\n",
    "my_function(fruits)"
   ]
  },
  {
   "cell_type": "markdown",
   "id": "ceb8a589",
   "metadata": {},
   "source": [
    "# Return a value"
   ]
  },
  {
   "cell_type": "code",
   "execution_count": 38,
   "id": "8065303b",
   "metadata": {},
   "outputs": [
    {
     "name": "stdout",
     "output_type": "stream",
     "text": [
      "15\n",
      "25\n",
      "45\n"
     ]
    }
   ],
   "source": [
    "def my_function(x):\n",
    "  return 5 * x\n",
    "\n",
    "print(my_function(3))\n",
    "print(my_function(5))\n",
    "print(my_function(9))"
   ]
  },
  {
   "cell_type": "markdown",
   "id": "6e3ecfee",
   "metadata": {},
   "source": [
    "# Loops:\n"
   ]
  },
  {
   "cell_type": "code",
   "execution_count": 18,
   "id": "c6df8045",
   "metadata": {},
   "outputs": [
    {
     "name": "stdout",
     "output_type": "stream",
     "text": [
      "['white', 'white', 'white', 'white', 'white', 'brown']\n"
     ]
    }
   ],
   "source": [
    "squares= ['red', 'yellow', 'green', 'purple', 'blue', 'brown']\n",
    "for i in range(0,5):\n",
    "    squares[i] = 'white'\n",
    "print(squares)"
   ]
  },
  {
   "cell_type": "markdown",
   "id": "bee04771",
   "metadata": {},
   "source": [
    "# While:\n",
    "\n",
    "cat timp instructiunea e adevarata, atunci executa tot ce este sub while, dupa care repeat operatiunea pana cand este indeplinita."
   ]
  },
  {
   "cell_type": "code",
   "execution_count": 12,
   "id": "5d138505",
   "metadata": {},
   "outputs": [
    {
     "name": "stdout",
     "output_type": "stream",
     "text": [
      "1\n",
      "2\n"
     ]
    }
   ],
   "source": [
    "x=3\n",
    "y=1 # -> becomes 2\n",
    "while(y!= x):\n",
    "    print(y)\n",
    "    y=y+1\n"
   ]
  },
  {
   "cell_type": "markdown",
   "id": "27862f2e",
   "metadata": {},
   "source": [
    "# Sum: execute a sum\n"
   ]
  },
  {
   "cell_type": "code",
   "execution_count": 15,
   "id": "17771805",
   "metadata": {},
   "outputs": [
    {
     "name": "stdout",
     "output_type": "stream",
     "text": [
      "21\n"
     ]
    }
   ],
   "source": [
    "x = [1,2,3,4,5,6]\n",
    "y = sum(x)\n",
    "print(y)"
   ]
  },
  {
   "cell_type": "markdown",
   "id": "804d01fa",
   "metadata": {},
   "source": [
    "# Sorted => In the case of creation of another variable\n"
   ]
  },
  {
   "cell_type": "code",
   "execution_count": 16,
   "id": "14a30306",
   "metadata": {},
   "outputs": [
    {
     "name": "stdout",
     "output_type": "stream",
     "text": [
      "[1, 2, 2, 4, 5, 7, 10]\n"
     ]
    }
   ],
   "source": [
    "x= [1,2,4,5,10,7,2]\n",
    "y= sorted(x)\n",
    "print (y)\n"
   ]
  },
  {
   "cell_type": "markdown",
   "id": "edab531f",
   "metadata": {},
   "source": [
    "# Sort: in the case of modification of the same variable"
   ]
  },
  {
   "cell_type": "code",
   "execution_count": 17,
   "id": "b5b2c1c6",
   "metadata": {},
   "outputs": [
    {
     "name": "stdout",
     "output_type": "stream",
     "text": [
      "[1, 2, 2, 4, 5, 7, 10]\n"
     ]
    }
   ],
   "source": [
    "x= [1,2,4,5,10,7,2]\n",
    "x.sort ()\n",
    "print (x)\n"
   ]
  },
  {
   "cell_type": "markdown",
   "id": "2c145a9f",
   "metadata": {},
   "source": [
    "# Def:\n",
    "Is used to define or declare a function"
   ]
  },
  {
   "cell_type": "code",
   "execution_count": 13,
   "id": "c102c73d",
   "metadata": {},
   "outputs": [
    {
     "name": "stdout",
     "output_type": "stream",
     "text": [
      "11\n",
      "11\n"
     ]
    }
   ],
   "source": [
    "def adunare (a, b):\n",
    "    c = a+b\n",
    "    return c\n",
    "\n",
    "result = adunare(5,6)\n",
    "print(result)\n",
    "\n",
    "a  = 5\n",
    "b = 6\n",
    "print(adunare(a,b))"
   ]
  },
  {
   "cell_type": "code",
   "execution_count": 22,
   "id": "ad67e300",
   "metadata": {},
   "outputs": [
    {
     "name": "stdout",
     "output_type": "stream",
     "text": [
      "False\n"
     ]
    },
    {
     "ename": "NameError",
     "evalue": "name 'gasit' is not defined",
     "output_type": "error",
     "traceback": [
      "\u001b[1;31m---------------------------------------------------------------------------\u001b[0m",
      "\u001b[1;31mNameError\u001b[0m                                 Traceback (most recent call last)",
      "\u001b[1;32m<ipython-input-22-d6697f3bbbb9>\u001b[0m in \u001b[0;36m<module>\u001b[1;34m\u001b[0m\n\u001b[0;32m      8\u001b[0m \u001b[0ma\u001b[0m \u001b[1;33m=\u001b[0m \u001b[1;36m10\u001b[0m\u001b[1;33m\u001b[0m\u001b[1;33m\u001b[0m\u001b[0m\n\u001b[0;32m      9\u001b[0m \u001b[0mprint\u001b[0m\u001b[1;33m(\u001b[0m\u001b[0me_prim\u001b[0m\u001b[1;33m(\u001b[0m\u001b[0ma\u001b[0m\u001b[1;33m)\u001b[0m\u001b[1;33m)\u001b[0m\u001b[1;33m\u001b[0m\u001b[1;33m\u001b[0m\u001b[0m\n\u001b[1;32m---> 10\u001b[1;33m \u001b[0mprint\u001b[0m\u001b[1;33m(\u001b[0m\u001b[0mgasit\u001b[0m\u001b[1;33m)\u001b[0m\u001b[1;33m\u001b[0m\u001b[1;33m\u001b[0m\u001b[0m\n\u001b[0m\u001b[0;32m     11\u001b[0m \u001b[1;33m\u001b[0m\u001b[0m\n\u001b[0;32m     12\u001b[0m \u001b[0mb\u001b[0m \u001b[1;33m=\u001b[0m \u001b[1;36m17\u001b[0m\u001b[1;33m\u001b[0m\u001b[1;33m\u001b[0m\u001b[0m\n",
      "\u001b[1;31mNameError\u001b[0m: name 'gasit' is not defined"
     ]
    }
   ],
   "source": [
    "def e_prim(nr): # nr este parametru/ argument al functiei\n",
    "    gasit = True\n",
    "    for i in range(2, nr//2+1):\n",
    "        if nr % i == 0:\n",
    "            gasit = False\n",
    "    return gasit\n",
    "\n",
    "a = 10 # variabila globala\n",
    "print(e_prim(a))\n",
    "#print(gasit) -- eroare deoarece este variabila LOCALA, se poate accesa doar in interiorul functiei\n",
    "\n",
    "b = 17\n",
    "print(e_prim(b))"
   ]
  },
  {
   "cell_type": "markdown",
   "id": "ecc5146b",
   "metadata": {},
   "source": [
    "# Def: with multiple parameters"
   ]
  },
  {
   "cell_type": "code",
   "execution_count": 22,
   "id": "884a6cc1",
   "metadata": {},
   "outputs": [
    {
     "name": "stdout",
     "output_type": "stream",
     "text": [
      "10\n"
     ]
    }
   ],
   "source": [
    "def mult(a,b):\n",
    "    c = a*b\n",
    "    return c \n",
    "\n",
    "a = 2\n",
    "b = 5\n",
    "c = mult(a,b)\n",
    "print(c)"
   ]
  },
  {
   "cell_type": "code",
   "execution_count": 25,
   "id": "ddc88084",
   "metadata": {},
   "outputs": [
    {
     "name": "stdout",
     "output_type": "stream",
     "text": [
      "1999\n"
     ]
    },
    {
     "ename": "NameError",
     "evalue": "name 'year' is not defined",
     "output_type": "error",
     "traceback": [
      "\u001b[1;31m---------------------------------------------------------------------------\u001b[0m",
      "\u001b[1;31mNameError\u001b[0m                                 Traceback (most recent call last)",
      "\u001b[1;32m<ipython-input-25-b5f208e57adb>\u001b[0m in \u001b[0;36m<module>\u001b[1;34m\u001b[0m\n\u001b[0;32m      4\u001b[0m \u001b[1;33m\u001b[0m\u001b[0m\n\u001b[0;32m      5\u001b[0m \u001b[0mf\u001b[0m\u001b[1;33m(\u001b[0m\u001b[1;33m)\u001b[0m\u001b[1;33m\u001b[0m\u001b[1;33m\u001b[0m\u001b[0m\n\u001b[1;32m----> 6\u001b[1;33m \u001b[0mprint\u001b[0m\u001b[1;33m(\u001b[0m\u001b[0myear\u001b[0m\u001b[1;33m)\u001b[0m\u001b[1;33m\u001b[0m\u001b[1;33m\u001b[0m\u001b[0m\n\u001b[0m",
      "\u001b[1;31mNameError\u001b[0m: name 'year' is not defined"
     ]
    }
   ],
   "source": [
    "def f():\n",
    "    year = 1999\n",
    "    print(year)\n",
    "    \n",
    "f()\n",
    "print(year) # nu merge deoarece year este variabila locala (definita si utilizata doar in cadrul functiei)\n",
    "# variabilele declarate in afara functiilor => variabile globale"
   ]
  },
  {
   "cell_type": "code",
   "execution_count": 27,
   "id": "697af3cd",
   "metadata": {},
   "outputs": [
    {
     "name": "stdout",
     "output_type": "stream",
     "text": [
      "2\n",
      "6\n",
      "7\n",
      "3\n",
      "6\n",
      "8\n",
      "ordine inversa\n",
      "8\n",
      "6\n",
      "3\n",
      "7\n",
      "6\n",
      "2\n"
     ]
    }
   ],
   "source": [
    "l = [2,6,7,3,6,8]\n",
    "\n",
    "# for i in l:\n",
    "#     print(i)\n",
    "    \n",
    "for i in range(len(l)):\n",
    "    print(l[i])\n",
    "    \n",
    "    \n",
    "print(\"ordine inversa\")\n",
    "for i in range(len(l)-1, -1, -1):\n",
    "    print(l[i])"
   ]
  },
  {
   "cell_type": "code",
   "execution_count": 37,
   "id": "b1f94afd",
   "metadata": {},
   "outputs": [
    {
     "name": "stdout",
     "output_type": "stream",
     "text": [
      "11\n",
      "22\n",
      "33\n"
     ]
    }
   ],
   "source": [
    "A=['1','2','3']\n",
    "\n",
    "for a in A:\n",
    "\n",
    "    print(2*a)"
   ]
  },
  {
   "cell_type": "markdown",
   "id": "8f668107",
   "metadata": {},
   "source": [
    "# Mosh- Python Tutorial - Python for Beginners"
   ]
  },
  {
   "cell_type": "code",
   "execution_count": 6,
   "id": "142e9921",
   "metadata": {},
   "outputs": [
    {
     "name": "stdout",
     "output_type": "stream",
     "text": [
      " type your name here: 2020\n",
      "-1\n"
     ]
    }
   ],
   "source": [
    "year = int(input(' type your name here: ')) # or without int(input)\n",
    "age = 2019 - year # but with 'int(year)'\n",
    "print(age)"
   ]
  }
 ],
 "metadata": {
  "kernelspec": {
   "display_name": "Python 3",
   "language": "python",
   "name": "python3"
  },
  "language_info": {
   "codemirror_mode": {
    "name": "ipython",
    "version": 3
   },
   "file_extension": ".py",
   "mimetype": "text/x-python",
   "name": "python",
   "nbconvert_exporter": "python",
   "pygments_lexer": "ipython3",
   "version": "3.8.8"
  }
 },
 "nbformat": 4,
 "nbformat_minor": 5
}
