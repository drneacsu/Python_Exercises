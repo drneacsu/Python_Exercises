{
 "cells": [
  {
   "cell_type": "markdown",
   "id": "5c9795e6",
   "metadata": {},
   "source": [
    "# Dice"
   ]
  },
  {
   "cell_type": "code",
   "execution_count": 5,
   "id": "aef3bd52",
   "metadata": {},
   "outputs": [
    {
     "name": "stdout",
     "output_type": "stream",
     "text": [
      "20\n",
      "17\n"
     ]
    }
   ],
   "source": [
    "# var 1\n",
    "\n",
    "fete_vizibile1 = [[1, 3, 2, 5, 6], [6, 4, 1, 5], [6, 5, 4, 3], [1, 4, 3, 5]]\n",
    "fete_vizibile2 = [[1, 2, 3, 4, 5], [1, 2, 3, 4]]\n",
    "N1 = 4\n",
    "N2 = 2\n",
    "\n",
    "def calculeaza_suma_fete_invizibile(fete_vizibile):\n",
    "\n",
    "    suma_fete_invizibile = 0\n",
    "\n",
    "    for zar in fete_vizibile:\n",
    "        for x in range(1, 7):\n",
    "            if x not in zar:\n",
    "                #print(x)\n",
    "                suma_fete_invizibile += x # echivalent suma_fete_invizibile = suma_fete_invizibile + x\n",
    "                \n",
    "                \n",
    "    return suma_fete_invizibile\n",
    "\n",
    "suma_invizibile1 = calculeaza_suma_fete_invizibile(fete_vizibile1)\n",
    "print(suma_invizibile1)\n",
    "\n",
    "suma_invizibile2 = calculeaza_suma_fete_invizibile(fete_vizibile2)\n",
    "print(suma_invizibile2)"
   ]
  },
  {
   "cell_type": "code",
   "execution_count": 13,
   "id": "9939ad0c",
   "metadata": {},
   "outputs": [
    {
     "name": "stdout",
     "output_type": "stream",
     "text": [
      "20\n"
     ]
    }
   ],
   "source": [
    "# var 2\n",
    "\n",
    "def calculeaza_suma_fete_invizibile2(fete_vizibile, N):\n",
    "    \n",
    "    suma_totala_zar = 0\n",
    "    \n",
    "    for i in range(1, 7):\n",
    "        suma_totala_zar += i\n",
    "    \n",
    "    suma_fete_totala = N * suma_totala_zar\n",
    "\n",
    "    for zar in fete_vizibile:\n",
    "        for numar in zar:\n",
    "            suma_fete_totala -= numar\n",
    "                \n",
    "    return suma_fete_totala\n",
    "\n",
    "suma_invizibile1 = calculeaza_suma_fete_invizibile2(fete_vizibile1, N1)\n",
    "print(suma_invizibile1)"
   ]
  },
  {
   "cell_type": "markdown",
   "id": "4d516bbf",
   "metadata": {},
   "source": [
    "# Casino"
   ]
  },
  {
   "cell_type": "code",
   "execution_count": 9,
   "id": "d223f1d7",
   "metadata": {},
   "outputs": [
    {
     "name": "stdout",
     "output_type": "stream",
     "text": [
      "Joc OK\n"
     ]
    }
   ],
   "source": [
    "n1 = 5 \n",
    "\n",
    "carti1 = [(2, 'trefla'), (11, 'caro'), (14, 'cupa'), (14, 'pica'), (6, 'caro')]\n",
    "\n",
    "carti2 = [(11, 'caro'), (11, 'pica'), (11, 'caro'), (11, 'pica'), (11, 'pica'), (11, 'caro'), (14, 'pica'), (6, 'caro')]\n",
    "\n",
    "def cazino(carti):\n",
    "    frecventa_carti = {}\n",
    "    gasit_neregula = False\n",
    "\n",
    "    for carte in carti:\n",
    "        if carte in frecventa_carti.keys():\n",
    "            frecventa_carti[carte] += 1\n",
    "            if frecventa_carti[carte] >= 3:\n",
    "                #print(carte)\n",
    "                gasit_neregula = True\n",
    "                break\n",
    "        else:\n",
    "            frecventa_carti[carte] = 1\n",
    "    \n",
    "#print(frecventa_carti)\n",
    "    if gasit_neregula == False:\n",
    "        print('Joc OK')\n",
    "    \n",
    "cazino(carti2)\n",
    "\n",
    "cazino(carti1)    "
   ]
  },
  {
   "cell_type": "code",
   "execution_count": 5,
   "id": "6174d107",
   "metadata": {},
   "outputs": [
    {
     "name": "stdout",
     "output_type": "stream",
     "text": [
      "['p', 'p', 'p', 'p', 'q', 'q']\n"
     ]
    }
   ],
   "source": [
    "# 1. Write a Python program that iterate over elements repeating each as many times as its count.\n",
    "\n",
    "# Sample Output: ['p', 'p', 'p', 'p', 'q', 'q']\n",
    "\n",
    "\n",
    "dictionary = {\n",
    "              'p' : 4,\n",
    "              'q' : 2,\n",
    "              'r' : 0,\n",
    "              's' : -2\n",
    "             }\n",
    "\n",
    "lista = []\n",
    "\n",
    "for key in dictionary.keys():\n",
    "    value = dictionary[key]\n",
    "    if value > 0:\n",
    "        for i in range(value):\n",
    "            lista.append(key)\n",
    "\n",
    "print(lista)\n",
    "            \n"
   ]
  },
  {
   "cell_type": "code",
   "execution_count": 63,
   "id": "114a9776",
   "metadata": {},
   "outputs": [
    {
     "name": "stdout",
     "output_type": "stream",
     "text": [
      "Python 6\n",
      "the 6\n",
      "and 5\n",
      "We 2\n",
      "with 2\n",
      "The 1\n",
      "Software 1\n",
      "Foundation 1\n",
      "(PSF) 1\n",
      "is 1\n"
     ]
    }
   ],
   "source": [
    "# Problem: Write a Python program to find the occurrences of 10 most common words in a given text. Go to the editor\n",
    "\n",
    "# input:\n",
    "\n",
    "text = \"\"\"The Python Software Foundation (PSF) is a 501(c)(3) non-profit \n",
    "corporation that holds the intellectual property rights behind\n",
    "the Python programming language. We manage the open source licensing \n",
    "for Python version 2.1 and later and own and protect the trademarks \n",
    "associated with Python. We also run the North American PyCon conference \n",
    "annually, support other Python conferences around the world, and \n",
    "fund Python related development with our grants program and by funding \n",
    "special projects.\"\"\"\n",
    "\n",
    "# first step => convert string into list\n",
    "text = text.replace('.', ' ')\n",
    "text = text.replace(',', ' ')\n",
    "text_list = text.split()\n",
    "# print(text_list)\n",
    "\n",
    "\n",
    "def nr_words(text_list):\n",
    "\n",
    "    frequency = {}\n",
    "\n",
    "    for words in text_list:\n",
    "        if words in frequency:\n",
    "            frequency[words] += 1\n",
    "        else:\n",
    "            frequency[words] = 1\n",
    "\n",
    "    return frequency\n",
    "\n",
    "frequency = nr_words(text_list)\n",
    "# print(frequency)\n",
    "\n",
    "def extract_10_words(frequency):\n",
    "    counter = 10\n",
    "    while counter > 0:\n",
    "        max_frequency = max(frequency.values())\n",
    "        for key in frequency.keys():\n",
    "            if frequency[key] == max_frequency and counter > 0:\n",
    "                print(key, max_frequency)\n",
    "                counter -= 1\n",
    "                frequency[key] = -1\n",
    "            \n",
    "    \n",
    "    \n",
    "    \n",
    "extract_10_words(frequency)\n",
    "    \n",
    "    \n",
    "# Output : [('Python', 6), ('the', 6), ('and', 5), ('We', 2), ('with', 2), ('The', 1), ('Software', 1),\n",
    "# ('Foundation', 1), ('PSF', 1), ('is', 1)]\n"
   ]
  },
  {
   "cell_type": "code",
   "execution_count": 4,
   "id": "45dd683a",
   "metadata": {},
   "outputs": [
    {
     "name": "stdout",
     "output_type": "stream",
     "text": [
      "{1: 5, 5: 2, 3: 3, 4: 3, 2: 4}\n"
     ]
    }
   ],
   "source": [
    "# Python program to count the frequency of\n",
    "# elements in a list using a dictionary\n",
    "\n",
    "def CountFrequency(list):\n",
    "\n",
    "# Creating an empty dictionary\n",
    "    freq = {}\n",
    "    \n",
    "    for item in list:\n",
    "        if item in freq:\n",
    "            freq[item] += 1\n",
    "        else:\n",
    "            freq[item] = 1\n",
    "\n",
    "    return freq\n",
    "\n",
    "\n",
    "my_list =[1, 1, 1, 5, 5, 3, 1, 3, 3, 1, 4, 4, 4, 2, 2, 2, 2]\n",
    "\n",
    "freq = CountFrequency(my_list)\n",
    "print(freq)"
   ]
  },
  {
   "cell_type": "code",
   "execution_count": 32,
   "id": "dc6b6d72",
   "metadata": {},
   "outputs": [
    {
     "name": "stdout",
     "output_type": "stream",
     "text": [
      "{1: 2, 2: 3, 3: 1, 4: 1, 5: 2, 6: 1, 7: 1, 9: 1}\n",
      "3\n",
      "most frequent value is : 2\n"
     ]
    }
   ],
   "source": [
    "# Write a Python program to get the frequency of the elements in a given list of lists.\n",
    "\n",
    "# Input:\n",
    "# [[1, 2, 3, 2], [4, 5, 6, 2], [7, 1, 9, 5]]\n",
    "\n",
    "# Output:\n",
    "\n",
    "# Counter({2: 3, 1: 2, 5: 2, 3: 1, 4: 1, 6: 1, 7: 1, 9: 1})\n",
    "\n",
    "lista_liste = [[1, 2, 3, 2], [4, 5, 6, 2], [7, 1, 9, 5]]\n",
    "\n",
    "def calculeaza_frecventa(lista):\n",
    "   \n",
    "\n",
    "    frecvente = {}\n",
    "\n",
    "    for liste in lista:\n",
    "        for items in liste:\n",
    "            if items in frecvente:\n",
    "                frecvente[items] += 1\n",
    "            else:\n",
    "                frecvente[items] = 1\n",
    "    return frecvente\n",
    "\n",
    "\n",
    "# define a function called find_maximum which will retrieve the key coresponding to the most frequent value. \n",
    "\n",
    "def find_maximum(frequencies):\n",
    "    print(max(frequencies.values()))\n",
    "    \n",
    "    most_appearances = max(frequencies.values())\n",
    "    \n",
    "    for key in frequencies:\n",
    "        value = frequencies[key]\n",
    "        if value == most_appearances:\n",
    "            print('most frequent value is :', key)\n",
    "        \n",
    "    \n",
    "frecvente = calculeaza_frecventa(lista_liste) \n",
    "print(frecvente)\n",
    "\n",
    "\n",
    "find_maximum(frecvente)\n",
    "\n"
   ]
  },
  {
   "cell_type": "code",
   "execution_count": 16,
   "id": "74f4fb79",
   "metadata": {},
   "outputs": [
    {
     "name": "stdout",
     "output_type": "stream",
     "text": [
      "{'Green': 1, 'Red': 2, 'Blue': 1, 'Orange': 2, 'Black': 2, 'White': 1}\n"
     ]
    }
   ],
   "source": [
    "\n",
    "# Write a Python program to count the occurrence of each element of a given list.\n",
    "\n",
    "# EXAMPLE 1:\n",
    "\n",
    "# Count the occurrence of each element of the said list:\n",
    "# Counter({'Red': 2, 'Orange': 2, 'Black': 2, 'Green': 1, 'Blue': 1, 'White': 1})\n",
    "\n",
    "# EXAMPLE 2:\n",
    "    \n",
    "# Original List:\n",
    "# [3, 5, 0, 3, 9, 5, 8, 0, 3, 8, 5, 8, 3, 5, 8, 1, 0, 2]\n",
    "\n",
    "# Count the occurrence of each element of the said list:\n",
    "# Counter({3: 4, 5: 4, 8: 4, 0: 3, 9: 1, 1: 1, 2: 1})\n",
    "\n",
    "colours1 = ['Green', 'Red', 'Blue', 'Red', 'Orange', 'Black', 'Black', 'White', 'Orange']\n",
    "\n",
    "colours2 = [3, 5, 0, 3, 9, 5, 8, 0, 3, 8, 5, 8, 3, 5, 8, 1, 0, 2]\n",
    "\n",
    "def calculus_frequency(colours):\n",
    "    \n",
    "    frequency_of_colours = {}\n",
    "    \n",
    "    for eachcolour in colours:\n",
    "        if eachcolour in frequency_of_colours:\n",
    "            frequency_of_colours[eachcolour] += 1\n",
    "        else:\n",
    "            frequency_of_colours[eachcolour] = 1\n",
    "    return frequency_of_colours\n",
    "\n",
    "\n",
    "frequency_of_colours = calculus_frequency(colours1)\n",
    "print(frequency_of_colours)\n",
    "\n"
   ]
  },
  {
   "cell_type": "code",
   "execution_count": 17,
   "id": "a1d61c4d",
   "metadata": {},
   "outputs": [
    {
     "name": "stdout",
     "output_type": "stream",
     "text": [
      "{'Green': 1, 'Red': 2, 'Blue': 1, 'Orange': 2, 'Black': 2, 'White': 1}\n"
     ]
    }
   ],
   "source": [
    "# Option 2\n",
    "\n",
    "colours1 = ['Green', 'Red', 'Blue', 'Red', 'Orange', 'Black', 'Black', 'White', 'Orange']\n",
    "\n",
    "colours2 = [3, 5, 0, 3, 9, 5, 8, 0, 3, 8, 5, 8, 3, 5, 8, 1, 0, 2]\n",
    "\n",
    "    def calculus_frequency(colours):\n",
    "        \n",
    "    frequency_of_colours = {}\n",
    "    \n",
    "    for eachcolour in colours:\n",
    "        if eachcolour not in frequency_of_colours:\n",
    "            frequency_of_colours[eachcolour] = 1\n",
    "        else:\n",
    "            frequency_of_colours[eachcolour] += 1\n",
    "    return frequency_of_colours\n",
    "\n",
    "\n",
    "frequency_of_colours = calculus_frequency(colours1)\n",
    "print(frequency_of_colours)"
   ]
  },
  {
   "cell_type": "code",
   "execution_count": 8,
   "id": "df8e5458",
   "metadata": {},
   "outputs": [
    {
     "name": "stdout",
     "output_type": "stream",
     "text": [
      "[1, 4, 9, 16, 25, 1, 9, 25, 9, 49, 81]\n"
     ]
    },
    {
     "data": {
      "text/plain": [
       "[1, 4, 9, 16, 25, 1, 9, 25, 9, 49, 81]"
      ]
     },
     "execution_count": 8,
     "metadata": {},
     "output_type": "execute_result"
    }
   ],
   "source": [
    "x = [1, 2, 3, 4, 5, 1, 3, 5, 3, 7, 9]\n",
    "\n",
    "#Ex: return each number from the list, squared\n",
    "\n",
    "# Solution 1:\n",
    "\n",
    "squared = [num*num for num in x]\n",
    "print(squared)\n",
    "\n",
    "# Solution 2:\n",
    "\n",
    "def squared_values(number):\n",
    "    \n",
    "    squared = []\n",
    "    \n",
    "    for numbers in number:\n",
    "        squared.append(numbers*numbers)\n",
    "        \n",
    "    return squared\n",
    "        \n",
    "        \n",
    "    \n",
    "squared_values(x)"
   ]
  },
  {
   "cell_type": "code",
   "execution_count": 79,
   "id": "f4694370",
   "metadata": {},
   "outputs": [
    {
     "name": "stdout",
     "output_type": "stream",
     "text": [
      "True\n",
      "False\n"
     ]
    }
   ],
   "source": [
    "# Verify if a string is a palindrome\n",
    "\n",
    "# e_palindrom('ana') -> True\n",
    "# e_palondrom('ok') -> False\n",
    "\n",
    "#EX: 1\n",
    "\n",
    "def e_palindrom(string):\n",
    "    \n",
    "    reversed_string_list = list(reversed(string))\n",
    "    #print(reversed_string_list)\n",
    "    reversed_string = ''.join(reversed_string_list)\n",
    "    #print(reversed_string)\n",
    "    \n",
    "    if string == reversed_string:\n",
    "        return True\n",
    "    else:\n",
    "        return False\n",
    "    \n",
    "print(e_palindrom('ana'))\n",
    "print(e_palindrom('banana'))\n",
    "\n"
   ]
  },
  {
   "cell_type": "code",
   "execution_count": 89,
   "id": "c62ba6b8",
   "metadata": {},
   "outputs": [
    {
     "data": {
      "text/plain": [
       "True"
      ]
     },
     "execution_count": 89,
     "metadata": {},
     "output_type": "execute_result"
    }
   ],
   "source": [
    "# EX: 2\n",
    "\n",
    "def is_palindrome(string):\n",
    "    \n",
    "    i = 0\n",
    "    j = len(string) - 1\n",
    "    \n",
    "    while i < j:\n",
    "        if string[i] != string[j]:\n",
    "            return False\n",
    "        else:\n",
    "            i += 1\n",
    "            j -= 1\n",
    "        \n",
    "    return True\n",
    "          \n",
    "string = 'abbaxabba'\n",
    "is_palindrome(string)"
   ]
  },
  {
   "cell_type": "code",
   "execution_count": 22,
   "id": "cdb56642",
   "metadata": {},
   "outputs": [],
   "source": [
    "\n",
    "# Lots- Electronic components\n",
    "\n",
    "lots_list = [['R', 'C', 'R', 'T', 'C'], ['C', 'R', 'T', 'R', 'T'], ['C', 'C', 'T', 'C', 'C', 'T']]\n",
    "\n",
    "def frecventa_lot(lot):\n",
    "\n",
    "    freq_list = {} # no keys, no values\n",
    "    \n",
    "    for component in lot:\n",
    "        if component in freq_list:\n",
    "            freq_list[component] += 1   #adding values to the keys // freq_list[key]\n",
    "        else:\n",
    "            freq_list[component] = 1\n",
    "    return freq_list\n",
    "            \n",
    "\n",
    "def e_util(freq_list): \n",
    "    \n",
    "    if 'R' not in freq_list or 'C' not in freq_list or 'T' not in freq_list:\n",
    "        return False\n",
    "\n",
    "    nr_C = freq_list['C']\n",
    "    nr_T = freq_list['T']\n",
    "    nr_R = freq_list['R']\n",
    "    \n",
    "    if nr_C < nr_T or nr_R < nr_C:\n",
    "        return False\n",
    "    else:\n",
    "        return True\n",
    "\n",
    "def nr_componente(freq_list):\n",
    "    return sum(freq_list.values())\n",
    "    \n",
    "    \n",
    "    \n",
    "    \n"
   ]
  },
  {
   "cell_type": "code",
   "execution_count": 24,
   "id": "ed302ccf",
   "metadata": {},
   "outputs": [
    {
     "name": "stdout",
     "output_type": "stream",
     "text": [
      "{'R': 2, 'C': 2, 'T': 1}\n",
      "{'C': 1, 'R': 2, 'T': 2}\n",
      "{'C': 4, 'T': 2}\n",
      "Nr loturi utile:  1\n",
      "Nr maxim componente:  6\n"
     ]
    }
   ],
   "source": [
    "if __name__ == '__main__':\n",
    "    \n",
    "    count = 0\n",
    "    \n",
    "    max_componente = 0\n",
    "    \n",
    "    for lot in lots_list:\n",
    "        freq_list = frecventa_lot(lot)\n",
    "        print(freq_list)\n",
    "        if e_util(freq_list) == True:\n",
    "            count += 1\n",
    "        if nr_componente(freq_list) > max_componente:\n",
    "            max_componente = nr_componente(freq_list)\n",
    "    \n",
    "    print(\"Nr loturi utile: \", count)\n",
    "    print(\"Nr maxim componente: \", max_componente)\n",
    "            "
   ]
  },
  {
   "cell_type": "code",
   "execution_count": 1,
   "id": "2de54471",
   "metadata": {},
   "outputs": [
    {
     "name": "stdout",
     "output_type": "stream",
     "text": [
      "Introduce your first name: George\n",
      "Introduce your last name: John\n",
      "John George\n"
     ]
    }
   ],
   "source": [
    "# Write a Python program which accepts the user's first and last name and print them in reverse order with a space between them.\n",
    "\n",
    "first_name = input('Introduce your first name: ')\n",
    "last_name = input('Introduce your last name: ')\n",
    "print(last_name + ' ' + first_name)\n",
    "\n"
   ]
  },
  {
   "cell_type": "code",
   "execution_count": 7,
   "id": "694b0a7d",
   "metadata": {},
   "outputs": [
    {
     "name": "stdout",
     "output_type": "stream",
     "text": [
      "Please, introduce a number!\n"
     ]
    }
   ],
   "source": [
    "# Write a Python program which accepts the radius of a circle from the user and compute the area.\n",
    "\n",
    "radius = 'cinci'\n",
    "\n",
    "if not isinstance(radius, float) and not isinstance(radius, int):\n",
    "    print('Please, introduce a number!')\n",
    "else:\n",
    "    aria = 3.14 * radius * radius\n",
    "    print(aria)"
   ]
  },
  {
   "cell_type": "code",
   "execution_count": 2,
   "id": "ef7f432d",
   "metadata": {},
   "outputs": [
    {
     "name": "stdout",
     "output_type": "stream",
     "text": [
      "Please introduce your file name: Dogo.jpg\n",
      "jpg\n"
     ]
    }
   ],
   "source": [
    "#Write a Python program to accept a filename from the user and print the extension of that. Go to the editor\n",
    "# Sample filename : abc.java\n",
    "# Output : java\n",
    "    \n",
    "# filename = input('Please introduce your file name: ')\n",
    "\n",
    "# for characters in filename:\n",
    "#     if characters == '.':\n",
    "#         print()\n",
    "\n",
    "file_name = input(\"Please introduce your file name: \")\n",
    "split = file_name.split(\".\")\n",
    "print((split[-1]))\n"
   ]
  },
  {
   "cell_type": "code",
   "execution_count": 15,
   "id": "6db38008",
   "metadata": {},
   "outputs": [
    {
     "name": "stdout",
     "output_type": "stream",
     "text": [
      "Introduce your value here: 5\n",
      "615\n"
     ]
    }
   ],
   "source": [
    "# Write a Python program that accepts an integer (n) and computes the value of n+nn+nnn.\n",
    "# Sample value of n is 5\n",
    "# Expected Result : 615\n",
    "\n",
    "\n",
    "n = int(input('Introduce your value here: '))\n",
    "\n",
    "calculus1 = n\n",
    "calculus2 = n * 11\n",
    "calculus3 = n * 111\n",
    "\n",
    "calculus_total = calculus1 + calculus2 + calculus3\n",
    "\n",
    "print(calculus_total)"
   ]
  },
  {
   "cell_type": "code",
   "execution_count": 13,
   "id": "871ec1e8",
   "metadata": {},
   "outputs": [
    {
     "name": "stdout",
     "output_type": "stream",
     "text": [
      "6\n"
     ]
    }
   ],
   "source": [
    "# Write a Python program to get the difference between a given number and 17, \n",
    "# if the number is greater than 17 return double the absolute difference\n",
    "\n",
    "number1 = 20\n",
    "number2 = number1 - 17\n",
    "\n",
    "if number1 > 17:\n",
    "    print(abs((number1 - 17) * 2))\n",
    "    "
   ]
  },
  {
   "cell_type": "code",
   "execution_count": 23,
   "id": "f37cd6a9",
   "metadata": {},
   "outputs": [
    {
     "name": "stdout",
     "output_type": "stream",
     "text": [
      "70\n"
     ]
    }
   ],
   "source": [
    "#  Write a Python program to calculate the sum of three given numbers, \n",
    "#  if the values are equal then return three times of their sum.\n",
    "\n",
    "n1 = 20\n",
    "n2 = 20\n",
    "n3 = 30\n",
    "\n",
    "total_n = n1 + n2 + n3\n",
    "\n",
    "if n1 == n2 and n2 == n3:\n",
    "    print(total_n * 3)\n",
    "else:\n",
    "    print(total_n)\n"
   ]
  },
  {
   "cell_type": "code",
   "execution_count": 35,
   "id": "3db5cf6c",
   "metadata": {},
   "outputs": [
    {
     "name": "stdout",
     "output_type": "stream",
     "text": [
      "9\n",
      "The number is odd\n"
     ]
    }
   ],
   "source": [
    "import random\n",
    "number = random.randint(0,22)\n",
    "print(number)\n",
    "\n",
    "if number % 2 == 0:\n",
    "    print('The number is even')\n",
    "elif number % 2 == 1 :\n",
    "    print('The number is odd')\n",
    "    "
   ]
  },
  {
   "cell_type": "code",
   "execution_count": 4,
   "id": "0ac1d60c",
   "metadata": {},
   "outputs": [
    {
     "name": "stdout",
     "output_type": "stream",
     "text": [
      "Numarul 4 apare in lista de 5 ori\n"
     ]
    }
   ],
   "source": [
    "# Write a Python program to count the number 4 in a given list. \n",
    "\n",
    "list = [1, 2, 3, 4, 4, 4, 4, 5, 6, 10, 4, 22]\n",
    "\n",
    "v = 4\n",
    "\n",
    "nr_aparitii = 0\n",
    "\n",
    "for number in list:\n",
    "    if number == v:\n",
    "        nr_aparitii += 1\n",
    "\n",
    "print(\"Numarul\", v, \"apare in lista de\", nr_aparitii, \"ori\")\n",
    "    "
   ]
  },
  {
   "cell_type": "code",
   "execution_count": 9,
   "id": "ae36b39f",
   "metadata": {},
   "outputs": [
    {
     "name": "stdout",
     "output_type": "stream",
     "text": [
      "x is not a vowel\n"
     ]
    }
   ],
   "source": [
    "# Write a Python program to test whether a passed letter is a vowel or not.\n",
    "\n",
    "\n",
    "letter = 'x'\n",
    "\n",
    "if letter == 'a' or letter =='e' or letter =='i' or letter == 'o' or letter =='u':\n",
    "    print(letter, 'is a vowel')\n",
    "else: print(letter, 'is not a vowel')\n",
    "    "
   ]
  },
  {
   "cell_type": "code",
   "execution_count": 16,
   "id": "b020e83d",
   "metadata": {},
   "outputs": [
    {
     "name": "stdout",
     "output_type": "stream",
     "text": [
      "386 is even\n",
      "462 is even\n",
      "418 is even\n",
      "344 is even\n",
      "236 is even\n",
      "566 is even\n",
      "978 is even\n",
      "328 is even\n",
      "162 is even\n",
      "758 is even\n",
      "918 is even\n"
     ]
    }
   ],
   "source": [
    "# Write a Python program to print all even numbers from a given numbers \n",
    "# list in the same order and stop the printing if any numbers that come after 237 in the sequence.\n",
    "\n",
    "numbers = [    \n",
    "    386, 462, 47, 418, 907, 344, 236, 375, 823, 566, 597, 978, 328, 615, 953, 345, \n",
    "    399, 162, 758, 219, 918, 237, 412, 566, 826, 248, 866, 950, 626, 949, 687, 217, \n",
    "    815, 67, 104, 58, 512, 24, 892, 894, 767, 553, 81, 379, 843, 831, 445, 742, 717, \n",
    "    958,743, 527\n",
    "    ]\n",
    "\n",
    "for number in numbers:\n",
    "    if number % 2 == 0:\n",
    "        print(number, 'is even')\n",
    "    elif number == 237:\n",
    "        break\n",
    "        \n",
    "        \n",
    "\n",
    "\n",
    "    "
   ]
  },
  {
   "cell_type": "code",
   "execution_count": 19,
   "id": "f24b46e3",
   "metadata": {},
   "outputs": [
    {
     "name": "stdout",
     "output_type": "stream",
     "text": [
      "['Black', 'White']\n"
     ]
    }
   ],
   "source": [
    "#Write a Python program to print out a set containing all the colors from color_list_1 which are not present in color_list_2. Go to the editor\n",
    "\n",
    "color_list_1 = set([\"White\", \"Black\", \"Red\"])\n",
    "color_list_2 = set([\"Red\", \"Green\"])\n",
    "\n",
    "list_output = []\n",
    "\n",
    "# Expected Output :\n",
    "# {'Black', 'White'}\n",
    "\n",
    "for colors in color_list_1:\n",
    "    if colors not in color_list_2:\n",
    "        list_output.append(colors)\n",
    "print(list_output)\n",
    "        "
   ]
  },
  {
   "cell_type": "code",
   "execution_count": 28,
   "id": "dca4df77",
   "metadata": {},
   "outputs": [
    {
     "name": "stdout",
     "output_type": "stream",
     "text": [
      "Write the base number of the triangle here: 10\n",
      "Write the height number of the triangle here: 12\n",
      "60.0 is the area of the triangle\n"
     ]
    }
   ],
   "source": [
    "# Write a Python program that will accept the base and height of a triangle and compute the area.\n",
    "\n",
    "base = int(input('Write the base number of the triangle here: '))\n",
    "\n",
    "height = int(input('Write the height number of the triangle here: '))\n",
    "\n",
    "area = 1 / 2 * base * height\n",
    "\n",
    "print(area, 'is the area of the triangle')"
   ]
  },
  {
   "cell_type": "code",
   "execution_count": 32,
   "id": "3825a901",
   "metadata": {},
   "outputs": [
    {
     "name": "stdout",
     "output_type": "stream",
     "text": [
      "0\n"
     ]
    }
   ],
   "source": [
    "# Write a Python program to sum of three given integers. However, if two values are equal sum will be zero.\n",
    "\n",
    "int1 = 10\n",
    "int2 = 20\n",
    "int3 = 30\n",
    "\n",
    "sum = int1 + int2 + int3\n",
    "\n",
    "if int1 == int2 or int1 == int3 or int2 == int3:\n",
    "    sum = 0\n",
    "\n",
    "print(sum)"
   ]
  },
  {
   "cell_type": "code",
   "execution_count": 35,
   "id": "ee09d9a8",
   "metadata": {},
   "outputs": [
    {
     "name": "stdout",
     "output_type": "stream",
     "text": [
      "121\n"
     ]
    }
   ],
   "source": [
    "# Write a Python program to solve (x + y) * (x + y).\n",
    "\n",
    "x = 5\n",
    "y = 6\n",
    "\n",
    "step1 = x + y\n",
    "\n",
    "solution = step1 * step1\n",
    "\n",
    "print(solution)"
   ]
  },
  {
   "cell_type": "code",
   "execution_count": 50,
   "id": "f30a8d00",
   "metadata": {},
   "outputs": [
    {
     "name": "stdout",
     "output_type": "stream",
     "text": [
      "number is not bigger than 2\n",
      "number is not bigger than 2\n",
      "number is bigger than 2\n",
      "number is bigger than 2\n",
      "number is bigger than 2\n",
      "number is bigger than 2\n",
      "number is bigger than 2\n",
      "number is bigger than 2\n",
      "number is bigger than 2\n",
      "number is bigger than 2\n"
     ]
    }
   ],
   "source": [
    "# Write a Python program to test whether all numbers of a list is greater than a certain number.\n",
    "\n",
    "list = [1, 2, 3, 4, 5, 6, 7, 8, 9, 10]\n",
    "\n",
    "\n",
    "for numbers in list:\n",
    "    if numbers > 2:\n",
    "        print('number is bigger than 2')\n",
    "    else: print('number is not bigger than 2')\n"
   ]
  },
  {
   "cell_type": "code",
   "execution_count": 60,
   "id": "0afac2f8",
   "metadata": {},
   "outputs": [
    {
     "name": "stdout",
     "output_type": "stream",
     "text": [
      "\" 30 + 20 = 50 \"\n"
     ]
    }
   ],
   "source": [
    "# Given variables x=30 and y=20, write a Python program to print \"30+20=50\"\n",
    "\n",
    "x = 30\n",
    "y = 20\n",
    "\n",
    "z = x + y\n",
    "\n",
    "print('\"', x, '+', y, '=', z, '\"')"
   ]
  },
  {
   "cell_type": "code",
   "execution_count": 76,
   "id": "1c899123",
   "metadata": {},
   "outputs": [
    {
     "name": "stdout",
     "output_type": "stream",
     "text": [
      "[1, 2, 3, 4, 10, 22, 33, 44]\n",
      "[5.5, 2.1, 8.99, 9.3]\n",
      "44\n",
      "9.3\n",
      "1\n",
      "2.1\n"
     ]
    }
   ],
   "source": [
    "# Write a Python program to determine the largest and smallest integers and floats.\n",
    "\n",
    "numbers = [1, 2, 3, 4, 5.5, 2.1, 8.99, 9.3, 10, 22, 33, 44]\n",
    "\n",
    "integers = []\n",
    "floats = []\n",
    "\n",
    "for number in numbers:\n",
    "    if isinstance(number, int):\n",
    "        integers.append(number)\n",
    "print(integers)\n",
    "\n",
    "for number2 in numbers:\n",
    "    if isinstance(number2, float):\n",
    "        floats.append(number2)\n",
    "print(floats)\n",
    "\n",
    "print(max(integers))\n",
    "print(max(floats))\n",
    "\n",
    "print(min(integers))\n",
    "print(min(floats))\n",
    "\n",
    "\n",
    "\n",
    "\n",
    "\n",
    "# for number in numbers:\n",
    "#     print(max)"
   ]
  },
  {
   "cell_type": "code",
   "execution_count": 79,
   "id": "d13b4a3d",
   "metadata": {},
   "outputs": [
    {
     "name": "stdout",
     "output_type": "stream",
     "text": [
      "555555 is a string\n"
     ]
    }
   ],
   "source": [
    "# Write a Python program to check whether variable is integer or string.\n",
    "\n",
    "v1 = '555555'\n",
    "\n",
    "if isinstance(v1, int):\n",
    "    print(v1, 'is an integer')\n",
    "elif isinstance(v1, str):\n",
    "    print(v1, 'is a string')"
   ]
  },
  {
   "cell_type": "code",
   "execution_count": 2,
   "id": "b1de5d43",
   "metadata": {},
   "outputs": [
    {
     "name": "stdout",
     "output_type": "stream",
     "text": [
      "this is a list\n"
     ]
    }
   ],
   "source": [
    "# Write a Python program to test if a variable is a list or tuple or a set\n",
    "\n",
    "v1 = [1, 2, 3, 4, 5]\n",
    "\n",
    "if type(v1) == tuple:\n",
    "    print('this is a tuple ')\n",
    "elif type(v1) == set:\n",
    "    print('this is a set')\n",
    "elif type(v1) == list:\n",
    "    print('this is a list')\n"
   ]
  },
  {
   "cell_type": "code",
   "execution_count": 4,
   "id": "0c863837",
   "metadata": {},
   "outputs": [
    {
     "name": "stdout",
     "output_type": "stream",
     "text": [
      "cel mai mic numar este 1\n",
      "cel mai mare numar este 19\n"
     ]
    }
   ],
   "source": [
    "# Write a Python function to find the maximum and minimum numbers from a sequence of numbers. Go to the editor\n",
    "# Note: Do not use built-in functions.\n",
    "\n",
    "l = [5, 9, 2, 12, 1, 4, 19, 2]\n",
    "\n",
    "minim = l[0] # supposing that l[0] este the smallest number from the list\n",
    "\n",
    "for number in l:\n",
    "    if number < minim:\n",
    "        minim = number\n",
    "print('cel mai mic numar este', minim)\n",
    "\n",
    "maxim = l[0] # supposing that l[0] este the largest number from the list\n",
    "\n",
    "for number in l:\n",
    "    if number > maxim:\n",
    "        maxim = number\n",
    "print('cel mai mare numar este', maxim)\n",
    "    \n",
    "    \n",
    "    \n",
    "    "
   ]
  },
  {
   "cell_type": "code",
   "execution_count": 18,
   "id": "d2717138",
   "metadata": {},
   "outputs": [
    {
     "name": "stdout",
     "output_type": "stream",
     "text": [
      "441\n"
     ]
    }
   ],
   "source": [
    "# Write a Python function that takes a positive integer \n",
    "# and returns the sum of the cube of all the positive integers smaller than the specified number.\n",
    "\n",
    "number = 7\n",
    "\n",
    "suma= 0\n",
    "\n",
    "for x in range(1, 7):\n",
    "#     print(x)\n",
    "    x_cube = x * x * x\n",
    "    #print(x_cube)\n",
    "    suma += x_cube\n",
    "print(suma)\n",
    "    "
   ]
  },
  {
   "cell_type": "code",
   "execution_count": null,
   "id": "705b8a3f",
   "metadata": {},
   "outputs": [],
   "source": [
    "# Write a Python program to remove and print every third number from a list of numbers until the list becomes empty.\n",
    "\n",
    "list = [1, 2, 3, 4, 5, 6, 7, 8, 9, 10, 22, 33, 44, 55, 66]\n",
    "result = []\n",
    "\n",
    "for x in list:\n",
    "    \n",
    "    "
   ]
  },
  {
   "cell_type": "code",
   "execution_count": 25,
   "id": "9e280034",
   "metadata": {},
   "outputs": [
    {
     "name": "stdout",
     "output_type": "stream",
     "text": [
      "{'A': 4, 'n': 4, 'a': 8, 'r': 6, 'e': 9, 'm': 2, 'p': 1, 'g': 1, 'u': 2, 't': 1, 'i': 2, 'l': 1, 'c': 1}\n"
     ]
    }
   ],
   "source": [
    "# 7. Write a Python program to count the number of each character of a given text.\n",
    "\n",
    "\n",
    "def words_text(words):\n",
    "    \n",
    "    for word in words:\n",
    "        for characters in word:\n",
    "            if characters.isalpha() == True:\n",
    "                if characters in frequency:\n",
    "                    frequency[characters] += 1\n",
    "                else:\n",
    "                    frequency[characters] = 1\n",
    "    return frequency\n",
    "            \n",
    "               \n",
    "    \n",
    "text = 'Ana are mere. Ana are pere. Ana are gutui. Ana are melci.'\n",
    "frequency = words_text(text) # can put any other name instead of frequency\n",
    "print(frequency)\n",
    "\n"
   ]
  },
  {
   "cell_type": "code",
   "execution_count": 50,
   "id": "880db801",
   "metadata": {},
   "outputs": [
    {
     "name": "stdout",
     "output_type": "stream",
     "text": [
      "5\n"
     ]
    }
   ],
   "source": [
    "# Write a Python program to find the number of divisors of a given integer is even or odd.\n",
    "\n",
    "number = 12\n",
    "\n",
    "counter = 0\n",
    "\n",
    "for divizor1 in range(1, number):\n",
    "    if number % divizor1 == 0:\n",
    "        #print(divizor1)\n",
    "        counter += 1\n",
    "print(counter)"
   ]
  },
  {
   "cell_type": "code",
   "execution_count": 71,
   "id": "70655f53",
   "metadata": {},
   "outputs": [
    {
     "name": "stdout",
     "output_type": "stream",
     "text": [
      "2\n",
      "4\n",
      "6\n"
     ]
    }
   ],
   "source": [
    "# Write a Python program to find the digits which are absent in a given mobile number.\n",
    "\n",
    "phone_number = '0738895133'\n",
    "\n",
    "for digit in range(1, 9):\n",
    "    if str(digit) not in phone_number:\n",
    "        print(digit)\n",
    "    \n",
    "\n"
   ]
  },
  {
   "cell_type": "code",
   "execution_count": 69,
   "id": "c4d4926b",
   "metadata": {},
   "outputs": [
    {
     "name": "stdout",
     "output_type": "stream",
     "text": [
      "1060\n"
     ]
    }
   ],
   "source": [
    "# 52. Write a Python program to compute the sum of first n given prime numbers.\n",
    "# Input:\n",
    "# n ( n <= 10000). Input 0 to exit the program.\n",
    "# Input a number (n<=10000) to compute the sum:(0 to exit)\n",
    "# 25\n",
    "# Sum of first 25 prime numbers:\n",
    "# 1060\n",
    "\n",
    "def isprim(number):\n",
    "    \n",
    "    for divizor in range(2, number):\n",
    "        if number % divizor == 0:\n",
    "            return False\n",
    "    return True\n",
    "\n",
    "\n",
    "def primele_n_nr_prime(n):\n",
    "    \n",
    "    start = 2\n",
    "    \n",
    "    numere_prime = []\n",
    "    \n",
    "    while len(numere_prime) < n:\n",
    "        if isprim(start) == True:\n",
    "            numere_prime.append(start)\n",
    "            start += 1\n",
    "        else: start += 1\n",
    "    return sum(numere_prime)\n",
    "    \n",
    "        \n",
    "print(primele_n_nr_prime(25))\n",
    "\n"
   ]
  },
  {
   "cell_type": "code",
   "execution_count": 15,
   "id": "4d1af6bd",
   "metadata": {},
   "outputs": [
    {
     "name": "stdout",
     "output_type": "stream",
     "text": [
      "True\n"
     ]
    }
   ],
   "source": [
    "# Given a list of numbers and a number k, \n",
    "# write a Python program to check whether the sum of any two numbers from the list is equal to k or not.\n",
    "\n",
    "def eq_check(numbers):\n",
    "    for number in numbers:\n",
    "        if k - number in numbers:\n",
    "            return True\n",
    "        \n",
    "    return False\n",
    "\n",
    "list_numbers = [1, 5, 11, 5]\n",
    "k = 16\n",
    "eq_sum = eq_check(list_numbers)\n",
    "print(eq_sum)"
   ]
  },
  {
   "cell_type": "code",
   "execution_count": 2,
   "id": "58f68935",
   "metadata": {},
   "outputs": [
    {
     "name": "stdout",
     "output_type": "stream",
     "text": [
      "[1, 2, 3, 4, 6, 7]\n",
      "6\n"
     ]
    }
   ],
   "source": [
    "# Write a Python program to remove all instances of a given value \n",
    "# from a given array of integers and find the length of the new array.\n",
    "# Sample Input:\n",
    "# ([1, 2, 3, 4, 5, 6, 7, 5], 5)\n",
    "# ([10,10,10,10,10], 10)\n",
    "# ([10,10,10,10,10], 20)\n",
    "# ([], 1)\n",
    "# Sample Output:\n",
    "# 6\n",
    "# 0\n",
    "# 5\n",
    "# 0\n",
    "\n",
    "\n",
    "def counter_left_items(numbers, nr):\n",
    "    \n",
    "    counter = 0\n",
    "    new_list = []\n",
    "    for number in numbers:\n",
    "        if number != nr:\n",
    "            new_list.append(number)\n",
    "            counter += 1\n",
    "    return new_list, counter\n",
    "        \n",
    "\n",
    "list_numbers = [1, 2, 3, 4, 5, 6, 7, 5] # we want to remove 5 and count how many items are left\n",
    "number = 5\n",
    "number_without_nr, counter_nr = counter_left_items(list_numbers, number)\n",
    "print(number_without_nr)\n",
    "print(counter_nr)\n",
    "\n",
    "\n",
    "        "
   ]
  },
  {
   "cell_type": "code",
   "execution_count": 11,
   "id": "4268e2cb",
   "metadata": {},
   "outputs": [
    {
     "name": "stdout",
     "output_type": "stream",
     "text": [
      "3\n",
      "21\n"
     ]
    }
   ],
   "source": [
    "# Write a Python program that accept a list of numbers and create a list to store the count \n",
    "# of negative number in first element and store the sum of positive numbers in second element.\n",
    "\n",
    "def count_sum_numbers(values):\n",
    "    \n",
    "    negative_count = 0\n",
    "    positive_numbers = []\n",
    "    for number in values:\n",
    "        if number < 0:\n",
    "            negative_count += 1\n",
    "        elif number > 0:\n",
    "            positive_numbers.append(number)\n",
    "    return negative_count, sum(positive_numbers)\n",
    "        \n",
    "list_numbers = [-3, -4, -5, 6, 7, 8]\n",
    "\n",
    "count, sum_count = count_sum_numbers(list_numbers)\n",
    "print(count)\n",
    "print(sum_count)"
   ]
  },
  {
   "cell_type": "code",
   "execution_count": 3,
   "id": "7e90ff38",
   "metadata": {},
   "outputs": [
    {
     "name": "stdout",
     "output_type": "stream",
     "text": [
      "[7, 20, 30]\n"
     ]
    }
   ],
   "source": [
    "# Write a Python program to compute the \n",
    "# sum of the three lowest positive numbers from a given list of numbers.\n",
    "\n",
    "\n",
    "def sum_lowest_3(numbers):                                #local variables insinde 'def'\n",
    "    \n",
    "    list_positive_numbers = []\n",
    "    \n",
    "    for number in numbers:\n",
    "        if number > 0:\n",
    "            list_positive_numbers.append(number)\n",
    "    return sorted(list_positive_numbers)[0:3]\n",
    "\n",
    "list_numbers = [-10, -20, 30, 20, 40, 50, 60, 7] # input variables\n",
    "sorted_numbers = sum_lowest_3(list_numbers) \n",
    "print(sorted_numbers) # output\n"
   ]
  },
  {
   "cell_type": "code",
   "execution_count": 12,
   "id": "a908d312",
   "metadata": {},
   "outputs": [
    {
     "name": "stdout",
     "output_type": "stream",
     "text": [
      "True\n"
     ]
    }
   ],
   "source": [
    "# Write a Python program to check whether \n",
    "# every even index contains an even number and every odd index contains odd number of a given list.\n",
    "\n",
    "# in order to check if all the values are of a type, we have to find only 1 value that is different.\n",
    "\n",
    "\n",
    "def index_numbers(values):\n",
    "    \n",
    "    for index in range(len(values)):\n",
    "        if index % 2 == 0 and values[index] % 2 == 1:\n",
    "            return False\n",
    "        elif index % 2 == 1 and values[index] % 2 == 0:\n",
    "            return False\n",
    "    return True\n",
    "\n",
    "\n",
    "\n",
    "list_of_numbers = [2, 1, 2, 3, 6, 7, 6, 3]\n",
    "even_odd_list = index_numbers(list_of_numbers)\n",
    "print(even_odd_list)"
   ]
  },
  {
   "cell_type": "code",
   "execution_count": 1,
   "id": "af747c75",
   "metadata": {},
   "outputs": [
    {
     "name": "stdout",
     "output_type": "stream",
     "text": [
      "[1, 2, 3, 4, 5, 6]\n"
     ]
    }
   ],
   "source": [
    "# uniqueness checker\n",
    "\n",
    "numbers = [1, 2, 2, 3, 3, 4, 5, 6]\n",
    "uniqueness = []\n",
    "\n",
    "for number in numbers:\n",
    "    if number not in uniqueness:          # if the number is already in uniqueness, the if condition will not be executed\n",
    "        uniqueness.append(number)\n",
    "print(uniqueness)"
   ]
  },
  {
   "cell_type": "code",
   "execution_count": 13,
   "id": "d2d8390d",
   "metadata": {},
   "outputs": [
    {
     "data": {
      "text/plain": [
       "True"
      ]
     },
     "execution_count": 13,
     "metadata": {},
     "output_type": "execute_result"
    }
   ],
   "source": [
    "# Write a Python program to check whether a sequence of numbers has an increasing trend or not.\n",
    "\n",
    "\n",
    "def trend(values):\n",
    "    \n",
    "    for index in range(len(values)-1):               # we decrease one index as we want the last comparison to be between\n",
    "        if values[index] > values[index + 1]:        # 30 and 40. If we do not decrease, 40 cannot be compared with another values\n",
    "            return False\n",
    "    return True\n",
    "\n",
    "\n",
    "number = [1, 2, 3, 4, 10, 20, 30, 40]\n",
    "trend(number)\n"
   ]
  },
  {
   "cell_type": "code",
   "execution_count": 15,
   "id": "4a9aef17",
   "metadata": {},
   "outputs": [
    {
     "data": {
      "text/plain": [
       "True"
      ]
     },
     "execution_count": 15,
     "metadata": {},
     "output_type": "execute_result"
    }
   ],
   "source": [
    "# Write a Python program to check whether a sequence of numbers has a decreasing trend or not.\n",
    "\n",
    "\n",
    "def trend(values):\n",
    "    \n",
    "    for index in range(len(values)-1):\n",
    "        if values[index] < values[index + 1]:\n",
    "            return False\n",
    "    return True\n",
    "\n",
    "\n",
    "\n",
    "numbers = [10, 9, 8, 7, 6, 5, 4, 3, 2, 1]\n",
    "trend(numbers)"
   ]
  },
  {
   "cell_type": "code",
   "execution_count": 25,
   "id": "3bc8bd5d",
   "metadata": {},
   "outputs": [
    {
     "name": "stdout",
     "output_type": "stream",
     "text": [
      "[1, 4]\n"
     ]
    }
   ],
   "source": [
    "# Write a Python program find the indices of all occurrences of a given item in a given list. \n",
    "\n",
    "\n",
    "def occurances_index(values, number):\n",
    "    \n",
    "    indexes = []\n",
    "    for index in range(len(values)):\n",
    "        if values[index] == number:\n",
    "            indexes.append(index)                           # when using 'return', execution is stopped, whereas\n",
    "    return indexes                                               # when using 'print' the execution is not stopped\n",
    "\n",
    "\n",
    "list_numbers = [1, 2, 3, 4, 2]\n",
    "number = 2\n",
    "occurance = occurances_index(list_numbers, number)\n",
    "print(occurance)"
   ]
  },
  {
   "cell_type": "code",
   "execution_count": 46,
   "id": "96a22da1",
   "metadata": {},
   "outputs": [
    {
     "name": "stdout",
     "output_type": "stream",
     "text": [
      "The quick brown fox jumps revo the yzal dog\n"
     ]
    }
   ],
   "source": [
    "# Write a Python program to reverse all the words which have even length.\n",
    "\n",
    "def reverse_words(text):\n",
    "    \n",
    "    words = text.split()            # extract words from a string\n",
    "    \n",
    "    for index in range(len(words)):   # itterate through the index of each word (0-8)\n",
    "        if len(words[index]) % 2 == 0:\n",
    "            words[index] = words[index][::-1]\n",
    "    return ' '.join(words)            # used in order to return a string (Text)\n",
    "    \n",
    "    \n",
    "    \n",
    "\n",
    "    \n",
    "    \n",
    "    \n",
    "    \n",
    "s = \"The quick brown fox jumps over the lazy dog\"\n",
    "words = reverse_words(s)\n",
    "print(words)"
   ]
  },
  {
   "cell_type": "code",
   "execution_count": 50,
   "id": "c7d973b9",
   "metadata": {},
   "outputs": [
    {
     "ename": "TypeError",
     "evalue": "unsupported operand type(s) for %: 'int' and 'range'",
     "output_type": "error",
     "traceback": [
      "\u001b[1;31m---------------------------------------------------------------------------\u001b[0m",
      "\u001b[1;31mTypeError\u001b[0m                                 Traceback (most recent call last)",
      "\u001b[1;32m<ipython-input-50-c0f5dd4088ad>\u001b[0m in \u001b[0;36m<module>\u001b[1;34m\u001b[0m\n\u001b[0;32m     10\u001b[0m     \u001b[1;32mreturn\u001b[0m \u001b[1;32mTrue\u001b[0m\u001b[1;33m\u001b[0m\u001b[1;33m\u001b[0m\u001b[0m\n\u001b[0;32m     11\u001b[0m \u001b[1;33m\u001b[0m\u001b[0m\n\u001b[1;32m---> 12\u001b[1;33m \u001b[0misprim\u001b[0m\u001b[1;33m(\u001b[0m\u001b[1;36m101\u001b[0m\u001b[1;33m)\u001b[0m\u001b[1;33m\u001b[0m\u001b[1;33m\u001b[0m\u001b[0m\n\u001b[0m",
      "\u001b[1;32m<ipython-input-50-c0f5dd4088ad>\u001b[0m in \u001b[0;36misprim\u001b[1;34m(numbers)\u001b[0m\n\u001b[0;32m      6\u001b[0m \u001b[1;33m\u001b[0m\u001b[0m\n\u001b[0;32m      7\u001b[0m     \u001b[1;32mfor\u001b[0m \u001b[0mvalues\u001b[0m \u001b[1;32min\u001b[0m \u001b[0mrange\u001b[0m\u001b[1;33m(\u001b[0m\u001b[1;36m1\u001b[0m\u001b[1;33m,\u001b[0m \u001b[1;36m101\u001b[0m\u001b[1;33m)\u001b[0m\u001b[1;33m:\u001b[0m\u001b[1;33m\u001b[0m\u001b[1;33m\u001b[0m\u001b[0m\n\u001b[1;32m----> 8\u001b[1;33m         \u001b[1;32mif\u001b[0m \u001b[0mvalues\u001b[0m \u001b[1;33m%\u001b[0m \u001b[0mprim\u001b[0m \u001b[1;33m==\u001b[0m \u001b[1;36m0\u001b[0m\u001b[1;33m:\u001b[0m\u001b[1;33m\u001b[0m\u001b[1;33m\u001b[0m\u001b[0m\n\u001b[0m\u001b[0;32m      9\u001b[0m             \u001b[1;32mreturn\u001b[0m \u001b[1;32mFalse\u001b[0m\u001b[1;33m\u001b[0m\u001b[1;33m\u001b[0m\u001b[0m\n\u001b[0;32m     10\u001b[0m     \u001b[1;32mreturn\u001b[0m \u001b[1;32mTrue\u001b[0m\u001b[1;33m\u001b[0m\u001b[1;33m\u001b[0m\u001b[0m\n",
      "\u001b[1;31mTypeError\u001b[0m: unsupported operand type(s) for %: 'int' and 'range'"
     ]
    }
   ],
   "source": [
    "# Write a Python program to identify nonprime numbers between 1 to 100 (integers). Print the nonprime numbers.\n",
    "\n",
    "def isprim(numbers):\n",
    "    \n",
    "    prim = range(2, 101)\n",
    "    \n",
    "    for values in range(1, 101):\n",
    "        if values % prim == 0:\n",
    "            return False\n",
    "    return True\n",
    "    \n",
    "isprim(101)"
   ]
  },
  {
   "cell_type": "code",
   "execution_count": 60,
   "id": "4743e709",
   "metadata": {},
   "outputs": [
    {
     "name": "stdout",
     "output_type": "stream",
     "text": [
      "tpircsavaj\n"
     ]
    }
   ],
   "source": [
    "# Write a Python program to reverse a given string in lower case. \n",
    "\n",
    "\n",
    "def reversed_characters(string):\n",
    "    \n",
    "    reversed_word = string[::-1]\n",
    "    return reversed_word.lower()\n",
    "    \n",
    "\n",
    "\n",
    "Str = 'JavaScript'\n",
    "reversed_words_lower = reversed_characters(Str)\n",
    "print(reversed_words_lower)"
   ]
  },
  {
   "cell_type": "code",
   "execution_count": 24,
   "id": "5e6dab72",
   "metadata": {},
   "outputs": [
    {
     "name": "stdout",
     "output_type": "stream",
     "text": [
      "JvScrpt s  pwrfl scrptng lngg\n"
     ]
    }
   ],
   "source": [
    "# Write a Python program to remove all vowels from a given string.\n",
    "\n",
    "def vowels_removed(string): \n",
    "    \n",
    "    string = string.replace('a', '')\n",
    "    string = string.replace('e', '')\n",
    "    string = string.replace('i', '')\n",
    "    string = string.replace('o', '')\n",
    "    string = string.replace('u', '')\n",
    "    return string\n",
    "                \n",
    "            \n",
    "word = 'JavaScript is a powrful scripting language'\n",
    "result = vowels_removed(word)\n",
    "print(result)"
   ]
  },
  {
   "cell_type": "code",
   "execution_count": 26,
   "id": "483211aa",
   "metadata": {},
   "outputs": [
    {
     "name": "stdout",
     "output_type": "stream",
     "text": [
      "{'g': 2, 'o': 3, 'l': 1, 'e': 1, '.': 1, 'c': 1, 'm': 1}\n"
     ]
    }
   ],
   "source": [
    "# Write a Python program to count the number of characters (character frequency) in a string.\n",
    "\n",
    "\n",
    "def character_frequency(string):\n",
    "    \n",
    "    frequency = {}\n",
    "    \n",
    "    for character in string:\n",
    "        if character in frequency:\n",
    "            frequency[character] += 1\n",
    "        else: \n",
    "            frequency[character] = 1\n",
    "    return frequency\n",
    "\n",
    "\n",
    "word = 'google.com'\n",
    "frequency_characters_string = character_frequency(word)\n",
    "print(frequency_characters_string)"
   ]
  },
  {
   "cell_type": "code",
   "execution_count": 69,
   "id": "144926b4",
   "metadata": {},
   "outputs": [
    {
     "name": "stdout",
     "output_type": "stream",
     "text": [
      "Pyasaing\n"
     ]
    }
   ],
   "source": [
    "# Write a Python program to add 'ing' at the end of a given string (length should be at least 3). \n",
    "# If the string length of the given string is less than 3, leave it unchanged.\n",
    "# If the given string already ends with 'ing' then add 'ly' instead. \n",
    "\n",
    "def amendment(string):\n",
    "    \n",
    "    \n",
    "    if len(string) < 3:\n",
    "        return string\n",
    "    else:\n",
    "        if string[-3:] == 'ing':\n",
    "            string += 'ly'\n",
    "        else:\n",
    "            string += 'ing'\n",
    "        return string\n",
    "        \n",
    "\n",
    "\n",
    "stri = 'Pyasa'\n",
    "corrected_string = amendment(stri)\n",
    "print(corrected_string)"
   ]
  },
  {
   "cell_type": "code",
   "execution_count": 89,
   "id": "42f0f43e",
   "metadata": {},
   "outputs": [
    {
     "name": "stdout",
     "output_type": "stream",
     "text": [
      "('Georgeta', 8)\n"
     ]
    }
   ],
   "source": [
    "# Write a Python function that takes a list of words and return the longest word and the length of the longest one.\n",
    "\n",
    "\n",
    "def longest_word(words):\n",
    "    \n",
    "    x = words[0]\n",
    "    \n",
    "    for word in words:\n",
    "        if len(word) > len(x):\n",
    "            x = word\n",
    "    return x, len(x)\n",
    "\n",
    "#     version 2\n",
    "#     words.sort(key = len, reverse = True)\n",
    "#     return words[0], len(words[0])\n",
    "\n",
    "\n",
    "\n",
    "list_of_words = ['Ana', 'Bogdan', 'Georgeta', 'Anabela']\n",
    "longes_word = longest_word(list_of_words)\n",
    "print(longes_word)"
   ]
  },
  {
   "cell_type": "code",
   "execution_count": 24,
   "id": "60f3250e",
   "metadata": {},
   "outputs": [
    {
     "name": "stdout",
     "output_type": "stream",
     "text": [
      "n r ee\n"
     ]
    }
   ],
   "source": [
    "# Write a Python program to remove the characters which have odd index values of a given string.\n",
    "\n",
    "\n",
    "def remove_characters(text):\n",
    "    \n",
    "    result = []\n",
    "    \n",
    "    # v1\n",
    "    for index in range(len(text)):\n",
    "        if index % 2 == 1:\n",
    "            result.append(text[index])\n",
    "            \n",
    "    # v2\n",
    "    \n",
    "#     for index in range(1, len(text), 2):\n",
    "#         result.append(text[index])\n",
    "#     print(result)\n",
    "        \n",
    "    #v3\n",
    "    \n",
    "#     result = [text[index] for index in range(len(text)) if index % 2 == 1]\n",
    "    \n",
    "    \n",
    "    return ''.join(result)\n",
    "    \n",
    "\n",
    "string = 'Ana are mere'\n",
    "characters_removed = remove_characters(string)\n",
    "print(characters_removed)"
   ]
  },
  {
   "cell_type": "code",
   "execution_count": 12,
   "id": "c94a400f",
   "metadata": {},
   "outputs": [
    {
     "name": "stdout",
     "output_type": "stream",
     "text": [
      "Introduceti text > 4\n"
     ]
    }
   ],
   "source": [
    "# Write a Python function to reverses a string if it's length is > 4\n",
    "\n",
    "\n",
    "def reversed_string(text):\n",
    "     \n",
    "    if len(text) > 4:\n",
    "        return text[::-1]\n",
    "    else:\n",
    "        return \"Introduceti text > 4\"\n",
    "\n",
    "\n",
    "\n",
    "string = 'Pin'\n",
    "reversed_string = reversed_string(string)\n",
    "print(reversed_string)\n"
   ]
  },
  {
   "cell_type": "code",
   "execution_count": 108,
   "id": "fc31bf76",
   "metadata": {},
   "outputs": [
    {
     "name": "stdout",
     "output_type": "stream",
     "text": [
      "a 5\n"
     ]
    }
   ],
   "source": [
    "# Write a Python program to find the maximum occurring character in a given string.\n",
    "# the result should include only alphabetical characters and no duplicates (Ex: A, a)\n",
    "\n",
    "\n",
    "def max_occuring(text):\n",
    "    \n",
    "    \n",
    "    frequency = {}  \n",
    "    for character in text.lower():\n",
    "        if character.isalpha() == True:\n",
    "            if character in frequency:\n",
    "                frequency[character] +=1\n",
    "            else:\n",
    "                frequency[character] = 1\n",
    "    \n",
    "    max_value = 0\n",
    "    for key in frequency.keys():\n",
    "        if frequency[key] > max_value:\n",
    "            max_value = frequency[key]\n",
    "            max_key = key\n",
    "        \n",
    "    return max_key, max_value\n",
    "\n",
    "\n",
    "\n",
    "string = 'Ananasul este un fruct sanatos.'\n",
    "max_key, max_value = max_occuring(string)\n",
    "print(max_key, max_value)"
   ]
  },
  {
   "cell_type": "code",
   "execution_count": 57,
   "id": "25cc74a6",
   "metadata": {},
   "outputs": [
    {
     "name": "stdout",
     "output_type": "stream",
     "text": [
      "{'I': 1, 'w': 1, 'o': 3, 'u': 2, 'l': 2, 'd': 2, 'i': 2, 'k': 1, 'e': 2, 't': 4, 'a': 2, 'f': 1, 'r': 1, 's': 1, 'y': 1}\n",
      "1 I\n"
     ]
    }
   ],
   "source": [
    "# Write a Python program to find the minimum occurring character in a given string.\n",
    "# Only alphabetical characters\n",
    "# allowing duplicates (ex: A, a)\n",
    "\n",
    "\n",
    "def min_occuring(text):\n",
    "    \n",
    "    frequency = {}\n",
    "    for character in text:\n",
    "        if character.isalpha() == True:\n",
    "            if character not in frequency:\n",
    "                frequency[character] = 1   # dictionary[key] = 1  == (adding value 1 to the key in the dictionary)\n",
    "            else:\n",
    "                frequency[character] += 1\n",
    "                \n",
    "    #frequency done\n",
    "                \n",
    "    min_value = 9999999999                     # supposing a minimum value '999999'\n",
    "    for key in frequency.keys():              # dictionary.key() = the keys from the dictionary.\n",
    "        if frequency[key]  < min_value:     # frequency[key] = the value coresponding to the key\n",
    "            min_value = frequency[key]\n",
    "            min_key = key\n",
    "    return min_value, min_key\n",
    "    \n",
    "    \n",
    "                \n",
    "            \n",
    "    \n",
    "    \n",
    "    \n",
    "string = 'I would like to eat 3 fruits today.'\n",
    "min_value, min_key = min_occuring(string)\n",
    "print(min_value, min_key)"
   ]
  },
  {
   "cell_type": "code",
   "execution_count": 91,
   "id": "b6152b45",
   "metadata": {},
   "outputs": [
    {
     "data": {
      "text/plain": [
       "'DogS ArE VerY CutE SmalL AnD PrettY'"
      ]
     },
     "execution_count": 91,
     "metadata": {},
     "output_type": "execute_result"
    }
   ],
   "source": [
    "# Write a Python program to capitalize first and last letters of each word of a given string\n",
    "\n",
    "def capitalized_words(text):\n",
    "    \n",
    "    updated_string = text.replace(',', '')\n",
    "    list_string = updated_string.split()\n",
    "    \n",
    "    for index in range(len(list_string)):\n",
    "        word = list_string[index] # created a new variable with the word corresponding to each index\n",
    "        list_string[index] = word[0].upper() + word[1:-1] + word[-1].upper()\n",
    "\n",
    "        \n",
    "        \n",
    "    return ' '.join(list_string)            # in order to return a string instead of a list, use this method\n",
    "        \n",
    "    \n",
    "string = 'dogs are very cute, small, and pretty'\n",
    "capitalized_words(string)\n",
    "\n",
    "# when we have to  modify a string, always go through indexes"
   ]
  },
  {
   "cell_type": "code",
   "execution_count": 106,
   "id": "790118d8",
   "metadata": {},
   "outputs": [
    {
     "name": "stdout",
     "output_type": "stream",
     "text": [
      "2\n"
     ]
    }
   ],
   "source": [
    "# Write a Python program to count the number of strings where \n",
    "# the string length is 2 or more and the first and last character are same from a given list of strings\n",
    "\n",
    "\n",
    "def count_strings(text):\n",
    "    \n",
    "    count = 0\n",
    "    \n",
    "    for word in text:\n",
    "        if len(word) >= 2 and word[0] == word[-1]:\n",
    "            count += 1\n",
    "    return count\n",
    "            \n",
    "\n",
    "sample_list = ['abc', 'xyz', 'aba', 'a', '1221']\n",
    "result = count_strings(sample_list)\n",
    "print(result)"
   ]
  },
  {
   "cell_type": "code",
   "execution_count": 1,
   "id": "489a2160",
   "metadata": {},
   "outputs": [
    {
     "data": {
      "text/plain": [
       "['a', 'b', 'c']"
      ]
     },
     "execution_count": 1,
     "metadata": {},
     "output_type": "execute_result"
    }
   ],
   "source": [
    "# Write a Python program to remove duplicates from a list.\n",
    "\n",
    "def remove_duplicates(items):\n",
    "    \n",
    "    y = []\n",
    "    \n",
    "    for value in items:\n",
    "        if value not in y:\n",
    "            y.append(value)\n",
    "    return y\n",
    "\n",
    "\n",
    "x = ['a', 'b', 'c', 'a']\n",
    "remove_duplicates(x)"
   ]
  },
  {
   "cell_type": "code",
   "execution_count": 3,
   "id": "a5488753",
   "metadata": {},
   "outputs": [
    {
     "name": "stdout",
     "output_type": "stream",
     "text": [
      "abcd\n"
     ]
    }
   ],
   "source": [
    "# Write a Python program to convert a list of characters into a string. \n",
    "\n",
    "\n",
    "def convert_list(letters):\n",
    "    \n",
    "    new_list = ''.join(letters)\n",
    "    return new_list\n",
    "\n",
    "\n",
    "list_characters = ['a', 'b', 'c', 'd']\n",
    "converted_list_characters = convert_list(list_characters)\n",
    "print(converted_list_characters)\n"
   ]
  },
  {
   "cell_type": "code",
   "execution_count": 20,
   "id": "8df35375",
   "metadata": {},
   "outputs": [
    {
     "name": "stdout",
     "output_type": "stream",
     "text": [
      "10\n"
     ]
    }
   ],
   "source": [
    "# Write a Python program to select an item randomly from a list.\n",
    "\n",
    "\n",
    "def random_list(items):\n",
    "    \n",
    "    import random\n",
    "    random_item = random.choice(items)\n",
    "    return random_item\n",
    "\n",
    "\n",
    "list = ['a', 2, 3, 5, 10 ,'abc']\n",
    "random_items_list = random_list(list)\n",
    "print(random_items_list)\n"
   ]
  },
  {
   "cell_type": "code",
   "execution_count": null,
   "id": "9c8d9089",
   "metadata": {},
   "outputs": [],
   "source": []
  }
 ],
 "metadata": {
  "kernelspec": {
   "display_name": "Python 3",
   "language": "python",
   "name": "python3"
  },
  "language_info": {
   "codemirror_mode": {
    "name": "ipython",
    "version": 3
   },
   "file_extension": ".py",
   "mimetype": "text/x-python",
   "name": "python",
   "nbconvert_exporter": "python",
   "pygments_lexer": "ipython3",
   "version": "3.8.8"
  }
 },
 "nbformat": 4,
 "nbformat_minor": 5
}
